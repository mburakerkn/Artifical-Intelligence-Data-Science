{
 "cells": [
  {
   "cell_type": "markdown",
   "id": "70e57676",
   "metadata": {},
   "source": [
    "WEB SCRAPİNG\n"
   ]
  },
  {
   "cell_type": "code",
   "execution_count": 20,
   "id": "914ea10b",
   "metadata": {},
   "outputs": [],
   "source": [
    "import requests\n",
    "from bs4 import BeautifulSoup\n",
    "import pandas as pd"
   ]
  },
  {
   "cell_type": "code",
   "execution_count": 39,
   "id": "96cd0014",
   "metadata": {},
   "outputs": [],
   "source": [
    "url=\"https://www.arabam.com/ilan/galeriden-satilik-dodge-s100/cekme-belgeli-4x4-lpg-li/19699655\"\n",
    "#url=\"https://www.arabam.com\"\n",
    "response=requests.get(url)\n"
   ]
  },
  {
   "cell_type": "code",
   "execution_count": 40,
   "id": "1b611b95",
   "metadata": {},
   "outputs": [
    {
     "data": {
      "text/plain": [
       "'too many request!'"
      ]
     },
     "execution_count": 40,
     "metadata": {},
     "output_type": "execute_result"
    }
   ],
   "source": [
    "response.text"
   ]
  },
  {
   "cell_type": "code",
   "execution_count": 32,
   "id": "a1e62ecd",
   "metadata": {},
   "outputs": [],
   "source": [
    "soup=BeautifulSoup(response.text,\"html.parser\")"
   ]
  },
  {
   "cell_type": "code",
   "execution_count": 33,
   "id": "52f0dd64",
   "metadata": {},
   "outputs": [],
   "source": [
    "soup.beautify"
   ]
  },
  {
   "cell_type": "code",
   "execution_count": 34,
   "id": "dee6e128",
   "metadata": {},
   "outputs": [],
   "source": [
    "container=soup.findAll(\"div\",{\"class\":\"showcase row\"})"
   ]
  },
  {
   "cell_type": "code",
   "execution_count": 35,
   "id": "df869dd0",
   "metadata": {},
   "outputs": [],
   "source": [
    "fiyat=soup.findAll(\"div\",{\"class\":\"price\"})\n",
    "sehir=soup.findAll(\"p\",{\"class\":\"model-city\"})\n",
    "yil=soup.findAll(\"p\",{\"class\":\"model-year\"})\n",
    "model=soup.findAll(\"h4\",{\"class\":\"model-name\"})"
   ]
  },
  {
   "cell_type": "code",
   "execution_count": 36,
   "id": "2a7d2e71",
   "metadata": {},
   "outputs": [],
   "source": [
    "f=[]\n",
    "s=[]\n",
    "y=[]\n",
    "m=[]\n",
    "columns=[\"model\",\"sehir\",\"yil\",\"fiyat\"]\n",
    "for (m1,s1,y1,f1) in zip(model,sehir,yil,fiyat):\n",
    "    m.append(m1.text)\n",
    "    s.append(s1.text)\n",
    "    y.append(y1.text)\n",
    "    f.append(f1.text)"
   ]
  },
  {
   "cell_type": "code",
   "execution_count": 37,
   "id": "6df9d8b9",
   "metadata": {},
   "outputs": [],
   "source": [
    "d = {\"Model\":m,\"Sehir\":s,\"Yil\":y,\"Fiyat\":f}"
   ]
  },
  {
   "cell_type": "code",
   "execution_count": 38,
   "id": "430d9c77",
   "metadata": {},
   "outputs": [
    {
     "data": {
      "text/html": [
       "<div>\n",
       "<style scoped>\n",
       "    .dataframe tbody tr th:only-of-type {\n",
       "        vertical-align: middle;\n",
       "    }\n",
       "\n",
       "    .dataframe tbody tr th {\n",
       "        vertical-align: top;\n",
       "    }\n",
       "\n",
       "    .dataframe thead th {\n",
       "        text-align: right;\n",
       "    }\n",
       "</style>\n",
       "<table border=\"1\" class=\"dataframe\">\n",
       "  <thead>\n",
       "    <tr style=\"text-align: right;\">\n",
       "      <th></th>\n",
       "      <th>Model</th>\n",
       "      <th>Sehir</th>\n",
       "      <th>Yil</th>\n",
       "      <th>Fiyat</th>\n",
       "    </tr>\n",
       "  </thead>\n",
       "  <tbody>\n",
       "  </tbody>\n",
       "</table>\n",
       "</div>"
      ],
      "text/plain": [
       "Empty DataFrame\n",
       "Columns: [Model, Sehir, Yil, Fiyat]\n",
       "Index: []"
      ]
     },
     "execution_count": 38,
     "metadata": {},
     "output_type": "execute_result"
    }
   ],
   "source": [
    "pd.DataFrame(d)"
   ]
  }
 ],
 "metadata": {
  "kernelspec": {
   "display_name": "Python 3 (ipykernel)",
   "language": "python",
   "name": "python3"
  },
  "language_info": {
   "codemirror_mode": {
    "name": "ipython",
    "version": 3
   },
   "file_extension": ".py",
   "mimetype": "text/x-python",
   "name": "python",
   "nbconvert_exporter": "python",
   "pygments_lexer": "ipython3",
   "version": "3.9.7"
  }
 },
 "nbformat": 4,
 "nbformat_minor": 5
}
