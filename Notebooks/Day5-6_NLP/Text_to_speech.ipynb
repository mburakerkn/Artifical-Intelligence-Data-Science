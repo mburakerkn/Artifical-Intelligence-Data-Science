{
 "cells": [
  {
   "cell_type": "code",
   "execution_count": 1,
   "id": "77f70fa8",
   "metadata": {},
   "outputs": [],
   "source": [
    "#!pip install gtts"
   ]
  },
  {
   "cell_type": "code",
   "execution_count": 29,
   "id": "a83beaf5",
   "metadata": {},
   "outputs": [],
   "source": [
    "from gtts import gTTS\n",
    "tx = \" I want to play game\"\n",
    "ou = gTTS(text=tx,lang=\"tr\",slow=False)\n",
    "ou.save(\"ou1.mp3\")\n"
   ]
  },
  {
   "cell_type": "code",
   "execution_count": 30,
   "id": "db531612",
   "metadata": {},
   "outputs": [
    {
     "data": {
      "text/html": [
       "\n",
       "                <audio  controls=\"controls\" >\n",
       "                    <source src=\"data:audio/mpeg;base64,//NExAAAAANIAAAAADSVEdGQzOOljtI3KASENFdtfcuH7dSMOw5DO2dtfct/4fjcvtiEREL/3d3dz/93dxAIAh+U/wTD////BD/EH/8HwfUwEOjZQUVi9xojQ1mJQ5LA//NExFMQoN4IAVgYAIeDno6Hqb/NoGjCwfSZNw+MY4MSL7rTcNjAgAACKAbteytvgDNxlAwQRcw/V8nybN0jQv/+3FJicy4mQwiBX/+35gaBlgQUFKEKXSJjS///24go//NExGMgOypIAZugADsHeUCIGxcZZupD/////LhpJsrkmmmLLLZcEpkuaLTMJaDQcRLA1oLjPwaA0Bi5m4bP5O05vmJwBD4kIHFOsxgwI40WAHOFhGA0R3rwqUf2I4kP//NExDUd6tqoAZpAAF/p365GtUyqZEtW/hKAuKNEWKAqJkWa43+0MP9KUwtxJLcKKQIo0t3///YxJi//xzRM/////////MXLHwJQJ5FwQG37X12khQUDzyOUM9MJs2HA//NExBAV4cKoAdk4ANPa9P/jJJHll+6antVTxJYSzh1hwXATEYIxYE0cZp36rt9UsqmbIVMnMciou7U/+vMdEcfteBzBJ7lf//03E1jARJnCEoUidf/VWOFQc5Un1qSu//NExAsVCcKoAMrElB0lAOl5My/6Q2j+++CgE8/fplC3wPIOGnGtZbL+in81NHfzM7qqAx77r5fT2e1CuWckUUPnzqRE0////uQQOtEQqbYLmD5IJoSq7/cbijZ7NtvU//NExAkUouKoAMqEuaeCHbERILEkG+YkYEhI2TqBeLBt4ki2caQoDcL3kq0///uZ5nIhmUdG7Up/v0KiMpxanJKyELe///////0+73TaQh2Qb6M3F8GKzw3qhegG/MEt//NExAkTkvasAMqEudNerUwMLo+d+FEIuuVESFg1XQhEwmONQmFYFa+d+a31f5n1etUX9v/vs5bhCjsZhRhapSn///////09ERFOzHsrCM8duWrdn+ZTiNZPiH8oC96i//NExA0SCcaoAMLElK8hhse4Apb+Xjbf+QQO7c9sjyXxf8fv+b5jv1CgB3E1Rk9P1bu6HmMiqw5AM1uV///8qNoKKCxpKBq0VdWP/UySVF8W/oKlpVYmB0kQrS4+s6IM//NExBcRIcKsAMNElHbLSgdguCaLqRY39Tt//+hvlEnayV9H+urXc6IhCKHMlUI0Uf//+M1Tg4wQ3qVS+bgUAgi4EQMDjF0UwPhS7k0EYZ1IKMgs00GOE0ZgV8uGy13J//NExCUSWu6oAKNEud///q/T9SL/+T8+RHQKZzg1Yeq09Kf//////p/MZzv0cM2nuurLDW8KcYBC4F5KkknzRMFVkm3KAjt6jqUMYI1mBqZBsGb6lu31t+/1f3brY1Gb//NExC4RCT6kANTacB0voMiYGxEeJAEkKNR////1XD+OWstVpsf59YQZAbmrWeK3Mio6GRCs8NsBFGx9jpsEkBI0DWmamBakkq8xW3r/f93/Vj7Ci0ptq6N4RRThwcOB//NExDwRWZacAMtElJXo6f////vtRUqkor9LaYiG5jYL3ytu1Ato/Bz3f3x0DQNps5bzdR9wOJX1DUrdZCQNwFFlth+ft/fI/98/KYJmWBiQCS080NEQZLNErl1K9Oua//NExEkSAUaMAM4GcJbasOGIDQ65lIhjchgqnMHBZUjr3oj6VS6oW+XZyDAEhJtd43qxwuGA7BMu67wMl9tRfk3d/tqzO94B061EnNWV0F/GAyEqBaVm/8piDOAdItIt//NExFQQKIqEAN4eTU7e3tDSWw+/V7USY1C4Od2dFpx19vMQ8KOB1YWKFQgHyqhIUcIFA/Lg+oCAAMBAHz5k5u/Xb1LndXa0BkMV75Vq1LG4ghsJXGbzFulLnHEY5lPf//NExGYSaKKMAN4eTOwYKClAr94XsLtPDFjPPKvnhz/3+e3J02/6LOdtCs6M9XcETDAibDH9VQDHVaa/rvIbMkhHocUqPXKm4mphiz1lU5UpI2ByTOInLaJr6HAM/psx//NExG8SCW6gANZElBo9y4wx4WEOQ6mNZ/UODybq2r9id1hnzPcr/KV2k7w8sSXq0SzYHgWmaQMrAvNgjaJ8YURIEZQkO0moVH7VfBmEav+GeVekJS2oXTidkjhPVnYv//NExHkgmiKYANaSmP/9UvrSkgw0wyrKe/KqzIwVQORTuUAzrvm+Vp9xnGg42E5wVXvI88UuFCR2oTWZmQzrpBXAJBZbK6OH8W2UJyvbt4xLn44c3HOf/mE54/tnpvH///NExEkhaiKUANaemNXNbdXtkebA1mZmshidDHjsUu0JZBNXNkc7R7tF5oX15s0/rFjStltRWWG1SP6wNPZIkGFo9//+juryMJ3WG/rwAF8hoinryjb4GDo/BWMmWbgH//NExBYX8f6gAM0amTsmpwzGcANGgbg2J8KpdNR4BJEKTSNUyXTIGKp95m3zP9X1q+dLVrzEKAeRwqOGxuJQbGRfJ4npqI0fSZBRxP6v19a0UFqmJo1ldPoCcwdA+mUE//NExAkUiYqsAJ5OlImQF8kFt8/s2HAX+Z7p0ZQW/D8bvRqmRmDl3zz/LcpeTn//4/z/r+a/yjaFRGADDY6YWGwKA/DhQaVLBCUNB8iHe7YdQI2qAYoqq50IBYOSPLCB//NExAkT+Y6oAKZWlEwIIQLF7WP9uCqCkOZfXZQY0YZHcxu4130Rrod879PFP//9G//S//r/91f8JxNOSRD4tOqoO4Dq6FIHx5ECO8AhFLtNF01X7n//msCNwosKl2sO//NExAwTsZqsAMYKlAy71nX6xXkX3e/nZTGWekrkgLeWc0+xeJk9/n83Gbff/7H+7f/u3qUxCucgGDofBxBoYPDgoofKYVOJgxT+OFHqHE3vP3qVpkALPbE93J0T4kZM//NExBARaaKoAMRKlP8yCGB21mRsal0fgsyVkJqfIqGXi1uzsb/v9F//Qv8cSUrzDBZUocVEVKodDB7XHtiJVjkvUuWt7yiIVWHdShAJlL5u9bUOA1ghUiy5leTmRShV//NExB0SWPKMANYQcMv89uyCzrfWYoOgNBofJy5QjVHxcR8Til5Q/i52p6iMOwNPAyWEu+tQpkUyVYXTdlLtz5gQp6/jI4uhTELEON4DJlvAqDoaquktB18HUDUIBW+W//NExCYQsU58ANIElIh/Wyo7nSEQdt//o8xoM6499b0Oucxnf/////xdf1b1JGqFDqZjZxLjRKsKssKeSJcVGjELXMBXUPy5fchje6M0aDEpmDrNEsQpBUMioiAvU99Z//NExDYRuLZ0AMvMTNIu9x2OKyRIGjwd//////tQNHCBx9YsQXU3dilA40BNOoT0VAOQ3CCqSiSisujmatLjonLqOATLIovOUdOa2//XkiGhEWLP98tDS3MWdf251N3///NExEISGOZIANMMcP/U///1PVUBogVkEYZSyrTJzz16m+sTIAlOMSZgm5xWscUkVT9jhVusmWdU/ORVVD48ZV2Pn0iTaOIDrkUUNVbQ9jj6EfSulVw0qJDXB4S0/+QL//NExEwQIDIoAVoYAFEiQsX/eOB12o3cL2SxKEAA2go/JhKLKANoK0sBOfl9zdJAdxaViZEj+g1svlwoEAkByf00kC4s3NxrEmHCA3xChxDm/6v9MlCUMRzi0EvGDAmH//NExF4iIypoAZhoAP/dP97hfBMD4+DwHOMObheAtBQG///9//5JkgYDjcZYlg5BzBeDUeImZfUXhoXu5s0wx6oiHIv7v3v53/+///Md28eX3J/Zoz/999v9/9brfszd//NExCga8xqUAccwAe6Z8Z72mMTv5Gc+XlQRERCG/8u+gQXrsYQMY3TyZMmxCJPPSvNp2RIRb7brgz42QxWFQjDHnrKjLJpyMQ7nkCAhAgyBCbm/////5f+Wf/PRf//h//NExA8RkxKcAChGuall9Iul/51Stq8jM3Axrn6/qJUSSqqhRIJtmY2aqFY6UZjrMzGzf/3jN/dv6FAQFSUKAmpaiVUVOCgmkkm1aSSXRRb/Rp/Qz+Y3upS///+rczGN//NExBsS0h5wAU0QATGMY3dSoYxS1KhjGKxS1LmNUqGNM/sGMwNigpsV0IKBRXRX///eE8FBmwX8YQ07QxV3GqZh4SK2p+hdPN78OtpPf3Kabui+0Tmp0MtKl//ZheLq//NExCIa2yqgAYlAADvkby/06ByUjHjrMQ51F3uE/8GhDg+OFIoeK7iociAUeX////jVakJPmO7EYtjB1CKl0N/////0qpRquJt6TxiCrHzclFqQHIgKOLrUoAIEIB43//NExAkSuaqwAccQALUMNs3Rn2XmznRlQvroRttnzNSVvmZCIqK6UlsrjMoKZRzBxQiKd4UMidNky5ZZ+47iWKnbOdUHcJ2RcJ2AZqCQK8d5fqChCAD2Q4ZyXfi0t00o//NExBESQZKkAMxElC0xeUyHBkoA/GTMj1ZoUzdNE1SZTvRRRq////UqvYQZ0tXR+dJVM6CTFQEH0PYb1bqv/X//qFYYt39b1ToEDR6BYQ6EMSKvSxQGwaW1OUTca4Dp//NExBsQ4ZagANTElILCSMazJzif1Jf////t+FFJc5WBN7IB3UgMBOIbOgex51+j////Ye6FopFewsLAGEHAjGEiVBE4r09LkyANIhik4msgApgC0w5h8rmiRkswLdBL//NExCoSYZqQANTElK2+i35f/8z13QGJBKW1y7oh2DOyVOJTKnr/S7////6FAw8PP7SLmBJx1+ANYCBuWXJbUV0WE9kc1OT0npigKQDUcqQV7rWcPnKCNQpQoluhf2+X//NExDMSkTpoAMvEcClfmenXCmQWBpTwVDp1kJgIO/TiXU/klTSyAtYVAWFf5R1YGbdwCDwWBHkaOLLiwJEYZSkioGg042dLHXGHmiugW12qdqPodm59tn/RMi49rP4A//NExDsQ0HI0AMmSSNrSLuPs+L3E1RO08kkaldNecaDY3eyAqyKXCoIanBOwLj3R3F6X1jkvaKSQsKK1Xxq3qcKUtuRVEuBXTFiO94UEfqYZF7w0lcXniKoIIGsArMRh//NExEoQiCooAVkAADvjoOTKD2KbR7atzDLbruQut1sDYgLVgMGihdDSAPchhNlFXd6qhxlwnSsOD90bPIgYE4ThTK+9TVPQWyhbxlC0LgI8iY41o6N+tlrXXLBEBkCH//NExFoiAx40AZuQAZJjJkwThEK17VtvdOl2s5Nm47zyZugyDMf0F6qHr9kl0dnUt+o+gxoTZuT5g0EscEfUZKRcRH0Ssd5qCy0nqiDRoiiEUHZEwgdzhDQXDkpPiRxx//NExCUbywqgAY9AAB2eKl9Tf/UOZEpeqrH/5hA6BRQ8RyKsOiPRO39kvg9LgWFzxBNFSRTio/7r0aiHqpcnUsZ02SbV0T/vz9//5/1c3Hx9/SzROfPV1atPj3kpYsbs//NExAgRqSqkAdhAABEhrkUlGoIcSWZ/rduper18r057kDzig8BoIIRh2dE6MlX9/KVx99//pIp29YEG6Vn1Data3uUZQf/////TUq3/3UbFADiXYpMSKnonjLxGa/8S//NExBQVMcqsAMpKlDHfH5EbRbXvlBOzK8yCglZ3EGgG67HEx7dCDTKMZAOEAxN9V7E2WRGuyJQhBdRjDXOyCYqqITRij////fUUW0+q7Yz5fsClCIUBvrJMRhgIUCgk//NExBIR0SasAMtMcGPtWZiYnus6SrbOUvc/c4SjjPFgFX+s8EtnWo4K1tYtQosNCoiNyz/wVdI1pBVZ5T/////66sMe/xbRU3s1pu0cDtYGh2ao0ct8Bw66euqCjn7u//NExB0SKbaYANFKlLr/WbqY4dIKiIIAYBAGFDw4Koxxdn3kR0OtT3uomZHIYXArDooRT////+hd/X6uvgMxTeHOyZBOaIL5s6DAJ8Igdego3uT4fP4mYcSowABTUsQZ//NExCcSEcawAMlKlIyCwEA7ogwJh8XVYkT3dPMIN4fA75DAIKEVD8uf////+tVbbGIAq2rQPhJoF5ELRoBzdTw0vkvsW+W9BaEo6x5QJAVDXWRgiiL/uNaksuzrv4vv//NExDERmdq4AJnQmOVr/50ms3V1xi1MXj2cYFi7P////Uq3OgGGX0QgiD5K8UG8uH69ZQ+Sfzr/EtWPQ44ICzqYcF2qVUPSs5HPCkMu8jzdVr19ShIjaD90SajYAMqQ//NExD0Qyb64AJtUlO/////W5FW2s4EJUHsVxGoLuKro48A/0A5vQj8g/lSfwgdaoYBldlqcZlqpMTS2ppgSaC3Wxq9es/3c5rXUedNBBRco1MmfXQ3/////qfUWQEhE//NExEwRsdq4AJnamNTolAECQFgxqc0fAO+TLehP4q+oz8H6JOKD8KDpMtQ5XprYuFPZZWJ017Ex/Uf1Ms37SYymsok+ipj70WWbGan5QAGEml5YAegE4G5lh0GN4V/L//NExFgRMe64AKHamPx36l/UabTw9kLdv1Ane3eHq9sNBeWq25hv8cuv/VZPESb1bk7eXRuqXW2GSnT5H////09K+XwXESbXLoBpQ0Ets8YCt4CJ8f6iz+NT4K2iAPYr//NExGYR6e64AKHWmFZQGTJbUCBOdy4RbOfqkd99Qjf+m2/izKK5odhsyNyZY/iZNKTFP////2aa+XQFMHtIsglcnUlzgn+cW+S9R1/Vfjdug7hlskeWTg2j3UNRdXqS//NExHESYe64AJlWmBLjVSLUS1nUqav5i7NqLqmVSLTzus6iaPsxnzrV9ZeA6VO7E8Hqips7VGeoTb1b4x/E3/1v5geCGvdQoAEnfhUu3dybj7TWMTKl/nTf/vd9aqVu//NExHoQ6e64AJnambbnybNOaxMYpZA7Z/////LR6r1mANRA5An7JngF4J5fBiW4Mz+X5y+rf1r+Sq/QHxHYZHYBE6QgJwa1fIjgtEVuSRZo/Nv5yzavpQ+HCxaliEFV//NExIkR2dK4AIlWlIoHXH////XVy/G42Mxc0xglvKWZjDWDFB2O5lGuoqtCDQK338repfm+I5H+QhDSIqURskJ582Ugs0itUlISWOf2hzPHJS33sY+6RNKzj5TQ5sbQ//NExJQSCcqwAJCQlKKIdcFlYM9bSkyQCRD7BZM9g5BK0KmAAyMCCWdVG4q0xCd1Oy3GG3m1qp/d813FVojKatP/qxa0YSKMDYdAYwCihoCsZ1f8lQn/b6+/+jWqTmLb//NExJ4UAd6YANFSmaG6c6FB1CBRiyBZgeALdjA8KzFMNgcCzX32LOA4JC+UPwJONle6m5hlier0o1X3Z7//ouSzxYQccLWs//u/9P69FTDYWN6UIHCA46ygAKzRlnM+//NExKESiSpkAOYKcIKAwwMgA4xEATCIvMCAYqgxkhAEEzWNqMBMCEURPzyyWJIwqdmbL5fUm+/Z7oIJm9FkTi91mVIkCgkJILSvukautuMAakuFULpLheP6lfqeUJ0l//NExKkRGRJkAV0QANzckB4HK/v//5cZJCPAzdjNyX9X+///6SBumGe4AAFlwULXgSEfUwcN15GrRArS2bRmvf+dzSL5uvlKRVh3bhv4qYm+7njlpFY6lWaYFA56G0NJ//NExLcgswJsAZxoAVHyz0HgrKmMSA4WEoeUOhLaULEdFHWNcVGiIHBsqwqJXx42RV7qR+MUHzgbmDS5jGCgjDTBOLBzZ4o8x8dV+8/6jVl3m+fv+Hkz/iUIGN9uv6ka//NExIcgeyKgAZpAAWlmTxRKjuTYEPKyZB35qWX/1+qf/+ov6OvV/f7+IndkYAw0TCzMISMiNoOFzmEAZnMwmJCKGFGGqcwiYRPDqEKJi8Kg4CTBwRBAUMg+a/9H48U8//NExFgXEcKoAdkoAG1tiuTqt5ZYxoKEBsPYv4ysGWBpu/GbFALklzgiIeKiHQmY3L+qePDcw1NWCWvuiZDS8pXcshQ23PPEzqVIO56+thOUmI70OVnsu1iYlT38exrX//NExE4Zig6kANHYmHen5ftbOgmt8m0NYqf//V0pGRSwkoVQD1Xf/uoWEhrLuu7Ecg23YvUAcZA8d7Nyev2U3R+uf+FYqnY9PXmCcNZ1ZlnQ3rtAtBEMpWkeSynO1KZc//NExDoU0YawAMtWlNuNwIJxGDwgBRjRM8SE1CADgEPuMf///+VVtqCCAdWswAhwI2MdYQZG8az3WP/yYj5g/Ugv/JLLrjeC5acZMDzbzSHm12ppkO1lVB9av2VVXxfb//NExDkRYbK4AJNWlaGO5ZSO7kdWkPDV+cX+a+gGGmTZ83BhDBGLfqgFg1fjnx58v6P6P/ja5qRDD4b5ADBPk1Idm6VQg9xoHFk7QSvdwu88GwFEHmXsUlRhMUf///1K//NExEYRWZq4AMqQlOmRgFbB9E0FD+BneJifzMN5DqLfMDX7+p/V/g3/F0axo0GgRVMRJTjbYQBZ3YZZN1lsPpNSq0ly18gwfmgeCRcCMUXI6P////6qx/eURMr0ge/l//NExFMSYa64AJtQlBgF8zy9RFFC2gbdZ9vS9X1t1v6hTlVEVibVZYQGqjfI0N1bCN+zbR4+UepKo5rG5WQyGb5/d9Tz+K9PDXCq/HvJUeIsXv/dIGF7Yxno8B8KV+Xf//NExFwRoeq0AMNSmZGSt///+7/x73XKJgFLxQ/O/PrfrEK7ywydgo83PkW8FlIpxXlc5lT/PbkRfdFV3rvIbOuJRmXy+UCKoo73hqAiJ81yEp41fmdTzm1PasgbEwWH//NExGgQya6wAMKMlWIg9HEILAtFXyBtCvaUqxN18qbXxB17UzPDILHcLzfQ07/WIpWAI1VfoMABwYJKGForS+TIIAXMCpqnKwCijfCu9XLQM2/tLlZR4OqYOWSfO8tX//NExHcSEZ6oAMqQlexZfo6nNdi1AkWB3TorcdOm3hIj/X//////WpV3njbsVAUL0hi2GWeSfgRnJqwi8Ignm4FSM+sPMRFOL/e0xW5bmmAIoqRus/atZ/8z2hpHicBb//NExIESUQaIAOMMcD+WeuafbX/vV/////Sp8spu1q0nKYPMh3sgCxKaA3xCDAgxKSEuplrYtIrHyizsHRaTLOahBBIPiMaty7ffMPcPMWPUiRNsd++gaJwRm6+t3/////NExIoRmPp4ANrMcP//+uodAHkdleBkTMfCRIB24P+m8NBUvxUBRLSKIOE2pbOU441rS5HZ5EJcrL/a5b/v0fq1Q8gyjqNX/0LNvDLJbc3lVilaLJUJoybHA0hyawHG//NExJYRkQp0AOJQcMyFTWmdJYw+CIpZWFSFJE1ZCys2imhSRbObWmolBS2JT6p5n/+nIoyRRKqBqz1ueWWCpZGJYd/6v//9f/9KJQckQEgqLp6OJoe0fFJxGSiITVyw//NExKIQeQpsANpMcKlyWU43UvHPX1WNYbWATnQ0CgVGjH1gIGhEorGgINHksw630SyAo+rHnfPSLX8ld//Z1wEjUIY+EYdQbByKhqFZIE4sJgyFgVB0YIyQ2ZRIVlk1//NExLMSqP5QANpMcCcJkfMjVlDAwYRyNWChgQMEzILC4qz1iooJDQFFRYPGlijf/2f///xVTEFNRTMuMTAwVVVVVVVVVVVVVVVVVVVVVVVVVVVVVVVVVVVVTEFNRTMu//NExLsR+MnsAGJGcDEwMFVVVVVVVVVVVVVVVVVVVVVVVVVVVVVVVVVVVVVVVVVVVVVVVVVVVVVVVVVVVVVVVVVVVVVVVVVVVVVVVVVVVVVVVVVVVVVVVVVVLcTkawRg//NExMYSMOFYAGJGcDjKo4TjVjE4qMQEI+CA2aDYgKmiQjWc2vJhGkyBhBIgDBKLCA2EAAM0BsILJIyMBTyBgsjulIWQRkcj/LCyKeCkv/syFkFSpH7JJ2dkdFtlkdmt//NExKwAAANIAAAAAHNsyEVr//ZGrllTP9a7OjvQ6TNcAYtJ525lxFvqxLpf7UEvA77yQppoKgsNkjSaAlFRDBEVUbZVg0hWnFJG2Za6pY6o3usoiFa5sHjRlqB5hMgh//NExKwAAANIAAAAAGUaKAynpIiSI1iaA8OqzDzCaFucacW31SKU7FoJqx2LKuPtTT9rzd7s7b8yprvFxms5Tw/qams3FrzYuLi3Ysp2epmprNUthQYI2C3oYr2Bdpg+//NExP8aANGwAHpGcVMqR/Ej0OUHHI1ZQUef///2Wy///kasoIFZZ9kqGRq1s+ysDBoHjXMgsLCrMUbireL8W8Ubs4sLs/FRTULKGOOQOREj1o9gZNQ39mCJfdMgBAYu//NExOoi4xXQAMJMuRcQ0SmhO9frwAEUATruYQRET65o8Qq/xziFXP3fQv4nf+Pon/1zif/X0TzLrnELiFu+hfEKue78Qq77u+iE6Ju7xEPRErubu5oACCoLmDFIggoL//NExLESGXGkAHjGlIiYzbQzSRmgcqfhmdps4yuFTJE1cEUyJpVmWoWVkOb6RPISWasYxoiaVRPjGMaRPWRTVj/UsWRTQx/pVgEal1qpT40Y1X9ljNVL1WBmql6rhmqr//NExLsYIxXYAHjGuPVJmOxm1WM3sxhQEgyrsBCqAiaqqQYCNQzNQoCTAQCsAgIwEBKFG6TIzzkQtAoUnVMNB8YIyQ27YSkasFDAwYIOg4kGRQWFhYWFQTAQSFxUVFRU//NExK0f+xnYAMJGvViQFCooLN8BCwuKmXc0Kigt+oXYZd/Q//ULKgAWAKwjaPYHAuAcNuX0wAIPenk9BAuHwfKDQ+XUGKj9Z+p3///ZU6t8o5ogc4TqcGC7wwUWfEC3//NExIARyIUoAHpGSAfKLDySgYSXPxOfgg6D71g/bSUiEhqSEqmrCcoJEzUkQqFSKUkQUijMkSKVNRxIOiEFQ0JQVPFgaesNf///+VxFhysNSwdlj0SnYifBp6wVlQ7L//NExIsSOFXkAHpMJAdiU7Er4iUdYwBYD5FzS6cZKXswBBYDXGc/TEHT3970xCuf1zRN0RKHHBiCBc+XD4gGvOA+UdDAn/59lTg/LqDCXFz4IRAND8HyhzLv1f/KcToH//NExJUSIIXcAHpMSGEKEVD9Wx6j4OBYYFw+eppWTnOdZqOYVkdwsHnv6d+XDhSlXq+bbyz9+p+c7r8bCx+zCxFV9/+21mz7MIE+QBIPPv+3f1CGGGd7uoz//PXdv2d+//NExJ8SqMnYAHmGcNHiIsncIX8ht2MaPL3rN/Wu/iHeDIe///Hu2i9aIe373sR7t7vYQB16WCwaaIRSSpCpH/sSJJGgwVYKE5VfuaixJLQWPVnangqVBUsHSodrBUAg//NExKcfIwnoAHsMuaiI8vWoOCI8JXf+WPAq4NapZ7evkepYaWdEWVUeKw0WTEFNRTMuMTAwqqqqqqqqqqqqqqqqqqqqqqqqqqqqqqqqqqqqqqqqqqqqqqqqqqqqqqqq//NExH0SgI3sAEmMTKqqqqqqqqqqqqqqqqqqqqqqqqqqqqqqqqqqqqqqqqqqqqqqqqqqqqqqqqqqqqqqqqqqqqqqqqqqqqqqqqqqqqqqqqqqqqqqqqqqqqqqqqqqqqqq\" type=\"audio/mpeg\" />\n",
       "                    Your browser does not support the audio element.\n",
       "                </audio>\n",
       "              "
      ],
      "text/plain": [
       "<IPython.lib.display.Audio object>"
      ]
     },
     "execution_count": 30,
     "metadata": {},
     "output_type": "execute_result"
    }
   ],
   "source": [
    "from IPython.display import Audio\n",
    "g = Audio(filename=\"ou1.mp3\")\n",
    "g"
   ]
  },
  {
   "cell_type": "code",
   "execution_count": 5,
   "id": "50ca2394",
   "metadata": {},
   "outputs": [],
   "source": [
    "from gtts import gTTS"
   ]
  },
  {
   "cell_type": "code",
   "execution_count": 7,
   "id": "82393ce7",
   "metadata": {},
   "outputs": [],
   "source": [
    "fh = open(\"test.txt\",\"r\")\n",
    "a = fh.read().replace(\"\\n\",\"\")\n",
    "b = gTTS(text=a,lang=\"tr\",slow=False)\n",
    "b.save(\"deneme1.mp3\")\n",
    "fh.close()"
   ]
  },
  {
   "cell_type": "code",
   "execution_count": 8,
   "id": "94c84e33",
   "metadata": {},
   "outputs": [
    {
     "data": {
      "text/html": [
       "\n",
       "                <audio  controls=\"controls\" >\n",
       "                    <source src=\"data:audio/mpeg;base64,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\" type=\"audio/mpeg\" />\n",
       "                    Your browser does not support the audio element.\n",
       "                </audio>\n",
       "              "
      ],
      "text/plain": [
       "<IPython.lib.display.Audio object>"
      ]
     },
     "execution_count": 8,
     "metadata": {},
     "output_type": "execute_result"
    }
   ],
   "source": [
    "from IPython.display import Audio\n",
    "c = Audio(filename=\"deneme1.mp3\")\n",
    "c"
   ]
  },
  {
   "cell_type": "code",
   "execution_count": null,
   "id": "8d0630c8",
   "metadata": {},
   "outputs": [],
   "source": []
  }
 ],
 "metadata": {
  "kernelspec": {
   "display_name": "Python 3 (ipykernel)",
   "language": "python",
   "name": "python3"
  },
  "language_info": {
   "codemirror_mode": {
    "name": "ipython",
    "version": 3
   },
   "file_extension": ".py",
   "mimetype": "text/x-python",
   "name": "python",
   "nbconvert_exporter": "python",
   "pygments_lexer": "ipython3",
   "version": "3.9.7"
  }
 },
 "nbformat": 4,
 "nbformat_minor": 5
}
