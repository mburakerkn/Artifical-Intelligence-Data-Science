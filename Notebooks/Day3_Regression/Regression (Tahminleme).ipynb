{
 "cells": [
  {
   "cell_type": "markdown",
   "id": "0cbbca64",
   "metadata": {},
   "source": [
    "# Regression"
   ]
  },
  {
   "cell_type": "code",
   "execution_count": 1,
   "id": "8cfc8733",
   "metadata": {},
   "outputs": [],
   "source": [
    "import pandas as pd"
   ]
  },
  {
   "cell_type": "code",
   "execution_count": 2,
   "id": "1162b682",
   "metadata": {},
   "outputs": [],
   "source": [
    "df = pd.read_excel(\"cars.xls\")"
   ]
  },
  {
   "cell_type": "markdown",
   "id": "3577f2eb",
   "metadata": {},
   "source": [
    "# EDA"
   ]
  },
  {
   "cell_type": "code",
   "execution_count": 3,
   "id": "856ce0b8",
   "metadata": {},
   "outputs": [
    {
     "data": {
      "text/plain": [
       "Price       0\n",
       "Mileage     0\n",
       "Make        0\n",
       "Model       0\n",
       "Trim        0\n",
       "Type        0\n",
       "Cylinder    0\n",
       "Liter       0\n",
       "Doors       0\n",
       "Cruise      0\n",
       "Sound       0\n",
       "Leather     0\n",
       "dtype: int64"
      ]
     },
     "execution_count": 3,
     "metadata": {},
     "output_type": "execute_result"
    }
   ],
   "source": [
    "df.isnull().sum()"
   ]
  },
  {
   "cell_type": "code",
   "execution_count": 4,
   "id": "6d4063ce",
   "metadata": {},
   "outputs": [
    {
     "data": {
      "text/html": [
       "<div>\n",
       "<style scoped>\n",
       "    .dataframe tbody tr th:only-of-type {\n",
       "        vertical-align: middle;\n",
       "    }\n",
       "\n",
       "    .dataframe tbody tr th {\n",
       "        vertical-align: top;\n",
       "    }\n",
       "\n",
       "    .dataframe thead th {\n",
       "        text-align: right;\n",
       "    }\n",
       "</style>\n",
       "<table border=\"1\" class=\"dataframe\">\n",
       "  <thead>\n",
       "    <tr style=\"text-align: right;\">\n",
       "      <th></th>\n",
       "      <th>Price</th>\n",
       "      <th>Mileage</th>\n",
       "      <th>Make</th>\n",
       "      <th>Model</th>\n",
       "      <th>Trim</th>\n",
       "      <th>Type</th>\n",
       "      <th>Cylinder</th>\n",
       "      <th>Liter</th>\n",
       "      <th>Doors</th>\n",
       "      <th>Cruise</th>\n",
       "      <th>Sound</th>\n",
       "      <th>Leather</th>\n",
       "    </tr>\n",
       "  </thead>\n",
       "  <tbody>\n",
       "    <tr>\n",
       "      <th>0</th>\n",
       "      <td>17314.103129</td>\n",
       "      <td>8221</td>\n",
       "      <td>Buick</td>\n",
       "      <td>Century</td>\n",
       "      <td>Sedan 4D</td>\n",
       "      <td>Sedan</td>\n",
       "      <td>6</td>\n",
       "      <td>3.1</td>\n",
       "      <td>4</td>\n",
       "      <td>1</td>\n",
       "      <td>1</td>\n",
       "      <td>1</td>\n",
       "    </tr>\n",
       "    <tr>\n",
       "      <th>1</th>\n",
       "      <td>17542.036083</td>\n",
       "      <td>9135</td>\n",
       "      <td>Buick</td>\n",
       "      <td>Century</td>\n",
       "      <td>Sedan 4D</td>\n",
       "      <td>Sedan</td>\n",
       "      <td>6</td>\n",
       "      <td>3.1</td>\n",
       "      <td>4</td>\n",
       "      <td>1</td>\n",
       "      <td>1</td>\n",
       "      <td>0</td>\n",
       "    </tr>\n",
       "    <tr>\n",
       "      <th>2</th>\n",
       "      <td>16218.847862</td>\n",
       "      <td>13196</td>\n",
       "      <td>Buick</td>\n",
       "      <td>Century</td>\n",
       "      <td>Sedan 4D</td>\n",
       "      <td>Sedan</td>\n",
       "      <td>6</td>\n",
       "      <td>3.1</td>\n",
       "      <td>4</td>\n",
       "      <td>1</td>\n",
       "      <td>1</td>\n",
       "      <td>0</td>\n",
       "    </tr>\n",
       "    <tr>\n",
       "      <th>3</th>\n",
       "      <td>16336.913140</td>\n",
       "      <td>16342</td>\n",
       "      <td>Buick</td>\n",
       "      <td>Century</td>\n",
       "      <td>Sedan 4D</td>\n",
       "      <td>Sedan</td>\n",
       "      <td>6</td>\n",
       "      <td>3.1</td>\n",
       "      <td>4</td>\n",
       "      <td>1</td>\n",
       "      <td>0</td>\n",
       "      <td>0</td>\n",
       "    </tr>\n",
       "    <tr>\n",
       "      <th>4</th>\n",
       "      <td>16339.170324</td>\n",
       "      <td>19832</td>\n",
       "      <td>Buick</td>\n",
       "      <td>Century</td>\n",
       "      <td>Sedan 4D</td>\n",
       "      <td>Sedan</td>\n",
       "      <td>6</td>\n",
       "      <td>3.1</td>\n",
       "      <td>4</td>\n",
       "      <td>1</td>\n",
       "      <td>0</td>\n",
       "      <td>1</td>\n",
       "    </tr>\n",
       "  </tbody>\n",
       "</table>\n",
       "</div>"
      ],
      "text/plain": [
       "          Price  Mileage   Make    Model      Trim   Type  Cylinder  Liter  \\\n",
       "0  17314.103129     8221  Buick  Century  Sedan 4D  Sedan         6    3.1   \n",
       "1  17542.036083     9135  Buick  Century  Sedan 4D  Sedan         6    3.1   \n",
       "2  16218.847862    13196  Buick  Century  Sedan 4D  Sedan         6    3.1   \n",
       "3  16336.913140    16342  Buick  Century  Sedan 4D  Sedan         6    3.1   \n",
       "4  16339.170324    19832  Buick  Century  Sedan 4D  Sedan         6    3.1   \n",
       "\n",
       "   Doors  Cruise  Sound  Leather  \n",
       "0      4       1      1        1  \n",
       "1      4       1      1        0  \n",
       "2      4       1      1        0  \n",
       "3      4       1      0        0  \n",
       "4      4       1      0        1  "
      ]
     },
     "execution_count": 4,
     "metadata": {},
     "output_type": "execute_result"
    }
   ],
   "source": [
    "df.head()"
   ]
  },
  {
   "cell_type": "code",
   "execution_count": 5,
   "id": "67839ac3",
   "metadata": {},
   "outputs": [
    {
     "data": {
      "text/html": [
       "<div>\n",
       "<style scoped>\n",
       "    .dataframe tbody tr th:only-of-type {\n",
       "        vertical-align: middle;\n",
       "    }\n",
       "\n",
       "    .dataframe tbody tr th {\n",
       "        vertical-align: top;\n",
       "    }\n",
       "\n",
       "    .dataframe thead th {\n",
       "        text-align: right;\n",
       "    }\n",
       "</style>\n",
       "<table border=\"1\" class=\"dataframe\">\n",
       "  <thead>\n",
       "    <tr style=\"text-align: right;\">\n",
       "      <th></th>\n",
       "      <th>Price</th>\n",
       "      <th>Mileage</th>\n",
       "      <th>Make</th>\n",
       "      <th>Model</th>\n",
       "      <th>Trim</th>\n",
       "      <th>Type</th>\n",
       "      <th>Cylinder</th>\n",
       "      <th>Liter</th>\n",
       "      <th>Doors</th>\n",
       "      <th>Cruise</th>\n",
       "      <th>Sound</th>\n",
       "      <th>Leather</th>\n",
       "    </tr>\n",
       "  </thead>\n",
       "  <tbody>\n",
       "    <tr>\n",
       "      <th>799</th>\n",
       "      <td>16507.070267</td>\n",
       "      <td>16229</td>\n",
       "      <td>Saturn</td>\n",
       "      <td>L Series</td>\n",
       "      <td>L300 Sedan 4D</td>\n",
       "      <td>Sedan</td>\n",
       "      <td>6</td>\n",
       "      <td>3.0</td>\n",
       "      <td>4</td>\n",
       "      <td>1</td>\n",
       "      <td>0</td>\n",
       "      <td>0</td>\n",
       "    </tr>\n",
       "    <tr>\n",
       "      <th>800</th>\n",
       "      <td>16175.957604</td>\n",
       "      <td>19095</td>\n",
       "      <td>Saturn</td>\n",
       "      <td>L Series</td>\n",
       "      <td>L300 Sedan 4D</td>\n",
       "      <td>Sedan</td>\n",
       "      <td>6</td>\n",
       "      <td>3.0</td>\n",
       "      <td>4</td>\n",
       "      <td>1</td>\n",
       "      <td>1</td>\n",
       "      <td>0</td>\n",
       "    </tr>\n",
       "    <tr>\n",
       "      <th>801</th>\n",
       "      <td>15731.132897</td>\n",
       "      <td>20484</td>\n",
       "      <td>Saturn</td>\n",
       "      <td>L Series</td>\n",
       "      <td>L300 Sedan 4D</td>\n",
       "      <td>Sedan</td>\n",
       "      <td>6</td>\n",
       "      <td>3.0</td>\n",
       "      <td>4</td>\n",
       "      <td>1</td>\n",
       "      <td>1</td>\n",
       "      <td>0</td>\n",
       "    </tr>\n",
       "    <tr>\n",
       "      <th>802</th>\n",
       "      <td>15118.893228</td>\n",
       "      <td>25979</td>\n",
       "      <td>Saturn</td>\n",
       "      <td>L Series</td>\n",
       "      <td>L300 Sedan 4D</td>\n",
       "      <td>Sedan</td>\n",
       "      <td>6</td>\n",
       "      <td>3.0</td>\n",
       "      <td>4</td>\n",
       "      <td>1</td>\n",
       "      <td>1</td>\n",
       "      <td>0</td>\n",
       "    </tr>\n",
       "    <tr>\n",
       "      <th>803</th>\n",
       "      <td>13585.636802</td>\n",
       "      <td>35662</td>\n",
       "      <td>Saturn</td>\n",
       "      <td>L Series</td>\n",
       "      <td>L300 Sedan 4D</td>\n",
       "      <td>Sedan</td>\n",
       "      <td>6</td>\n",
       "      <td>3.0</td>\n",
       "      <td>4</td>\n",
       "      <td>1</td>\n",
       "      <td>0</td>\n",
       "      <td>0</td>\n",
       "    </tr>\n",
       "  </tbody>\n",
       "</table>\n",
       "</div>"
      ],
      "text/plain": [
       "            Price  Mileage    Make     Model           Trim   Type  Cylinder  \\\n",
       "799  16507.070267    16229  Saturn  L Series  L300 Sedan 4D  Sedan         6   \n",
       "800  16175.957604    19095  Saturn  L Series  L300 Sedan 4D  Sedan         6   \n",
       "801  15731.132897    20484  Saturn  L Series  L300 Sedan 4D  Sedan         6   \n",
       "802  15118.893228    25979  Saturn  L Series  L300 Sedan 4D  Sedan         6   \n",
       "803  13585.636802    35662  Saturn  L Series  L300 Sedan 4D  Sedan         6   \n",
       "\n",
       "     Liter  Doors  Cruise  Sound  Leather  \n",
       "799    3.0      4       1      0        0  \n",
       "800    3.0      4       1      1        0  \n",
       "801    3.0      4       1      1        0  \n",
       "802    3.0      4       1      1        0  \n",
       "803    3.0      4       1      0        0  "
      ]
     },
     "execution_count": 5,
     "metadata": {},
     "output_type": "execute_result"
    }
   ],
   "source": [
    "df.tail()"
   ]
  },
  {
   "cell_type": "code",
   "execution_count": 6,
   "id": "1b00a634",
   "metadata": {},
   "outputs": [
    {
     "data": {
      "text/html": [
       "<div>\n",
       "<style scoped>\n",
       "    .dataframe tbody tr th:only-of-type {\n",
       "        vertical-align: middle;\n",
       "    }\n",
       "\n",
       "    .dataframe tbody tr th {\n",
       "        vertical-align: top;\n",
       "    }\n",
       "\n",
       "    .dataframe thead th {\n",
       "        text-align: right;\n",
       "    }\n",
       "</style>\n",
       "<table border=\"1\" class=\"dataframe\">\n",
       "  <thead>\n",
       "    <tr style=\"text-align: right;\">\n",
       "      <th></th>\n",
       "      <th>Price</th>\n",
       "      <th>Mileage</th>\n",
       "      <th>Make</th>\n",
       "      <th>Model</th>\n",
       "      <th>Trim</th>\n",
       "      <th>Type</th>\n",
       "      <th>Cylinder</th>\n",
       "      <th>Liter</th>\n",
       "      <th>Doors</th>\n",
       "      <th>Cruise</th>\n",
       "      <th>Sound</th>\n",
       "      <th>Leather</th>\n",
       "    </tr>\n",
       "  </thead>\n",
       "  <tbody>\n",
       "    <tr>\n",
       "      <th>34</th>\n",
       "      <td>22625.073566</td>\n",
       "      <td>23612</td>\n",
       "      <td>Buick</td>\n",
       "      <td>Lacrosse</td>\n",
       "      <td>CXS Sedan 4D</td>\n",
       "      <td>Sedan</td>\n",
       "      <td>6</td>\n",
       "      <td>3.8</td>\n",
       "      <td>4</td>\n",
       "      <td>1</td>\n",
       "      <td>0</td>\n",
       "      <td>1</td>\n",
       "    </tr>\n",
       "    <tr>\n",
       "      <th>493</th>\n",
       "      <td>20127.044185</td>\n",
       "      <td>18419</td>\n",
       "      <td>Pontiac</td>\n",
       "      <td>Bonneville</td>\n",
       "      <td>SE Sedan 4D</td>\n",
       "      <td>Sedan</td>\n",
       "      <td>6</td>\n",
       "      <td>3.8</td>\n",
       "      <td>4</td>\n",
       "      <td>1</td>\n",
       "      <td>1</td>\n",
       "      <td>1</td>\n",
       "    </tr>\n",
       "    <tr>\n",
       "      <th>550</th>\n",
       "      <td>18254.922772</td>\n",
       "      <td>16554</td>\n",
       "      <td>Pontiac</td>\n",
       "      <td>Grand Prix</td>\n",
       "      <td>GT Sedan 4D</td>\n",
       "      <td>Sedan</td>\n",
       "      <td>6</td>\n",
       "      <td>3.8</td>\n",
       "      <td>4</td>\n",
       "      <td>1</td>\n",
       "      <td>1</td>\n",
       "      <td>1</td>\n",
       "    </tr>\n",
       "    <tr>\n",
       "      <th>69</th>\n",
       "      <td>21831.822916</td>\n",
       "      <td>25564</td>\n",
       "      <td>Buick</td>\n",
       "      <td>Park Avenue</td>\n",
       "      <td>Sedan 4D</td>\n",
       "      <td>Sedan</td>\n",
       "      <td>6</td>\n",
       "      <td>3.8</td>\n",
       "      <td>4</td>\n",
       "      <td>1</td>\n",
       "      <td>1</td>\n",
       "      <td>1</td>\n",
       "    </tr>\n",
       "    <tr>\n",
       "      <th>330</th>\n",
       "      <td>14429.789643</td>\n",
       "      <td>6114</td>\n",
       "      <td>Chevrolet</td>\n",
       "      <td>Cobalt</td>\n",
       "      <td>Sedan 4D</td>\n",
       "      <td>Sedan</td>\n",
       "      <td>4</td>\n",
       "      <td>2.2</td>\n",
       "      <td>4</td>\n",
       "      <td>1</td>\n",
       "      <td>1</td>\n",
       "      <td>1</td>\n",
       "    </tr>\n",
       "  </tbody>\n",
       "</table>\n",
       "</div>"
      ],
      "text/plain": [
       "            Price  Mileage       Make        Model          Trim   Type  \\\n",
       "34   22625.073566    23612      Buick     Lacrosse  CXS Sedan 4D  Sedan   \n",
       "493  20127.044185    18419    Pontiac   Bonneville   SE Sedan 4D  Sedan   \n",
       "550  18254.922772    16554    Pontiac   Grand Prix   GT Sedan 4D  Sedan   \n",
       "69   21831.822916    25564      Buick  Park Avenue      Sedan 4D  Sedan   \n",
       "330  14429.789643     6114  Chevrolet       Cobalt      Sedan 4D  Sedan   \n",
       "\n",
       "     Cylinder  Liter  Doors  Cruise  Sound  Leather  \n",
       "34          6    3.8      4       1      0        1  \n",
       "493         6    3.8      4       1      1        1  \n",
       "550         6    3.8      4       1      1        1  \n",
       "69          6    3.8      4       1      1        1  \n",
       "330         4    2.2      4       1      1        1  "
      ]
     },
     "execution_count": 6,
     "metadata": {},
     "output_type": "execute_result"
    }
   ],
   "source": [
    "df.sample(5)"
   ]
  },
  {
   "cell_type": "code",
   "execution_count": 7,
   "id": "d0d0ba67",
   "metadata": {},
   "outputs": [
    {
     "data": {
      "text/html": [
       "<div>\n",
       "<style scoped>\n",
       "    .dataframe tbody tr th:only-of-type {\n",
       "        vertical-align: middle;\n",
       "    }\n",
       "\n",
       "    .dataframe tbody tr th {\n",
       "        vertical-align: top;\n",
       "    }\n",
       "\n",
       "    .dataframe thead th {\n",
       "        text-align: right;\n",
       "    }\n",
       "</style>\n",
       "<table border=\"1\" class=\"dataframe\">\n",
       "  <thead>\n",
       "    <tr style=\"text-align: right;\">\n",
       "      <th></th>\n",
       "      <th>Price</th>\n",
       "      <th>Mileage</th>\n",
       "      <th>Cylinder</th>\n",
       "      <th>Liter</th>\n",
       "      <th>Doors</th>\n",
       "      <th>Cruise</th>\n",
       "      <th>Sound</th>\n",
       "      <th>Leather</th>\n",
       "    </tr>\n",
       "  </thead>\n",
       "  <tbody>\n",
       "    <tr>\n",
       "      <th>count</th>\n",
       "      <td>804.000000</td>\n",
       "      <td>804.000000</td>\n",
       "      <td>804.000000</td>\n",
       "      <td>804.000000</td>\n",
       "      <td>804.000000</td>\n",
       "      <td>804.000000</td>\n",
       "      <td>804.000000</td>\n",
       "      <td>804.000000</td>\n",
       "    </tr>\n",
       "    <tr>\n",
       "      <th>mean</th>\n",
       "      <td>21343.143767</td>\n",
       "      <td>19831.934080</td>\n",
       "      <td>5.268657</td>\n",
       "      <td>3.037313</td>\n",
       "      <td>3.527363</td>\n",
       "      <td>0.752488</td>\n",
       "      <td>0.679104</td>\n",
       "      <td>0.723881</td>\n",
       "    </tr>\n",
       "    <tr>\n",
       "      <th>std</th>\n",
       "      <td>9884.852801</td>\n",
       "      <td>8196.319707</td>\n",
       "      <td>1.387531</td>\n",
       "      <td>1.105562</td>\n",
       "      <td>0.850169</td>\n",
       "      <td>0.431836</td>\n",
       "      <td>0.467111</td>\n",
       "      <td>0.447355</td>\n",
       "    </tr>\n",
       "    <tr>\n",
       "      <th>min</th>\n",
       "      <td>8638.930895</td>\n",
       "      <td>266.000000</td>\n",
       "      <td>4.000000</td>\n",
       "      <td>1.600000</td>\n",
       "      <td>2.000000</td>\n",
       "      <td>0.000000</td>\n",
       "      <td>0.000000</td>\n",
       "      <td>0.000000</td>\n",
       "    </tr>\n",
       "    <tr>\n",
       "      <th>25%</th>\n",
       "      <td>14273.073870</td>\n",
       "      <td>14623.500000</td>\n",
       "      <td>4.000000</td>\n",
       "      <td>2.200000</td>\n",
       "      <td>4.000000</td>\n",
       "      <td>1.000000</td>\n",
       "      <td>0.000000</td>\n",
       "      <td>0.000000</td>\n",
       "    </tr>\n",
       "    <tr>\n",
       "      <th>50%</th>\n",
       "      <td>18024.995019</td>\n",
       "      <td>20913.500000</td>\n",
       "      <td>6.000000</td>\n",
       "      <td>2.800000</td>\n",
       "      <td>4.000000</td>\n",
       "      <td>1.000000</td>\n",
       "      <td>1.000000</td>\n",
       "      <td>1.000000</td>\n",
       "    </tr>\n",
       "    <tr>\n",
       "      <th>75%</th>\n",
       "      <td>26717.316636</td>\n",
       "      <td>25213.000000</td>\n",
       "      <td>6.000000</td>\n",
       "      <td>3.800000</td>\n",
       "      <td>4.000000</td>\n",
       "      <td>1.000000</td>\n",
       "      <td>1.000000</td>\n",
       "      <td>1.000000</td>\n",
       "    </tr>\n",
       "    <tr>\n",
       "      <th>max</th>\n",
       "      <td>70755.466717</td>\n",
       "      <td>50387.000000</td>\n",
       "      <td>8.000000</td>\n",
       "      <td>6.000000</td>\n",
       "      <td>4.000000</td>\n",
       "      <td>1.000000</td>\n",
       "      <td>1.000000</td>\n",
       "      <td>1.000000</td>\n",
       "    </tr>\n",
       "  </tbody>\n",
       "</table>\n",
       "</div>"
      ],
      "text/plain": [
       "              Price       Mileage    Cylinder       Liter       Doors  \\\n",
       "count    804.000000    804.000000  804.000000  804.000000  804.000000   \n",
       "mean   21343.143767  19831.934080    5.268657    3.037313    3.527363   \n",
       "std     9884.852801   8196.319707    1.387531    1.105562    0.850169   \n",
       "min     8638.930895    266.000000    4.000000    1.600000    2.000000   \n",
       "25%    14273.073870  14623.500000    4.000000    2.200000    4.000000   \n",
       "50%    18024.995019  20913.500000    6.000000    2.800000    4.000000   \n",
       "75%    26717.316636  25213.000000    6.000000    3.800000    4.000000   \n",
       "max    70755.466717  50387.000000    8.000000    6.000000    4.000000   \n",
       "\n",
       "           Cruise       Sound     Leather  \n",
       "count  804.000000  804.000000  804.000000  \n",
       "mean     0.752488    0.679104    0.723881  \n",
       "std      0.431836    0.467111    0.447355  \n",
       "min      0.000000    0.000000    0.000000  \n",
       "25%      1.000000    0.000000    0.000000  \n",
       "50%      1.000000    1.000000    1.000000  \n",
       "75%      1.000000    1.000000    1.000000  \n",
       "max      1.000000    1.000000    1.000000  "
      ]
     },
     "execution_count": 7,
     "metadata": {},
     "output_type": "execute_result"
    }
   ],
   "source": [
    "df.describe()"
   ]
  },
  {
   "cell_type": "code",
   "execution_count": 8,
   "id": "75b5c38a",
   "metadata": {},
   "outputs": [
    {
     "name": "stdout",
     "output_type": "stream",
     "text": [
      "<class 'pandas.core.frame.DataFrame'>\n",
      "RangeIndex: 804 entries, 0 to 803\n",
      "Data columns (total 12 columns):\n",
      " #   Column    Non-Null Count  Dtype  \n",
      "---  ------    --------------  -----  \n",
      " 0   Price     804 non-null    float64\n",
      " 1   Mileage   804 non-null    int64  \n",
      " 2   Make      804 non-null    object \n",
      " 3   Model     804 non-null    object \n",
      " 4   Trim      804 non-null    object \n",
      " 5   Type      804 non-null    object \n",
      " 6   Cylinder  804 non-null    int64  \n",
      " 7   Liter     804 non-null    float64\n",
      " 8   Doors     804 non-null    int64  \n",
      " 9   Cruise    804 non-null    int64  \n",
      " 10  Sound     804 non-null    int64  \n",
      " 11  Leather   804 non-null    int64  \n",
      "dtypes: float64(2), int64(6), object(4)\n",
      "memory usage: 75.5+ KB\n"
     ]
    }
   ],
   "source": [
    "df.info()"
   ]
  },
  {
   "cell_type": "code",
   "execution_count": 9,
   "id": "d02c2528",
   "metadata": {},
   "outputs": [
    {
     "data": {
      "text/plain": [
       "array(['Buick', 'Cadillac', 'Chevrolet', 'Pontiac', 'SAAB', 'Saturn'],\n",
       "      dtype=object)"
      ]
     },
     "execution_count": 9,
     "metadata": {},
     "output_type": "execute_result"
    }
   ],
   "source": [
    "df.Make.unique()"
   ]
  },
  {
   "cell_type": "code",
   "execution_count": 10,
   "id": "fa00d72e",
   "metadata": {},
   "outputs": [
    {
     "data": {
      "text/plain": [
       "6"
      ]
     },
     "execution_count": 10,
     "metadata": {},
     "output_type": "execute_result"
    }
   ],
   "source": [
    "df.Make.nunique()"
   ]
  },
  {
   "cell_type": "code",
   "execution_count": 11,
   "id": "8e8a4fa5",
   "metadata": {},
   "outputs": [
    {
     "data": {
      "text/plain": [
       "(804, 12)"
      ]
     },
     "execution_count": 11,
     "metadata": {},
     "output_type": "execute_result"
    }
   ],
   "source": [
    "df.shape"
   ]
  },
  {
   "cell_type": "code",
   "execution_count": 12,
   "id": "2562399c",
   "metadata": {},
   "outputs": [
    {
     "data": {
      "text/html": [
       "<div>\n",
       "<style scoped>\n",
       "    .dataframe tbody tr th:only-of-type {\n",
       "        vertical-align: middle;\n",
       "    }\n",
       "\n",
       "    .dataframe tbody tr th {\n",
       "        vertical-align: top;\n",
       "    }\n",
       "\n",
       "    .dataframe thead th {\n",
       "        text-align: right;\n",
       "    }\n",
       "</style>\n",
       "<table border=\"1\" class=\"dataframe\">\n",
       "  <thead>\n",
       "    <tr style=\"text-align: right;\">\n",
       "      <th></th>\n",
       "      <th>Price</th>\n",
       "      <th>Mileage</th>\n",
       "      <th>Cylinder</th>\n",
       "      <th>Liter</th>\n",
       "      <th>Doors</th>\n",
       "      <th>Cruise</th>\n",
       "      <th>Sound</th>\n",
       "      <th>Leather</th>\n",
       "    </tr>\n",
       "  </thead>\n",
       "  <tbody>\n",
       "    <tr>\n",
       "      <th>Price</th>\n",
       "      <td>1.000000</td>\n",
       "      <td>-0.143051</td>\n",
       "      <td>0.569086</td>\n",
       "      <td>0.558146</td>\n",
       "      <td>-0.138750</td>\n",
       "      <td>0.430851</td>\n",
       "      <td>-0.124348</td>\n",
       "      <td>0.157197</td>\n",
       "    </tr>\n",
       "    <tr>\n",
       "      <th>Mileage</th>\n",
       "      <td>-0.143051</td>\n",
       "      <td>1.000000</td>\n",
       "      <td>-0.029461</td>\n",
       "      <td>-0.018641</td>\n",
       "      <td>-0.016944</td>\n",
       "      <td>0.025037</td>\n",
       "      <td>-0.026146</td>\n",
       "      <td>0.001005</td>\n",
       "    </tr>\n",
       "    <tr>\n",
       "      <th>Cylinder</th>\n",
       "      <td>0.569086</td>\n",
       "      <td>-0.029461</td>\n",
       "      <td>1.000000</td>\n",
       "      <td>0.957897</td>\n",
       "      <td>0.002206</td>\n",
       "      <td>0.354285</td>\n",
       "      <td>-0.089704</td>\n",
       "      <td>0.075520</td>\n",
       "    </tr>\n",
       "    <tr>\n",
       "      <th>Liter</th>\n",
       "      <td>0.558146</td>\n",
       "      <td>-0.018641</td>\n",
       "      <td>0.957897</td>\n",
       "      <td>1.000000</td>\n",
       "      <td>-0.079259</td>\n",
       "      <td>0.377509</td>\n",
       "      <td>-0.065527</td>\n",
       "      <td>0.087332</td>\n",
       "    </tr>\n",
       "    <tr>\n",
       "      <th>Doors</th>\n",
       "      <td>-0.138750</td>\n",
       "      <td>-0.016944</td>\n",
       "      <td>0.002206</td>\n",
       "      <td>-0.079259</td>\n",
       "      <td>1.000000</td>\n",
       "      <td>-0.047674</td>\n",
       "      <td>-0.062530</td>\n",
       "      <td>-0.061969</td>\n",
       "    </tr>\n",
       "    <tr>\n",
       "      <th>Cruise</th>\n",
       "      <td>0.430851</td>\n",
       "      <td>0.025037</td>\n",
       "      <td>0.354285</td>\n",
       "      <td>0.377509</td>\n",
       "      <td>-0.047674</td>\n",
       "      <td>1.000000</td>\n",
       "      <td>-0.091730</td>\n",
       "      <td>-0.070573</td>\n",
       "    </tr>\n",
       "    <tr>\n",
       "      <th>Sound</th>\n",
       "      <td>-0.124348</td>\n",
       "      <td>-0.026146</td>\n",
       "      <td>-0.089704</td>\n",
       "      <td>-0.065527</td>\n",
       "      <td>-0.062530</td>\n",
       "      <td>-0.091730</td>\n",
       "      <td>1.000000</td>\n",
       "      <td>0.165444</td>\n",
       "    </tr>\n",
       "    <tr>\n",
       "      <th>Leather</th>\n",
       "      <td>0.157197</td>\n",
       "      <td>0.001005</td>\n",
       "      <td>0.075520</td>\n",
       "      <td>0.087332</td>\n",
       "      <td>-0.061969</td>\n",
       "      <td>-0.070573</td>\n",
       "      <td>0.165444</td>\n",
       "      <td>1.000000</td>\n",
       "    </tr>\n",
       "  </tbody>\n",
       "</table>\n",
       "</div>"
      ],
      "text/plain": [
       "             Price   Mileage  Cylinder     Liter     Doors    Cruise  \\\n",
       "Price     1.000000 -0.143051  0.569086  0.558146 -0.138750  0.430851   \n",
       "Mileage  -0.143051  1.000000 -0.029461 -0.018641 -0.016944  0.025037   \n",
       "Cylinder  0.569086 -0.029461  1.000000  0.957897  0.002206  0.354285   \n",
       "Liter     0.558146 -0.018641  0.957897  1.000000 -0.079259  0.377509   \n",
       "Doors    -0.138750 -0.016944  0.002206 -0.079259  1.000000 -0.047674   \n",
       "Cruise    0.430851  0.025037  0.354285  0.377509 -0.047674  1.000000   \n",
       "Sound    -0.124348 -0.026146 -0.089704 -0.065527 -0.062530 -0.091730   \n",
       "Leather   0.157197  0.001005  0.075520  0.087332 -0.061969 -0.070573   \n",
       "\n",
       "             Sound   Leather  \n",
       "Price    -0.124348  0.157197  \n",
       "Mileage  -0.026146  0.001005  \n",
       "Cylinder -0.089704  0.075520  \n",
       "Liter    -0.065527  0.087332  \n",
       "Doors    -0.062530 -0.061969  \n",
       "Cruise   -0.091730 -0.070573  \n",
       "Sound     1.000000  0.165444  \n",
       "Leather   0.165444  1.000000  "
      ]
     },
     "execution_count": 12,
     "metadata": {},
     "output_type": "execute_result"
    }
   ],
   "source": [
    "df.corr()"
   ]
  },
  {
   "cell_type": "code",
   "execution_count": 13,
   "id": "01bb42ef",
   "metadata": {},
   "outputs": [
    {
     "data": {
      "text/plain": [
       "Price       1.000000\n",
       "Cylinder    0.569086\n",
       "Liter       0.558146\n",
       "Cruise      0.430851\n",
       "Leather     0.157197\n",
       "Mileage     0.143051\n",
       "Doors       0.138750\n",
       "Sound       0.124348\n",
       "Name: Price, dtype: float64"
      ]
     },
     "execution_count": 13,
     "metadata": {},
     "output_type": "execute_result"
    }
   ],
   "source": [
    "abs(df.corr()[\"Price\"]).sort_values(ascending=False)"
   ]
  },
  {
   "cell_type": "code",
   "execution_count": 14,
   "id": "96fa7a2c",
   "metadata": {},
   "outputs": [],
   "source": [
    "import matplotlib.pyplot as plt\n",
    "import seaborn as sns\n",
    "%matplotlib inline"
   ]
  },
  {
   "cell_type": "code",
   "execution_count": 15,
   "id": "e7130cd2",
   "metadata": {},
   "outputs": [
    {
     "data": {
      "image/png": "[encoded data removed]",
      "text/plain": [
       "<Figure size 1008x864 with 2 Axes>"
      ]
     },
     "metadata": {
      "needs_background": "light"
     },
     "output_type": "display_data"
    }
   ],
   "source": [
    "plt.subplots(figsize=(14,12));\n",
    "sns.heatmap(df.corr(),annot=True);"
   ]
  },
  {
   "cell_type": "code",
   "execution_count": 16,
   "id": "05e19634",
   "metadata": {},
   "outputs": [
    {
     "data": {
      "text/html": [
       "<div>\n",
       "<style scoped>\n",
       "    .dataframe tbody tr th:only-of-type {\n",
       "        vertical-align: middle;\n",
       "    }\n",
       "\n",
       "    .dataframe tbody tr th {\n",
       "        vertical-align: top;\n",
       "    }\n",
       "\n",
       "    .dataframe thead th {\n",
       "        text-align: right;\n",
       "    }\n",
       "</style>\n",
       "<table border=\"1\" class=\"dataframe\">\n",
       "  <thead>\n",
       "    <tr style=\"text-align: right;\">\n",
       "      <th></th>\n",
       "      <th>Mileage</th>\n",
       "      <th>Cylinder</th>\n",
       "      <th>Liter</th>\n",
       "      <th>Cruise</th>\n",
       "    </tr>\n",
       "  </thead>\n",
       "  <tbody>\n",
       "    <tr>\n",
       "      <th>0</th>\n",
       "      <td>8221</td>\n",
       "      <td>6</td>\n",
       "      <td>3.1</td>\n",
       "      <td>1</td>\n",
       "    </tr>\n",
       "    <tr>\n",
       "      <th>1</th>\n",
       "      <td>9135</td>\n",
       "      <td>6</td>\n",
       "      <td>3.1</td>\n",
       "      <td>1</td>\n",
       "    </tr>\n",
       "    <tr>\n",
       "      <th>2</th>\n",
       "      <td>13196</td>\n",
       "      <td>6</td>\n",
       "      <td>3.1</td>\n",
       "      <td>1</td>\n",
       "    </tr>\n",
       "    <tr>\n",
       "      <th>3</th>\n",
       "      <td>16342</td>\n",
       "      <td>6</td>\n",
       "      <td>3.1</td>\n",
       "      <td>1</td>\n",
       "    </tr>\n",
       "    <tr>\n",
       "      <th>4</th>\n",
       "      <td>19832</td>\n",
       "      <td>6</td>\n",
       "      <td>3.1</td>\n",
       "      <td>1</td>\n",
       "    </tr>\n",
       "  </tbody>\n",
       "</table>\n",
       "</div>"
      ],
      "text/plain": [
       "   Mileage  Cylinder  Liter  Cruise\n",
       "0     8221         6    3.1       1\n",
       "1     9135         6    3.1       1\n",
       "2    13196         6    3.1       1\n",
       "3    16342         6    3.1       1\n",
       "4    19832         6    3.1       1"
      ]
     },
     "execution_count": 16,
     "metadata": {},
     "output_type": "execute_result"
    }
   ],
   "source": [
    "x=df[[\"Mileage\",\"Cylinder\",\"Liter\",\"Cruise\"]]\n",
    "x.head()"
   ]
  },
  {
   "cell_type": "code",
   "execution_count": 17,
   "id": "e210cfde",
   "metadata": {},
   "outputs": [
    {
     "data": {
      "text/plain": [
       "0    17314.103129\n",
       "1    17542.036083\n",
       "2    16218.847862\n",
       "3    16336.913140\n",
       "4    16339.170324\n",
       "Name: Price, dtype: float64"
      ]
     },
     "execution_count": 17,
     "metadata": {},
     "output_type": "execute_result"
    }
   ],
   "source": [
    "y=df[\"Price\"]\n",
    "y.head()"
   ]
  },
  {
   "cell_type": "code",
   "execution_count": 18,
   "id": "07f94f99",
   "metadata": {},
   "outputs": [
    {
     "data": {
      "text/plain": [
       "<seaborn.axisgrid.PairGrid at 0x7fe0dccf1f10>"
      ]
     },
     "execution_count": 18,
     "metadata": {},
     "output_type": "execute_result"
    },
    {
     "data": {
      "image/png": "[encoded data removed]",
      "text/plain": [
       "<Figure size 1440x1440 with 72 Axes>"
      ]
     },
     "metadata": {
      "needs_background": "light"
     },
     "output_type": "display_data"
    }
   ],
   "source": [
    "sns.pairplot(df)"
   ]
  },
  {
   "cell_type": "code",
   "execution_count": 19,
   "id": "499be776",
   "metadata": {},
   "outputs": [],
   "source": [
    "from sklearn.linear_model import LinearRegression\n",
    "from sklearn.model_selection import train_test_split"
   ]
  },
  {
   "cell_type": "code",
   "execution_count": 20,
   "id": "31a7c28b",
   "metadata": {},
   "outputs": [],
   "source": [
    "x_train, x_test, y_train, y_test = train_test_split(x,y, test_size=0.2,random_state=13)"
   ]
  },
  {
   "cell_type": "code",
   "execution_count": 21,
   "id": "05025d68",
   "metadata": {},
   "outputs": [
    {
     "data": {
      "text/plain": [
       "((643, 4), (161, 4), (643,), (161,))"
      ]
     },
     "execution_count": 21,
     "metadata": {},
     "output_type": "execute_result"
    }
   ],
   "source": [
    "x_train.shape, x_test.shape, y_train.shape, y_test.shape"
   ]
  },
  {
   "cell_type": "code",
   "execution_count": 22,
   "id": "65a3d0ef",
   "metadata": {},
   "outputs": [
    {
     "data": {
      "text/plain": [
       "array([11148.62940387, 25662.63147418, 18279.41766294, 11540.73917302,\n",
       "       23426.0701786 , 31420.5453541 , 19328.85628173, 24773.25185754,\n",
       "       29200.32466335, 11183.31863407, 24299.55929987, 20538.26465205,\n",
       "       17881.31995338, 26696.26797506, 24162.40088302, 20818.88388614,\n",
       "       11374.10940017, 24693.41195717, 24567.80942355, 30460.75963077,\n",
       "       20163.65672799, 18471.51729144, 18182.01235844, 30285.16775419,\n",
       "       24998.35059689, 23758.4680427 , 12176.58918638, 17891.15452895,\n",
       "       24576.53671008, 13871.91278504, 12783.85110583, 23880.42757003,\n",
       "       19007.58027511, 24351.9507661 , 25304.65292335, 15315.44966857,\n",
       "       34075.70194812, 26798.72130862, 29833.85014066, 11163.64948293,\n",
       "       18336.15776947, 24920.56804464, 12080.92558763, 27815.15185123,\n",
       "       20842.77887386, 27937.45820925, 19734.0407953 , 11165.43758758,\n",
       "       13059.55526229, 24937.54424857, 31295.18842793, 25784.92704196,\n",
       "       12350.59334926, 19050.02515229, 24791.82450988, 11996.90624959,\n",
       "       13680.20638613, 19150.51663359, 19620.90016988, 24731.20776226,\n",
       "       26291.13946823, 24646.20599443, 12827.83848021, 24967.59519692,\n",
       "       23558.03230173,  9363.18533088,  9704.91370988, 34496.97940354,\n",
       "       31796.116183  , 18499.64654117, 18361.7836727 , 30571.26449811,\n",
       "       21310.79147522,  9896.82255527, 21748.07467741, 16567.66508199,\n",
       "       11166.13124895, 18327.98849482, 13155.24044153, 17442.87669333,\n",
       "       17877.49813664, 24879.4416377 , 18468.95675579, 29901.44049641,\n",
       "       22705.39720787, 26486.40049595, 25522.98050105, 12989.52835702,\n",
       "       25066.47738404, 18342.04772457, 17719.61928633, 19008.36231395,\n",
       "       19569.58156644, 14736.46138307, 23727.00819111, 25173.75287277,\n",
       "       26643.97773207, 23988.60790133, 20158.76204845, 11673.23772755,\n",
       "       18665.76146311, 18297.76952625, 11193.13162916, 19785.16019019,\n",
       "       24349.67144656, 19531.2149037 , 26757.06353314, 19820.98908016,\n",
       "       19656.07943258, 25596.47160215, 12572.31832579, 31008.45608491,\n",
       "       21615.06127197, 21164.28008984, 17491.51313979, 30297.50567627,\n",
       "       31257.82783099, 34154.91498409, 25885.95495466, 12609.01968761,\n",
       "       19767.53554138, 15332.83950017, 30802.56559699, 13861.899399  ,\n",
       "       18155.01197824, 18912.82151893, 19029.21634137, 11922.69990664,\n",
       "       24612.28801283, 16421.31092659, 18879.74158291, 32578.68994533,\n",
       "       17924.53607916, 14126.89650806, 12575.93975159, 12764.53957561,\n",
       "       18504.51964023, 10018.010834  , 25273.71871291, 24427.76640324,\n",
       "       12821.58011393, 11956.13746358,  9484.41882611, 18148.5284026 ,\n",
       "       34328.07236668, 26644.2901365 , 26104.11451214, 17345.01136226,\n",
       "       25676.93631137, 18677.20533287, 18884.08904081, 17760.20926187,\n",
       "       34291.41622136, 35110.12048785, 19206.84193005, 11535.57525002,\n",
       "       32305.90481857, 28457.43904132, 31173.4185013 , 24308.14220219,\n",
       "       10245.50296192])"
      ]
     },
     "execution_count": 22,
     "metadata": {},
     "output_type": "execute_result"
    }
   ],
   "source": [
    "sonuc = LinearRegression().fit(x_train,y_train).predict(x_test)\n",
    "sonuc"
   ]
  },
  {
   "cell_type": "code",
   "execution_count": 23,
   "id": "fe53c784",
   "metadata": {},
   "outputs": [],
   "source": [
    "lr = LinearRegression()\n",
    "regmodel = lr.fit(x_train,y_train)"
   ]
  },
  {
   "cell_type": "code",
   "execution_count": 24,
   "id": "a0dfb7fe",
   "metadata": {},
   "outputs": [
    {
     "data": {
      "text/plain": [
       "array([11148.62940387, 25662.63147418, 18279.41766294, 11540.73917302,\n",
       "       23426.0701786 , 31420.5453541 , 19328.85628173, 24773.25185754,\n",
       "       29200.32466335, 11183.31863407, 24299.55929987, 20538.26465205,\n",
       "       17881.31995338, 26696.26797506, 24162.40088302, 20818.88388614,\n",
       "       11374.10940017, 24693.41195717, 24567.80942355, 30460.75963077,\n",
       "       20163.65672799, 18471.51729144, 18182.01235844, 30285.16775419,\n",
       "       24998.35059689, 23758.4680427 , 12176.58918638, 17891.15452895,\n",
       "       24576.53671008, 13871.91278504, 12783.85110583, 23880.42757003,\n",
       "       19007.58027511, 24351.9507661 , 25304.65292335, 15315.44966857,\n",
       "       34075.70194812, 26798.72130862, 29833.85014066, 11163.64948293,\n",
       "       18336.15776947, 24920.56804464, 12080.92558763, 27815.15185123,\n",
       "       20842.77887386, 27937.45820925, 19734.0407953 , 11165.43758758,\n",
       "       13059.55526229, 24937.54424857, 31295.18842793, 25784.92704196,\n",
       "       12350.59334926, 19050.02515229, 24791.82450988, 11996.90624959,\n",
       "       13680.20638613, 19150.51663359, 19620.90016988, 24731.20776226,\n",
       "       26291.13946823, 24646.20599443, 12827.83848021, 24967.59519692,\n",
       "       23558.03230173,  9363.18533088,  9704.91370988, 34496.97940354,\n",
       "       31796.116183  , 18499.64654117, 18361.7836727 , 30571.26449811,\n",
       "       21310.79147522,  9896.82255527, 21748.07467741, 16567.66508199,\n",
       "       11166.13124895, 18327.98849482, 13155.24044153, 17442.87669333,\n",
       "       17877.49813664, 24879.4416377 , 18468.95675579, 29901.44049641,\n",
       "       22705.39720787, 26486.40049595, 25522.98050105, 12989.52835702,\n",
       "       25066.47738404, 18342.04772457, 17719.61928633, 19008.36231395,\n",
       "       19569.58156644, 14736.46138307, 23727.00819111, 25173.75287277,\n",
       "       26643.97773207, 23988.60790133, 20158.76204845, 11673.23772755,\n",
       "       18665.76146311, 18297.76952625, 11193.13162916, 19785.16019019,\n",
       "       24349.67144656, 19531.2149037 , 26757.06353314, 19820.98908016,\n",
       "       19656.07943258, 25596.47160215, 12572.31832579, 31008.45608491,\n",
       "       21615.06127197, 21164.28008984, 17491.51313979, 30297.50567627,\n",
       "       31257.82783099, 34154.91498409, 25885.95495466, 12609.01968761,\n",
       "       19767.53554138, 15332.83950017, 30802.56559699, 13861.899399  ,\n",
       "       18155.01197824, 18912.82151893, 19029.21634137, 11922.69990664,\n",
       "       24612.28801283, 16421.31092659, 18879.74158291, 32578.68994533,\n",
       "       17924.53607916, 14126.89650806, 12575.93975159, 12764.53957561,\n",
       "       18504.51964023, 10018.010834  , 25273.71871291, 24427.76640324,\n",
       "       12821.58011393, 11956.13746358,  9484.41882611, 18148.5284026 ,\n",
       "       34328.07236668, 26644.2901365 , 26104.11451214, 17345.01136226,\n",
       "       25676.93631137, 18677.20533287, 18884.08904081, 17760.20926187,\n",
       "       34291.41622136, 35110.12048785, 19206.84193005, 11535.57525002,\n",
       "       32305.90481857, 28457.43904132, 31173.4185013 , 24308.14220219,\n",
       "       10245.50296192])"
      ]
     },
     "execution_count": 24,
     "metadata": {},
     "output_type": "execute_result"
    }
   ],
   "source": [
    "y_pretest=regmodel.predict(x_test)\n",
    "y_pretest"
   ]
  },
  {
   "cell_type": "code",
   "execution_count": 25,
   "id": "44445b20",
   "metadata": {},
   "outputs": [],
   "source": [
    "from sklearn.metrics import mean_squared_error, r2_score"
   ]
  },
  {
   "cell_type": "code",
   "execution_count": 26,
   "id": "27de3064",
   "metadata": {},
   "outputs": [
    {
     "data": {
      "text/plain": [
       "8036.440424336675"
      ]
     },
     "execution_count": 26,
     "metadata": {},
     "output_type": "execute_result"
    }
   ],
   "source": [
    "(mean_squared_error(y_test,y_pretest))**0.5"
   ]
  },
  {
   "cell_type": "code",
   "execution_count": 27,
   "id": "492e0fc0",
   "metadata": {},
   "outputs": [
    {
     "data": {
      "text/plain": [
       "0.45340342779819454"
      ]
     },
     "execution_count": 27,
     "metadata": {},
     "output_type": "execute_result"
    }
   ],
   "source": [
    "r2_score(y_test,y_pretest)"
   ]
  },
  {
   "cell_type": "code",
   "execution_count": 28,
   "id": "53024ab5",
   "metadata": {},
   "outputs": [],
   "source": [
    "x,y=df[[\"Mileage\",\"Cylinder\",\"Liter\",\"Cruise\",\"Make\",\"Trim\"]],df[\"Price\"]"
   ]
  },
  {
   "cell_type": "code",
   "execution_count": 29,
   "id": "8df2e40d",
   "metadata": {},
   "outputs": [
    {
     "data": {
      "text/html": [
       "<div>\n",
       "<style scoped>\n",
       "    .dataframe tbody tr th:only-of-type {\n",
       "        vertical-align: middle;\n",
       "    }\n",
       "\n",
       "    .dataframe tbody tr th {\n",
       "        vertical-align: top;\n",
       "    }\n",
       "\n",
       "    .dataframe thead th {\n",
       "        text-align: right;\n",
       "    }\n",
       "</style>\n",
       "<table border=\"1\" class=\"dataframe\">\n",
       "  <thead>\n",
       "    <tr style=\"text-align: right;\">\n",
       "      <th></th>\n",
       "      <th>Mileage</th>\n",
       "      <th>Cylinder</th>\n",
       "      <th>Liter</th>\n",
       "      <th>Cruise</th>\n",
       "      <th>Make</th>\n",
       "      <th>Trim</th>\n",
       "    </tr>\n",
       "  </thead>\n",
       "  <tbody>\n",
       "    <tr>\n",
       "      <th>0</th>\n",
       "      <td>8221</td>\n",
       "      <td>6</td>\n",
       "      <td>3.1</td>\n",
       "      <td>1</td>\n",
       "      <td>Buick</td>\n",
       "      <td>Sedan 4D</td>\n",
       "    </tr>\n",
       "    <tr>\n",
       "      <th>1</th>\n",
       "      <td>9135</td>\n",
       "      <td>6</td>\n",
       "      <td>3.1</td>\n",
       "      <td>1</td>\n",
       "      <td>Buick</td>\n",
       "      <td>Sedan 4D</td>\n",
       "    </tr>\n",
       "    <tr>\n",
       "      <th>2</th>\n",
       "      <td>13196</td>\n",
       "      <td>6</td>\n",
       "      <td>3.1</td>\n",
       "      <td>1</td>\n",
       "      <td>Buick</td>\n",
       "      <td>Sedan 4D</td>\n",
       "    </tr>\n",
       "    <tr>\n",
       "      <th>3</th>\n",
       "      <td>16342</td>\n",
       "      <td>6</td>\n",
       "      <td>3.1</td>\n",
       "      <td>1</td>\n",
       "      <td>Buick</td>\n",
       "      <td>Sedan 4D</td>\n",
       "    </tr>\n",
       "    <tr>\n",
       "      <th>4</th>\n",
       "      <td>19832</td>\n",
       "      <td>6</td>\n",
       "      <td>3.1</td>\n",
       "      <td>1</td>\n",
       "      <td>Buick</td>\n",
       "      <td>Sedan 4D</td>\n",
       "    </tr>\n",
       "  </tbody>\n",
       "</table>\n",
       "</div>"
      ],
      "text/plain": [
       "   Mileage  Cylinder  Liter  Cruise   Make      Trim\n",
       "0     8221         6    3.1       1  Buick  Sedan 4D\n",
       "1     9135         6    3.1       1  Buick  Sedan 4D\n",
       "2    13196         6    3.1       1  Buick  Sedan 4D\n",
       "3    16342         6    3.1       1  Buick  Sedan 4D\n",
       "4    19832         6    3.1       1  Buick  Sedan 4D"
      ]
     },
     "execution_count": 29,
     "metadata": {},
     "output_type": "execute_result"
    }
   ],
   "source": [
    "x.head()"
   ]
  },
  {
   "cell_type": "code",
   "execution_count": 30,
   "id": "da776da3",
   "metadata": {},
   "outputs": [
    {
     "data": {
      "text/html": [
       "<div>\n",
       "<style scoped>\n",
       "    .dataframe tbody tr th:only-of-type {\n",
       "        vertical-align: middle;\n",
       "    }\n",
       "\n",
       "    .dataframe tbody tr th {\n",
       "        vertical-align: top;\n",
       "    }\n",
       "\n",
       "    .dataframe thead th {\n",
       "        text-align: right;\n",
       "    }\n",
       "</style>\n",
       "<table border=\"1\" class=\"dataframe\">\n",
       "  <thead>\n",
       "    <tr style=\"text-align: right;\">\n",
       "      <th></th>\n",
       "      <th>Mileage</th>\n",
       "      <th>Cylinder</th>\n",
       "      <th>Liter</th>\n",
       "      <th>Cruise</th>\n",
       "      <th>Make</th>\n",
       "      <th>Trim</th>\n",
       "    </tr>\n",
       "  </thead>\n",
       "  <tbody>\n",
       "    <tr>\n",
       "      <th>505</th>\n",
       "      <td>19419</td>\n",
       "      <td>6</td>\n",
       "      <td>3.8</td>\n",
       "      <td>1</td>\n",
       "      <td>Pontiac</td>\n",
       "      <td>SLE Sedan 4D</td>\n",
       "    </tr>\n",
       "    <tr>\n",
       "      <th>241</th>\n",
       "      <td>11322</td>\n",
       "      <td>4</td>\n",
       "      <td>2.2</td>\n",
       "      <td>1</td>\n",
       "      <td>Chevrolet</td>\n",
       "      <td>LS Sedan 4D</td>\n",
       "    </tr>\n",
       "    <tr>\n",
       "      <th>700</th>\n",
       "      <td>16956</td>\n",
       "      <td>4</td>\n",
       "      <td>2.3</td>\n",
       "      <td>1</td>\n",
       "      <td>SAAB</td>\n",
       "      <td>Arc Wagon 4D</td>\n",
       "    </tr>\n",
       "    <tr>\n",
       "      <th>211</th>\n",
       "      <td>14438</td>\n",
       "      <td>4</td>\n",
       "      <td>1.6</td>\n",
       "      <td>0</td>\n",
       "      <td>Chevrolet</td>\n",
       "      <td>SVM Sedan 4D</td>\n",
       "    </tr>\n",
       "    <tr>\n",
       "      <th>429</th>\n",
       "      <td>28239</td>\n",
       "      <td>6</td>\n",
       "      <td>3.5</td>\n",
       "      <td>0</td>\n",
       "      <td>Chevrolet</td>\n",
       "      <td>LT Sedan 4D</td>\n",
       "    </tr>\n",
       "  </tbody>\n",
       "</table>\n",
       "</div>"
      ],
      "text/plain": [
       "     Mileage  Cylinder  Liter  Cruise       Make          Trim\n",
       "505    19419         6    3.8       1    Pontiac  SLE Sedan 4D\n",
       "241    11322         4    2.2       1  Chevrolet   LS Sedan 4D\n",
       "700    16956         4    2.3       1       SAAB  Arc Wagon 4D\n",
       "211    14438         4    1.6       0  Chevrolet  SVM Sedan 4D\n",
       "429    28239         6    3.5       0  Chevrolet   LT Sedan 4D"
      ]
     },
     "execution_count": 30,
     "metadata": {},
     "output_type": "execute_result"
    }
   ],
   "source": [
    "x.sample(5)"
   ]
  },
  {
   "cell_type": "code",
   "execution_count": 31,
   "id": "297f96d0",
   "metadata": {},
   "outputs": [
    {
     "data": {
      "text/html": [
       "<div>\n",
       "<style scoped>\n",
       "    .dataframe tbody tr th:only-of-type {\n",
       "        vertical-align: middle;\n",
       "    }\n",
       "\n",
       "    .dataframe tbody tr th {\n",
       "        vertical-align: top;\n",
       "    }\n",
       "\n",
       "    .dataframe thead th {\n",
       "        text-align: right;\n",
       "    }\n",
       "</style>\n",
       "<table border=\"1\" class=\"dataframe\">\n",
       "  <thead>\n",
       "    <tr style=\"text-align: right;\">\n",
       "      <th></th>\n",
       "      <th>Mileage</th>\n",
       "      <th>Cylinder</th>\n",
       "      <th>Liter</th>\n",
       "      <th>Cruise</th>\n",
       "      <th>Make_Cadillac</th>\n",
       "      <th>Make_Chevrolet</th>\n",
       "      <th>Make_Pontiac</th>\n",
       "      <th>Make_SAAB</th>\n",
       "      <th>Make_Saturn</th>\n",
       "      <th>Trim_Aero Conv 2D</th>\n",
       "      <th>...</th>\n",
       "      <th>Trim_Quad Coupe 2D</th>\n",
       "      <th>Trim_SE Sedan 4D</th>\n",
       "      <th>Trim_SLE Sedan 4D</th>\n",
       "      <th>Trim_SS Coupe 2D</th>\n",
       "      <th>Trim_SS Sedan 4D</th>\n",
       "      <th>Trim_SVM Hatchback 4D</th>\n",
       "      <th>Trim_SVM Sedan 4D</th>\n",
       "      <th>Trim_Sedan 4D</th>\n",
       "      <th>Trim_Special Ed Ultra 4D</th>\n",
       "      <th>Trim_Sportwagon 4D</th>\n",
       "    </tr>\n",
       "  </thead>\n",
       "  <tbody>\n",
       "    <tr>\n",
       "      <th>0</th>\n",
       "      <td>8221</td>\n",
       "      <td>6</td>\n",
       "      <td>3.1</td>\n",
       "      <td>1</td>\n",
       "      <td>0</td>\n",
       "      <td>0</td>\n",
       "      <td>0</td>\n",
       "      <td>0</td>\n",
       "      <td>0</td>\n",
       "      <td>0</td>\n",
       "      <td>...</td>\n",
       "      <td>0</td>\n",
       "      <td>0</td>\n",
       "      <td>0</td>\n",
       "      <td>0</td>\n",
       "      <td>0</td>\n",
       "      <td>0</td>\n",
       "      <td>0</td>\n",
       "      <td>1</td>\n",
       "      <td>0</td>\n",
       "      <td>0</td>\n",
       "    </tr>\n",
       "    <tr>\n",
       "      <th>1</th>\n",
       "      <td>9135</td>\n",
       "      <td>6</td>\n",
       "      <td>3.1</td>\n",
       "      <td>1</td>\n",
       "      <td>0</td>\n",
       "      <td>0</td>\n",
       "      <td>0</td>\n",
       "      <td>0</td>\n",
       "      <td>0</td>\n",
       "      <td>0</td>\n",
       "      <td>...</td>\n",
       "      <td>0</td>\n",
       "      <td>0</td>\n",
       "      <td>0</td>\n",
       "      <td>0</td>\n",
       "      <td>0</td>\n",
       "      <td>0</td>\n",
       "      <td>0</td>\n",
       "      <td>1</td>\n",
       "      <td>0</td>\n",
       "      <td>0</td>\n",
       "    </tr>\n",
       "    <tr>\n",
       "      <th>2</th>\n",
       "      <td>13196</td>\n",
       "      <td>6</td>\n",
       "      <td>3.1</td>\n",
       "      <td>1</td>\n",
       "      <td>0</td>\n",
       "      <td>0</td>\n",
       "      <td>0</td>\n",
       "      <td>0</td>\n",
       "      <td>0</td>\n",
       "      <td>0</td>\n",
       "      <td>...</td>\n",
       "      <td>0</td>\n",
       "      <td>0</td>\n",
       "      <td>0</td>\n",
       "      <td>0</td>\n",
       "      <td>0</td>\n",
       "      <td>0</td>\n",
       "      <td>0</td>\n",
       "      <td>1</td>\n",
       "      <td>0</td>\n",
       "      <td>0</td>\n",
       "    </tr>\n",
       "    <tr>\n",
       "      <th>3</th>\n",
       "      <td>16342</td>\n",
       "      <td>6</td>\n",
       "      <td>3.1</td>\n",
       "      <td>1</td>\n",
       "      <td>0</td>\n",
       "      <td>0</td>\n",
       "      <td>0</td>\n",
       "      <td>0</td>\n",
       "      <td>0</td>\n",
       "      <td>0</td>\n",
       "      <td>...</td>\n",
       "      <td>0</td>\n",
       "      <td>0</td>\n",
       "      <td>0</td>\n",
       "      <td>0</td>\n",
       "      <td>0</td>\n",
       "      <td>0</td>\n",
       "      <td>0</td>\n",
       "      <td>1</td>\n",
       "      <td>0</td>\n",
       "      <td>0</td>\n",
       "    </tr>\n",
       "    <tr>\n",
       "      <th>4</th>\n",
       "      <td>19832</td>\n",
       "      <td>6</td>\n",
       "      <td>3.1</td>\n",
       "      <td>1</td>\n",
       "      <td>0</td>\n",
       "      <td>0</td>\n",
       "      <td>0</td>\n",
       "      <td>0</td>\n",
       "      <td>0</td>\n",
       "      <td>0</td>\n",
       "      <td>...</td>\n",
       "      <td>0</td>\n",
       "      <td>0</td>\n",
       "      <td>0</td>\n",
       "      <td>0</td>\n",
       "      <td>0</td>\n",
       "      <td>0</td>\n",
       "      <td>0</td>\n",
       "      <td>1</td>\n",
       "      <td>0</td>\n",
       "      <td>0</td>\n",
       "    </tr>\n",
       "  </tbody>\n",
       "</table>\n",
       "<p>5 rows × 55 columns</p>\n",
       "</div>"
      ],
      "text/plain": [
       "   Mileage  Cylinder  Liter  Cruise  Make_Cadillac  Make_Chevrolet  \\\n",
       "0     8221         6    3.1       1              0               0   \n",
       "1     9135         6    3.1       1              0               0   \n",
       "2    13196         6    3.1       1              0               0   \n",
       "3    16342         6    3.1       1              0               0   \n",
       "4    19832         6    3.1       1              0               0   \n",
       "\n",
       "   Make_Pontiac  Make_SAAB  Make_Saturn  Trim_Aero Conv 2D  ...  \\\n",
       "0             0          0            0                  0  ...   \n",
       "1             0          0            0                  0  ...   \n",
       "2             0          0            0                  0  ...   \n",
       "3             0          0            0                  0  ...   \n",
       "4             0          0            0                  0  ...   \n",
       "\n",
       "   Trim_Quad Coupe 2D  Trim_SE Sedan 4D  Trim_SLE Sedan 4D  Trim_SS Coupe 2D  \\\n",
       "0                   0                 0                  0                 0   \n",
       "1                   0                 0                  0                 0   \n",
       "2                   0                 0                  0                 0   \n",
       "3                   0                 0                  0                 0   \n",
       "4                   0                 0                  0                 0   \n",
       "\n",
       "   Trim_SS Sedan 4D  Trim_SVM Hatchback 4D  Trim_SVM Sedan 4D  Trim_Sedan 4D  \\\n",
       "0                 0                      0                  0              1   \n",
       "1                 0                      0                  0              1   \n",
       "2                 0                      0                  0              1   \n",
       "3                 0                      0                  0              1   \n",
       "4                 0                      0                  0              1   \n",
       "\n",
       "   Trim_Special Ed Ultra 4D  Trim_Sportwagon 4D  \n",
       "0                         0                   0  \n",
       "1                         0                   0  \n",
       "2                         0                   0  \n",
       "3                         0                   0  \n",
       "4                         0                   0  \n",
       "\n",
       "[5 rows x 55 columns]"
      ]
     },
     "execution_count": 31,
     "metadata": {},
     "output_type": "execute_result"
    }
   ],
   "source": [
    "x=pd.get_dummies(x,drop_first=True)\n",
    "x.head()"
   ]
  },
  {
   "cell_type": "code",
   "execution_count": 32,
   "id": "8f1f42ab",
   "metadata": {},
   "outputs": [],
   "source": [
    "x_train, x_test, y_train, y_test = train_test_split(x,y, test_size=0.2,random_state=13)\n",
    "lr = LinearRegression()\n",
    "regmodel = lr.fit(x_train,y_train)\n",
    "y_pretest=regmodel.predict(x_test)"
   ]
  },
  {
   "cell_type": "code",
   "execution_count": 33,
   "id": "83b5c376",
   "metadata": {},
   "outputs": [
    {
     "data": {
      "text/plain": [
       "1851.7604133477614"
      ]
     },
     "execution_count": 33,
     "metadata": {},
     "output_type": "execute_result"
    }
   ],
   "source": [
    "(mean_squared_error(y_test,y_pretest))**0.5\n"
   ]
  },
  {
   "cell_type": "code",
   "execution_count": 34,
   "id": "3a049908",
   "metadata": {},
   "outputs": [
    {
     "data": {
      "text/plain": [
       "0.9709792230084721"
      ]
     },
     "execution_count": 34,
     "metadata": {},
     "output_type": "execute_result"
    }
   ],
   "source": [
    "r2_score(y_test,y_pretest) "
   ]
  },
  {
   "cell_type": "code",
   "execution_count": 35,
   "id": "eae9aad9",
   "metadata": {},
   "outputs": [],
   "source": [
    "from sklearn.linear_model import Ridge, Lasso"
   ]
  },
  {
   "cell_type": "code",
   "execution_count": 36,
   "id": "31536875",
   "metadata": {},
   "outputs": [],
   "source": [
    "#Ridge R.\n",
    "R=Ridge()\n",
    "R.fit(x_train,y_train)\n",
    "y_pred_ridge = R.predict(x_test)"
   ]
  },
  {
   "cell_type": "code",
   "execution_count": 37,
   "id": "33afe50b",
   "metadata": {},
   "outputs": [
    {
     "data": {
      "text/plain": [
       "array([12560.98872829, 21126.66935734, 16664.94760757, 11110.73699846,\n",
       "       17897.24243169, 30039.90600168, 18219.81832546, 30807.5669173 ,\n",
       "       59069.34484098, 11514.60697809, 18339.67638906, 14382.66246407,\n",
       "       12624.50987477, 23122.3499029 , 17734.84472373, 19711.61517173,\n",
       "       13455.84262105, 35172.64167147, 17242.83127389, 38223.05628485,\n",
       "       13697.47840664, 30173.04551774, 27885.93976253, 60155.47606218,\n",
       "       20461.59972049, 16563.15643542, 10095.66665787, 11422.27786432,\n",
       "       18404.72022422, 14329.65104948, 12727.84923397, 22163.8442274 ,\n",
       "       32721.38073358, 18692.31579367, 20812.2768046 , 15637.02990395,\n",
       "       32698.21529847, 56664.88984972, 36964.41716497, 11480.29991795,\n",
       "       27295.69476868, 18439.02872951, 11316.34826164, 26103.24055549,\n",
       "       16826.94726662, 27505.67274074, 18121.2979429 , 11496.70469984,\n",
       "       11081.75427934, 18510.9084857 , 44539.37863006, 18849.61377454,\n",
       "       12683.267702  , 14008.33973775, 21356.49562676, 12841.91690367,\n",
       "       11193.45868002, 13367.84276525, 26915.0841118 , 21302.92004444,\n",
       "       19098.83512622, 35125.3796569 , 13161.0795084 , 19440.59783931,\n",
       "       20267.92286099,  7278.9221986 ,  9335.12461457, 33119.99297396,\n",
       "       38702.01773359, 13243.57065653, 13673.89999588, 38333.69236441,\n",
       "       20204.10684628, 10832.92472703, 13319.12806242, 15730.21516111,\n",
       "        9084.00891418, 12169.76185005, 12789.54822498, 12753.9019168 ,\n",
       "       33969.96877782, 18920.24727259, 17358.8977646 , 36805.09233061,\n",
       "       18087.91931393, 19294.32800467, 20254.23474711, 16405.5659817 ,\n",
       "       18895.67397898, 25750.52704715, 29420.25471749, 13966.62742944,\n",
       "       29275.15655445, 15798.46191058, 22010.24268004, 17025.6356406 ,\n",
       "       19321.46480107, 21672.4875811 , 29865.03662266,  9693.79064691,\n",
       "       12882.51200199, 11829.37567164,  9213.11447599, 17100.45905223,\n",
       "       15147.05267534, 30023.84656873, 22144.39654175, 35915.76740041,\n",
       "       18731.44954267, 22308.78258107, 12205.93395415, 22972.9428899 ,\n",
       "       15973.18584429, 14699.28989731, 11332.29327369, 37428.62323989,\n",
       "       39251.06021196, 32777.52239111, 17738.68338315, 16024.60550062,\n",
       "       29149.19544697, 18013.31187099, 28064.8765756 , 14196.36825938,\n",
       "       31231.29788094, 29458.41589876, 32106.54026441, 11555.54418546,\n",
       "       16774.06676265,  9888.29606882, 30581.7545301 , 29843.1098738 ,\n",
       "       28468.95698009, 14461.68002299, 13515.22307667, 14847.92377748,\n",
       "       13342.03467505, 10860.67177015, 19314.99250792, 21138.68967489,\n",
       "       14235.92588101, 12411.60095817,  7502.37276678, 17312.95558087,\n",
       "       64203.18117367, 18808.48166256, 22677.45696819, 28714.8234667 ,\n",
       "       21134.87468911, 14300.25884312, 14196.82554345, 29130.51436758,\n",
       "       41427.27610898, 43107.92703734, 15189.06782987, 11867.28185954,\n",
       "       24271.93219945, 21980.09936663, 44417.4641152 , 19770.57178019,\n",
       "       13658.28236202])"
      ]
     },
     "execution_count": 37,
     "metadata": {},
     "output_type": "execute_result"
    }
   ],
   "source": [
    "sonuc1=Ridge().fit(x_train,y_train).predict(x_test)\n",
    "sonuc1"
   ]
  },
  {
   "cell_type": "code",
   "execution_count": 38,
   "id": "c217bcbd",
   "metadata": {},
   "outputs": [
    {
     "data": {
      "text/plain": [
       "array([12560.98872829, 21126.66935734, 16664.94760757, 11110.73699846,\n",
       "       17897.24243169, 30039.90600168, 18219.81832546, 30807.5669173 ,\n",
       "       59069.34484098, 11514.60697809, 18339.67638906, 14382.66246407,\n",
       "       12624.50987477, 23122.3499029 , 17734.84472373, 19711.61517173,\n",
       "       13455.84262105, 35172.64167147, 17242.83127389, 38223.05628485,\n",
       "       13697.47840664, 30173.04551774, 27885.93976253, 60155.47606218,\n",
       "       20461.59972049, 16563.15643542, 10095.66665787, 11422.27786432,\n",
       "       18404.72022422, 14329.65104948, 12727.84923397, 22163.8442274 ,\n",
       "       32721.38073358, 18692.31579367, 20812.2768046 , 15637.02990395,\n",
       "       32698.21529847, 56664.88984972, 36964.41716497, 11480.29991795,\n",
       "       27295.69476868, 18439.02872951, 11316.34826164, 26103.24055549,\n",
       "       16826.94726662, 27505.67274074, 18121.2979429 , 11496.70469984,\n",
       "       11081.75427934, 18510.9084857 , 44539.37863006, 18849.61377454,\n",
       "       12683.267702  , 14008.33973775, 21356.49562676, 12841.91690367,\n",
       "       11193.45868002, 13367.84276525, 26915.0841118 , 21302.92004444,\n",
       "       19098.83512622, 35125.3796569 , 13161.0795084 , 19440.59783931,\n",
       "       20267.92286099,  7278.9221986 ,  9335.12461457, 33119.99297396,\n",
       "       38702.01773359, 13243.57065653, 13673.89999588, 38333.69236441,\n",
       "       20204.10684628, 10832.92472703, 13319.12806242, 15730.21516111,\n",
       "        9084.00891418, 12169.76185005, 12789.54822498, 12753.9019168 ,\n",
       "       33969.96877782, 18920.24727259, 17358.8977646 , 36805.09233061,\n",
       "       18087.91931393, 19294.32800467, 20254.23474711, 16405.5659817 ,\n",
       "       18895.67397898, 25750.52704715, 29420.25471749, 13966.62742944,\n",
       "       29275.15655445, 15798.46191058, 22010.24268004, 17025.6356406 ,\n",
       "       19321.46480107, 21672.4875811 , 29865.03662266,  9693.79064691,\n",
       "       12882.51200199, 11829.37567164,  9213.11447599, 17100.45905223,\n",
       "       15147.05267534, 30023.84656873, 22144.39654175, 35915.76740041,\n",
       "       18731.44954267, 22308.78258107, 12205.93395415, 22972.9428899 ,\n",
       "       15973.18584429, 14699.28989731, 11332.29327369, 37428.62323989,\n",
       "       39251.06021196, 32777.52239111, 17738.68338315, 16024.60550062,\n",
       "       29149.19544697, 18013.31187099, 28064.8765756 , 14196.36825938,\n",
       "       31231.29788094, 29458.41589876, 32106.54026441, 11555.54418546,\n",
       "       16774.06676265,  9888.29606882, 30581.7545301 , 29843.1098738 ,\n",
       "       28468.95698009, 14461.68002299, 13515.22307667, 14847.92377748,\n",
       "       13342.03467505, 10860.67177015, 19314.99250792, 21138.68967489,\n",
       "       14235.92588101, 12411.60095817,  7502.37276678, 17312.95558087,\n",
       "       64203.18117367, 18808.48166256, 22677.45696819, 28714.8234667 ,\n",
       "       21134.87468911, 14300.25884312, 14196.82554345, 29130.51436758,\n",
       "       41427.27610898, 43107.92703734, 15189.06782987, 11867.28185954,\n",
       "       24271.93219945, 21980.09936663, 44417.4641152 , 19770.57178019,\n",
       "       13658.28236202])"
      ]
     },
     "execution_count": 38,
     "metadata": {},
     "output_type": "execute_result"
    }
   ],
   "source": [
    "y_pred_ridge"
   ]
  },
  {
   "cell_type": "code",
   "execution_count": 39,
   "id": "152db5f3",
   "metadata": {},
   "outputs": [
    {
     "data": {
      "text/plain": [
       "1879.8496995065864"
      ]
     },
     "execution_count": 39,
     "metadata": {},
     "output_type": "execute_result"
    }
   ],
   "source": [
    "(mean_squared_error(y_test,sonuc1))**0.5\n"
   ]
  },
  {
   "cell_type": "code",
   "execution_count": 40,
   "id": "1553234c",
   "metadata": {},
   "outputs": [
    {
     "data": {
      "text/plain": [
       "0.9700921151865213"
      ]
     },
     "execution_count": 40,
     "metadata": {},
     "output_type": "execute_result"
    }
   ],
   "source": [
    "r2_score(y_test,sonuc1) "
   ]
  },
  {
   "cell_type": "code",
   "execution_count": 41,
   "id": "5198dac0",
   "metadata": {},
   "outputs": [],
   "source": [
    "#Lasso R.\n",
    "L=Lasso()\n",
    "L.fit(x_train,y_train)\n",
    "y_pred_lasso = L.predict(x_test)"
   ]
  },
  {
   "cell_type": "code",
   "execution_count": 42,
   "id": "0b33c7df",
   "metadata": {},
   "outputs": [
    {
     "data": {
      "text/plain": [
       "array([12568.91274333, 20992.15330053, 16402.64269064, 11205.01660317,\n",
       "       17872.70566167, 30047.96660159, 17955.86111751, 30584.23252574,\n",
       "       62216.90020999, 11514.28860742, 17611.79323717, 14363.05196822,\n",
       "       12800.74179177, 22943.43351098, 17512.05712827, 19446.99159205,\n",
       "       13413.09950668, 35540.75824214, 16656.27249911, 37980.18689589,\n",
       "       13914.2607005 , 30191.86568041, 27754.8685955 , 63302.54626652,\n",
       "       20327.38074408, 16316.69028901,  9970.077932  , 11640.07646902,\n",
       "       18174.29671107, 14332.80297808, 12728.05147069, 22293.78176407,\n",
       "       33144.48371638, 18465.42901605, 20712.91500634, 15337.22206311,\n",
       "       32705.08845644, 59813.51926633, 36677.66636433, 11182.34884959,\n",
       "       27333.18074972, 18444.67661546, 11360.69505817, 26231.4184006 ,\n",
       "       16763.62476832, 27551.67487067, 17858.34248787, 11496.39432595,\n",
       "       10867.50320174, 18287.77422981, 45065.17026537, 18591.52329395,\n",
       "       12682.4273015 , 13833.28666962, 21287.32501685, 13037.12524993,\n",
       "       10944.3527769 , 13049.97500616, 26730.21480793, 21362.74060526,\n",
       "       18851.23631581, 35493.51733907, 13160.02567382, 19415.37166683,\n",
       "       19921.58653551,  7154.59168618,  9572.9290741 , 33126.67772777,\n",
       "       38351.37632594, 13419.52604485, 13662.25334089, 38090.77355535,\n",
       "       19939.26327517, 11660.27000104, 13175.37158264, 15492.59162972,\n",
       "        8958.87208637, 12151.13983624, 13025.80962573, 12742.66621637,\n",
       "       34743.77943055, 18192.10478511, 17095.32512183, 36455.29826183,\n",
       "       17758.34981342, 19046.64186942, 20218.04213559, 16713.71173427,\n",
       "       18956.59882218, 25616.12815959, 29439.41114478, 13791.59299381,\n",
       "       29143.46483724, 15641.68275455, 22140.2488291 , 16809.38957591,\n",
       "       18733.97752009, 21511.23701131, 29733.08141154,  9480.1595597 ,\n",
       "       12564.86103563, 12046.99242955,  8999.69810235, 17389.2208596 ,\n",
       "       14759.19452138, 30059.15117121, 21813.01505073, 36688.70888306,\n",
       "       18578.13350708, 21961.5346226 , 12442.45604995, 22975.04841713,\n",
       "       15956.53007828, 14915.62469132, 11314.04534927, 37141.66508273,\n",
       "       40163.17755496, 32784.36012333, 17522.11880668, 16332.92142468,\n",
       "       29036.54054784, 18140.30783516, 27906.775039  , 14194.85197098,\n",
       "       31628.01788564, 29490.84894415, 32502.8693065 , 11792.3568043 ,\n",
       "       16613.41400785,  9964.04818352, 30600.39212627, 29684.21401699,\n",
       "       28501.83200754, 14460.0452223 , 14341.37019304, 14804.55883346,\n",
       "       14149.1856101 , 11056.76512012, 18586.67369142, 20791.964386  ,\n",
       "       14243.10171727, 12415.60966184,  7289.72056549, 17074.62505411,\n",
       "       67348.44330591, 18646.92015361, 22736.6635362 , 28805.9073452 ,\n",
       "       21063.98523971, 14343.81333591, 14184.9453025 , 29221.41256083,\n",
       "       41138.53179091, 44018.32155393, 15126.47695702, 11866.80595229,\n",
       "       24273.45748028, 21984.16548937, 44943.31020858, 19636.6614795 ,\n",
       "       13967.65530054])"
      ]
     },
     "execution_count": 42,
     "metadata": {},
     "output_type": "execute_result"
    }
   ],
   "source": [
    "y_pred_lasso"
   ]
  },
  {
   "cell_type": "code",
   "execution_count": 43,
   "id": "4f92bd64",
   "metadata": {},
   "outputs": [
    {
     "data": {
      "text/plain": [
       "1900.3738656036426"
      ]
     },
     "execution_count": 43,
     "metadata": {},
     "output_type": "execute_result"
    }
   ],
   "source": [
    "(mean_squared_error(y_test,y_pred_lasso))**0.5\n"
   ]
  },
  {
   "cell_type": "code",
   "execution_count": 44,
   "id": "f73d3f69",
   "metadata": {},
   "outputs": [
    {
     "data": {
      "text/plain": [
       "0.9694354825713973"
      ]
     },
     "execution_count": 44,
     "metadata": {},
     "output_type": "execute_result"
    }
   ],
   "source": [
    "r2_score(y_test,y_pred_lasso) "
   ]
  },
  {
   "cell_type": "code",
   "execution_count": 45,
   "id": "ba7ac4d6",
   "metadata": {},
   "outputs": [],
   "source": [
    "# Elastic Net\n",
    "from sklearn.linear_model import ElasticNet\n",
    "E = ElasticNet(l1_ratio=.8)"
   ]
  },
  {
   "cell_type": "code",
   "execution_count": 46,
   "id": "ad193dfb",
   "metadata": {},
   "outputs": [],
   "source": [
    "E.fit(x_train,y_train)\n",
    "y_pred_elastic = E.predict(x_test)"
   ]
  },
  {
   "cell_type": "code",
   "execution_count": 47,
   "id": "7108d8d2",
   "metadata": {},
   "outputs": [
    {
     "data": {
      "text/plain": [
       "5980.48117761805"
      ]
     },
     "execution_count": 47,
     "metadata": {},
     "output_type": "execute_result"
    }
   ],
   "source": [
    "(mean_squared_error(y_test,y_pred_elastic))**0.5"
   ]
  },
  {
   "cell_type": "code",
   "execution_count": 48,
   "id": "0745efcc",
   "metadata": {},
   "outputs": [
    {
     "data": {
      "text/plain": [
       "0.6973005021754757"
      ]
     },
     "execution_count": 48,
     "metadata": {},
     "output_type": "execute_result"
    }
   ],
   "source": [
    "r2_score(y_test,y_pred_elastic) "
   ]
  },
  {
   "cell_type": "code",
   "execution_count": 49,
   "id": "d5ece0a9",
   "metadata": {},
   "outputs": [],
   "source": [
    "# Extra Tree Regressor\n",
    "from sklearn.tree import ExtraTreeRegressor\n",
    "ETR = ExtraTreeRegressor()\n",
    "ETR.fit(x_train,y_train)\n",
    "y_pred_etr=ETR.predict(x_test)"
   ]
  },
  {
   "cell_type": "code",
   "execution_count": 50,
   "id": "54d99bd5",
   "metadata": {},
   "outputs": [
    {
     "data": {
      "text/plain": [
       "1518.3566838742083"
      ]
     },
     "execution_count": 50,
     "metadata": {},
     "output_type": "execute_result"
    }
   ],
   "source": [
    "(mean_squared_error(y_test,y_pred_etr))**0.5"
   ]
  },
  {
   "cell_type": "code",
   "execution_count": 51,
   "id": "ed4b3bd1",
   "metadata": {},
   "outputs": [
    {
     "data": {
      "text/plain": [
       "0.9804886618420944"
      ]
     },
     "execution_count": 51,
     "metadata": {},
     "output_type": "execute_result"
    }
   ],
   "source": [
    "r2_score(y_test,y_pred_etr)"
   ]
  },
  {
   "cell_type": "code",
   "execution_count": 52,
   "id": "03593a63",
   "metadata": {},
   "outputs": [],
   "source": [
    "from sklearn.ensemble import GradientBoostingRegressor\n",
    "GBR=GradientBoostingRegressor()\n",
    "GBR.fit(x_train,y_train)\n",
    "y_pred_gbr=GBR.predict(x_test)"
   ]
  },
  {
   "cell_type": "code",
   "execution_count": 53,
   "id": "9bbfef7a",
   "metadata": {},
   "outputs": [
    {
     "data": {
      "text/plain": [
       "1372.1676819665033"
      ]
     },
     "execution_count": 53,
     "metadata": {},
     "output_type": "execute_result"
    }
   ],
   "source": [
    "(mean_squared_error(y_test,y_pred_gbr))**0.5"
   ]
  },
  {
   "cell_type": "code",
   "execution_count": 54,
   "id": "91910af6",
   "metadata": {},
   "outputs": [
    {
     "data": {
      "text/plain": [
       "0.9840649358013481"
      ]
     },
     "execution_count": 54,
     "metadata": {},
     "output_type": "execute_result"
    }
   ],
   "source": [
    "r2_score(y_test,y_pred_gbr)"
   ]
  },
  {
   "cell_type": "code",
   "execution_count": 55,
   "id": "eeb16af2",
   "metadata": {},
   "outputs": [],
   "source": [
    "# K-Neighbors\n",
    "from sklearn.neighbors import KNeighborsRegressor\n",
    "est=KNeighborsRegressor(n_neighbors=10,weights=\"uniform\")\n",
    "model=est.fit(x_train,y_train)"
   ]
  },
  {
   "cell_type": "code",
   "execution_count": 56,
   "id": "c7f73bbc",
   "metadata": {},
   "outputs": [],
   "source": [
    "y_pred_knb=model.predict(x_test)"
   ]
  },
  {
   "cell_type": "code",
   "execution_count": 57,
   "id": "0d4aba42",
   "metadata": {},
   "outputs": [
    {
     "data": {
      "text/plain": [
       "11751.619653724523"
      ]
     },
     "execution_count": 57,
     "metadata": {},
     "output_type": "execute_result"
    }
   ],
   "source": [
    "(mean_squared_error(y_test,y_pred_knb))**0.5"
   ]
  },
  {
   "cell_type": "code",
   "execution_count": 58,
   "id": "89c37dc7",
   "metadata": {},
   "outputs": [
    {
     "data": {
      "text/plain": [
       "-0.16878572448561502"
      ]
     },
     "execution_count": 58,
     "metadata": {},
     "output_type": "execute_result"
    }
   ],
   "source": [
    "r2_score(y_test,y_pred_knb)"
   ]
  },
  {
   "cell_type": "code",
   "execution_count": null,
   "id": "6e8e3ec4",
   "metadata": {},
   "outputs": [],
   "source": []
  }
 ],
 "metadata": {
  "kernelspec": {
   "display_name": "Python 3 (ipykernel)",
   "language": "python",
   "name": "python3"
  },
  "language_info": {
   "codemirror_mode": {
    "name": "ipython",
    "version": 3
   },
   "file_extension": ".py",
   "mimetype": "text/x-python",
   "name": "python",
   "nbconvert_exporter": "python",
   "pygments_lexer": "ipython3",
   "version": "3.9.7"
  }
 },
 "nbformat": 4,
 "nbformat_minor": 5
}
