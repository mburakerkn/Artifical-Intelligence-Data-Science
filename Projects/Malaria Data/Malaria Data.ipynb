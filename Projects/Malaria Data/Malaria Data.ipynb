{
 "cells": [
  {
   "cell_type": "markdown",
   "id": "d2be4f2e",
   "metadata": {},
   "source": [
    "# Malaria Data"
   ]
  },
  {
   "cell_type": "code",
   "execution_count": 3,
   "id": "e5d78d77",
   "metadata": {},
   "outputs": [],
   "source": [
    "import numpy as np\n",
    "import pandas as pd\n",
    "import matplotlib.pyplot as plt\n",
    "import warnings\n",
    "warnings.filterwarnings(\"ignore\")\n",
    "import tensorflow as tf\n",
    "from tensorflow.keras import Sequential\n",
    "from tensorflow.keras.layers import Conv2D,MaxPool2D,Dropout,Flatten,Dense,BatchNormalization\n",
    "from tensorflow.keras.preprocessing.image import ImageDataGenerator\n",
    "from tensorflow.keras.callbacks import EarlyStopping\n",
    "import cv2"
   ]
  },
  {
   "cell_type": "code",
   "execution_count": 12,
   "id": "49ad7849",
   "metadata": {},
   "outputs": [
    {
     "name": "stdout",
     "output_type": "stream",
     "text": [
      "Found 22048 images belonging to 2 classes.\n",
      "Found 5510 images belonging to 2 classes.\n"
     ]
    }
   ],
   "source": [
    "data_gen = ImageDataGenerator(rescale=1/255.0, validation_split=0.2)\n",
    "\n",
    "early_stop = EarlyStopping(monitor='val_loss',patience=2)\n",
    "\n",
    "train = data_gen.flow_from_directory(directory='./cell_images/',\n",
    "                                           target_size=(128,128),\n",
    "                                           class_mode = 'binary',\n",
    "                                           batch_size = 16,\n",
    "                                           subset='training')\n",
    "\n",
    "test = data_gen.flow_from_directory(directory='./cell_images/',\n",
    "                                           target_size=(128,128),\n",
    "                                           class_mode = 'binary',\n",
    "                                           batch_size = 16,\n",
    "                                           subset='validation')"
   ]
  },
  {
   "cell_type": "code",
   "execution_count": 13,
   "id": "97893463",
   "metadata": {},
   "outputs": [
    {
     "data": {
      "text/plain": [
       "keras.preprocessing.image.DirectoryIterator"
      ]
     },
     "execution_count": 13,
     "metadata": {},
     "output_type": "execute_result"
    }
   ],
   "source": [
    "type(train)"
   ]
  },
  {
   "cell_type": "code",
   "execution_count": 22,
   "id": "12121bc2",
   "metadata": {},
   "outputs": [
    {
     "name": "stdout",
     "output_type": "stream",
     "text": [
      "Epoch 1/10\n",
      "1378/1378 [==============================] - 1451s 1s/step - loss: 0.5757 - accuracy: 0.7056 - val_loss: 1.0043 - val_accuracy: 0.7152\n",
      "Epoch 2/10\n",
      "1378/1378 [==============================] - 1427s 1s/step - loss: 0.3124 - accuracy: 0.8762 - val_loss: 0.5457 - val_accuracy: 0.7851\n",
      "Epoch 3/10\n",
      "1378/1378 [==============================] - 1472s 1s/step - loss: 0.2396 - accuracy: 0.9126 - val_loss: 0.3917 - val_accuracy: 0.8893\n",
      "Epoch 4/10\n",
      "1378/1378 [==============================] - 1384s 1s/step - loss: 0.1844 - accuracy: 0.9358 - val_loss: 0.5124 - val_accuracy: 0.9100\n",
      "Epoch 5/10\n",
      "1378/1378 [==============================] - 1324s 961ms/step - loss: 0.1777 - accuracy: 0.9393 - val_loss: 0.2519 - val_accuracy: 0.9209\n",
      "Epoch 6/10\n",
      "1378/1378 [==============================] - 1445s 1s/step - loss: 0.1578 - accuracy: 0.9432 - val_loss: 0.2933 - val_accuracy: 0.9214\n",
      "Epoch 7/10\n",
      "1378/1378 [==============================] - 1299s 943ms/step - loss: 0.1090 - accuracy: 0.9619 - val_loss: 0.2617 - val_accuracy: 0.9178\n"
     ]
    }
   ],
   "source": [
    "model = tf.keras.Sequential([\n",
    "    tf.keras.layers.Conv2D(32,(3,3), activation=\"relu\", input_shape=(128, 128, 3)),\n",
    "    tf.keras.layers.BatchNormalization(),\n",
    "    tf.keras.layers.Conv2D(64,(3,3), activation=\"relu\"),\n",
    "    tf.keras.layers.MaxPooling2D(2,2),\n",
    "    tf.keras.layers.BatchNormalization(),\n",
    "    tf.keras.layers.Flatten(),\n",
    "    tf.keras.layers.Dense(100, activation=\"relu\"),\n",
    "    tf.keras.layers.BatchNormalization(),\n",
    "    tf.keras.layers.Dense(1, activation=\"sigmoid\")])\n",
    "model.compile(optimizer='adam',loss='binary_crossentropy',metrics=['accuracy'])\n",
    "history = model.fit_generator(generator = train,\n",
    "                             steps_per_epoch = len(train),\n",
    "                              epochs =10,\n",
    "                              validation_data = test,\n",
    "                              validation_steps=len(test),\n",
    "                             callbacks=[early_stop])\n"
   ]
  },
  {
   "cell_type": "code",
   "execution_count": 23,
   "id": "c77d7ff1",
   "metadata": {},
   "outputs": [],
   "source": [
    "def plotLearningCurve(history,epochs):\n",
    "  epochRange = range(1,epochs+1)\n",
    "  plt.plot(epochRange,history.history['accuracy'])\n",
    "  plt.plot(epochRange,history.history['val_accuracy'])\n",
    "  plt.title('Model Accuracy')\n",
    "  plt.xlabel('Epoch')\n",
    "  plt.ylabel('Accuracy')\n",
    "  plt.legend(['Train','Validation'],loc='upper left')\n",
    "  plt.show()\n",
    "\n",
    "  plt.plot(epochRange,history.history['loss'])\n",
    "  plt.plot(epochRange,history.history['val_loss'])\n",
    "  plt.title('Model Loss')\n",
    "  plt.xlabel('Epoch')\n",
    "  plt.ylabel('Loss')\n",
    "  plt.legend(['Train','Validation'],loc='upper left')\n",
    "  plt.show()"
   ]
  },
  {
   "cell_type": "code",
   "execution_count": 24,
   "id": "170ca0a0",
   "metadata": {},
   "outputs": [
    {
     "data": {
      "image/png": "[encoded data removed]",
      "text/plain": [
       "<Figure size 432x288 with 1 Axes>"
      ]
     },
     "metadata": {
      "needs_background": "light"
     },
     "output_type": "display_data"
    },
    {
     "data": {
      "image/png": "[encoded data removed]",
      "text/plain": [
       "<Figure size 432x288 with 1 Axes>"
      ]
     },
     "metadata": {
      "needs_background": "light"
     },
     "output_type": "display_data"
    }
   ],
   "source": [
    "plotLearningCurve(history,7)"
   ]
  },
  {
   "cell_type": "code",
   "execution_count": null,
   "id": "8dcff4ce",
   "metadata": {},
   "outputs": [],
   "source": []
  }
 ],
 "metadata": {
  "kernelspec": {
   "display_name": "Python 3 (ipykernel)",
   "language": "python",
   "name": "python3"
  },
  "language_info": {
   "codemirror_mode": {
    "name": "ipython",
    "version": 3
   },
   "file_extension": ".py",
   "mimetype": "text/x-python",
   "name": "python",
   "nbconvert_exporter": "python",
   "pygments_lexer": "ipython3",
   "version": "3.9.7"
  }
 },
 "nbformat": 4,
 "nbformat_minor": 5
}
