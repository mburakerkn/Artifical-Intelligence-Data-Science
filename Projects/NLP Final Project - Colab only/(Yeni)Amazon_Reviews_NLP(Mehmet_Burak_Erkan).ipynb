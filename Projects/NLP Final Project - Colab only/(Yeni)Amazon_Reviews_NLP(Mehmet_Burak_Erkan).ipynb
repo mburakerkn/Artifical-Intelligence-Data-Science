{
  "cells": [
    {
      "cell_type": "markdown",
      "metadata": {
        "id": "CBAQ-Qery2Ro"
      },
      "source": [
        "## Mehmet Burak Erkan<br>\n",
        "Osmanbey - IEEE Student<br>\n",
        "Mastering Applied Data Science with Deep Learning, 2022 cohort<br>\n",
        "\n",
        "<h1 align=\"center\">NLP Project Final Project</h1>\n",
        "\n",
        "# Introduction #\n",
        "**Problem Statement**: Classifying Amazon reviews based on customer ratings using NLP"
      ]
    },
    {
      "cell_type": "code",
      "execution_count": 3,
      "metadata": {
        "code_folding": [],
        "id": "RpTYf5a_y2Rw",
        "colab": {
          "base_uri": "https://localhost:8080/"
        },
        "outputId": "cdb11245-8a04-4971-878d-2d194154f818"
      },
      "outputs": [
        {
          "output_type": "stream",
          "name": "stderr",
          "text": [
            "[nltk_data] Downloading package punkt to /root/nltk_data...\n",
            "[nltk_data]   Package punkt is already up-to-date!\n"
          ]
        }
      ],
      "source": [
        "import warnings\n",
        "\n",
        "warnings.simplefilter(\"ignore\", UserWarning)\n",
        "warnings.simplefilter(\"ignore\", FutureWarning)\n",
        "warnings.simplefilter(\"ignore\", DeprecationWarning)\n",
        "import pandas as pd\n",
        "import numpy as np\n",
        "import matplotlib.pyplot as plt\n",
        "%matplotlib inline\n",
        "from textblob import TextBlob, Word\n",
        "import nltk\n",
        "nltk.download('punkt')\n",
        "from nltk import word_tokenize\n",
        "from nltk.corpus import stopwords\n",
        "from nltk.stem import WordNetLemmatizer\n",
        "import sklearn\n",
        "from sklearn.feature_extraction.text import CountVectorizer, TfidfVectorizer\n",
        "import seaborn as sns\n",
        "from sklearn.model_selection import train_test_split\n",
        "from sklearn import metrics\n",
        "\n",
        "from sklearn.naive_bayes import MultinomialNB,GaussianNB,BernoulliNB\n",
        "from sklearn.neighbors import KNeighborsClassifier\n",
        "from sklearn.svm import SVC\n",
        "from sklearn.tree import DecisionTreeClassifier\n",
        "from sklearn.linear_model import LogisticRegression\n",
        "from sklearn.ensemble import GradientBoostingClassifier\n",
        "from sklearn.ensemble import AdaBoostClassifier\n",
        "from xgboost import XGBClassifier\n",
        "from sklearn.ensemble import RandomForestClassifier\n",
        "from sklearn.metrics import classification_report,accuracy_score,confusion_matrix,precision_score,recall_score,f1_score\n",
        "from unicodedata import normalize\n",
        "\n",
        "import warnings\n",
        "warnings.filterwarnings(\"ignore\")"
      ]
    },
    {
      "cell_type": "markdown",
      "source": [
        "Verimizi internetten çekip dosyamıza dahil ediyoruz."
      ],
      "metadata": {
        "id": "Yf6wn5sY2lc9"
      }
    },
    {
      "cell_type": "code",
      "execution_count": 4,
      "metadata": {
        "colab": {
          "base_uri": "https://localhost:8080/",
          "height": 581
        },
        "id": "GR-xTPiWy2Ry",
        "outputId": "9bedc0ef-6053-4018-8b2f-c5854ac846cc"
      },
      "outputs": [
        {
          "output_type": "display_data",
          "data": {
            "text/plain": [
              "       reviewerID        asin                           reviewerName  \\\n",
              "0   AO94DHGC771SJ  0528881469                                amazdnu   \n",
              "1   AMO214LNFCEI4  0528881469                        Amazon Customer   \n",
              "2  A3N7T0DY83Y4IG  0528881469                          C. A. Freeman   \n",
              "3  A1H8PY3QHMQQA0  0528881469               Dave M. Shaw \"mack dave\"   \n",
              "4  A24EV6RXELQZ63  0528881469                            Wayne Smith   \n",
              "5  A2JXAZZI9PHK9Z  0594451647          Billy G. Noland \"Bill Noland\"   \n",
              "6  A2P5U7BDKKT7FW  0594451647                              Christian   \n",
              "7   AAZ084UMH8VZ2  0594451647  D. L. Brown \"A Knower Of Good Things\"   \n",
              "8   AEZ3CR6BKIROJ  0594451647                           Mark Dietter   \n",
              "9  A3BY5KCNQZXV5U  0594451647                                Matenai   \n",
              "\n",
              "    helpful                                         reviewText  overall  \\\n",
              "0    [0, 0]  We got this GPS for my husband who is an (OTR)...        5   \n",
              "1  [12, 15]  I'm a professional OTR truck driver, and I bou...        1   \n",
              "2  [43, 45]  Well, what can I say.  I've had this unit in m...        3   \n",
              "3   [9, 10]  Not going to write a long review, even thought...        2   \n",
              "4    [0, 0]  I've had mine for a year and here's what we go...        1   \n",
              "5    [3, 3]  I am using this with a Nook HD+. It works as d...        5   \n",
              "6    [0, 0]  The cable is very wobbly and sometimes disconn...        2   \n",
              "7    [0, 0]  This adaptor is real easy to setup and use rig...        5   \n",
              "8    [0, 0]  This adapter easily connects my Nook HD 7&#34;...        4   \n",
              "9    [3, 3]  This product really works great but I found th...        5   \n",
              "\n",
              "                                    summary  unixReviewTime   reviewTime  \n",
              "0                           Gotta have GPS!      1370131200   06 2, 2013  \n",
              "1                         Very Disappointed      1290643200  11 25, 2010  \n",
              "2                            1st impression      1283990400   09 9, 2010  \n",
              "3                   Great grafics, POOR GPS      1290556800  11 24, 2010  \n",
              "4    Major issues, only excuses for support      1317254400  09 29, 2011  \n",
              "5                   HDMI Nook adapter cable      1388707200   01 3, 2014  \n",
              "6                    Cheap proprietary scam      1398556800  04 27, 2014  \n",
              "7               A Perfdect Nook HD+ hook up      1399161600   05 4, 2014  \n",
              "8             A nice easy to use accessory.      1405036800  07 11, 2014  \n",
              "9  This works great but read the details...      1390176000  01 20, 2014  "
            ],
            "text/html": [
              "\n",
              "  <div id=\"df-dafcf70e-3f67-4bd1-b786-5439d0569ef7\">\n",
              "    <div class=\"colab-df-container\">\n",
              "      <div>\n",
              "<style scoped>\n",
              "    .dataframe tbody tr th:only-of-type {\n",
              "        vertical-align: middle;\n",
              "    }\n",
              "\n",
              "    .dataframe tbody tr th {\n",
              "        vertical-align: top;\n",
              "    }\n",
              "\n",
              "    .dataframe thead th {\n",
              "        text-align: right;\n",
              "    }\n",
              "</style>\n",
              "<table border=\"1\" class=\"dataframe\">\n",
              "  <thead>\n",
              "    <tr style=\"text-align: right;\">\n",
              "      <th></th>\n",
              "      <th>reviewerID</th>\n",
              "      <th>asin</th>\n",
              "      <th>reviewerName</th>\n",
              "      <th>helpful</th>\n",
              "      <th>reviewText</th>\n",
              "      <th>overall</th>\n",
              "      <th>summary</th>\n",
              "      <th>unixReviewTime</th>\n",
              "      <th>reviewTime</th>\n",
              "    </tr>\n",
              "  </thead>\n",
              "  <tbody>\n",
              "    <tr>\n",
              "      <th>0</th>\n",
              "      <td>AO94DHGC771SJ</td>\n",
              "      <td>0528881469</td>\n",
              "      <td>amazdnu</td>\n",
              "      <td>[0, 0]</td>\n",
              "      <td>We got this GPS for my husband who is an (OTR)...</td>\n",
              "      <td>5</td>\n",
              "      <td>Gotta have GPS!</td>\n",
              "      <td>1370131200</td>\n",
              "      <td>06 2, 2013</td>\n",
              "    </tr>\n",
              "    <tr>\n",
              "      <th>1</th>\n",
              "      <td>AMO214LNFCEI4</td>\n",
              "      <td>0528881469</td>\n",
              "      <td>Amazon Customer</td>\n",
              "      <td>[12, 15]</td>\n",
              "      <td>I'm a professional OTR truck driver, and I bou...</td>\n",
              "      <td>1</td>\n",
              "      <td>Very Disappointed</td>\n",
              "      <td>1290643200</td>\n",
              "      <td>11 25, 2010</td>\n",
              "    </tr>\n",
              "    <tr>\n",
              "      <th>2</th>\n",
              "      <td>A3N7T0DY83Y4IG</td>\n",
              "      <td>0528881469</td>\n",
              "      <td>C. A. Freeman</td>\n",
              "      <td>[43, 45]</td>\n",
              "      <td>Well, what can I say.  I've had this unit in m...</td>\n",
              "      <td>3</td>\n",
              "      <td>1st impression</td>\n",
              "      <td>1283990400</td>\n",
              "      <td>09 9, 2010</td>\n",
              "    </tr>\n",
              "    <tr>\n",
              "      <th>3</th>\n",
              "      <td>A1H8PY3QHMQQA0</td>\n",
              "      <td>0528881469</td>\n",
              "      <td>Dave M. Shaw \"mack dave\"</td>\n",
              "      <td>[9, 10]</td>\n",
              "      <td>Not going to write a long review, even thought...</td>\n",
              "      <td>2</td>\n",
              "      <td>Great grafics, POOR GPS</td>\n",
              "      <td>1290556800</td>\n",
              "      <td>11 24, 2010</td>\n",
              "    </tr>\n",
              "    <tr>\n",
              "      <th>4</th>\n",
              "      <td>A24EV6RXELQZ63</td>\n",
              "      <td>0528881469</td>\n",
              "      <td>Wayne Smith</td>\n",
              "      <td>[0, 0]</td>\n",
              "      <td>I've had mine for a year and here's what we go...</td>\n",
              "      <td>1</td>\n",
              "      <td>Major issues, only excuses for support</td>\n",
              "      <td>1317254400</td>\n",
              "      <td>09 29, 2011</td>\n",
              "    </tr>\n",
              "    <tr>\n",
              "      <th>5</th>\n",
              "      <td>A2JXAZZI9PHK9Z</td>\n",
              "      <td>0594451647</td>\n",
              "      <td>Billy G. Noland \"Bill Noland\"</td>\n",
              "      <td>[3, 3]</td>\n",
              "      <td>I am using this with a Nook HD+. It works as d...</td>\n",
              "      <td>5</td>\n",
              "      <td>HDMI Nook adapter cable</td>\n",
              "      <td>1388707200</td>\n",
              "      <td>01 3, 2014</td>\n",
              "    </tr>\n",
              "    <tr>\n",
              "      <th>6</th>\n",
              "      <td>A2P5U7BDKKT7FW</td>\n",
              "      <td>0594451647</td>\n",
              "      <td>Christian</td>\n",
              "      <td>[0, 0]</td>\n",
              "      <td>The cable is very wobbly and sometimes disconn...</td>\n",
              "      <td>2</td>\n",
              "      <td>Cheap proprietary scam</td>\n",
              "      <td>1398556800</td>\n",
              "      <td>04 27, 2014</td>\n",
              "    </tr>\n",
              "    <tr>\n",
              "      <th>7</th>\n",
              "      <td>AAZ084UMH8VZ2</td>\n",
              "      <td>0594451647</td>\n",
              "      <td>D. L. Brown \"A Knower Of Good Things\"</td>\n",
              "      <td>[0, 0]</td>\n",
              "      <td>This adaptor is real easy to setup and use rig...</td>\n",
              "      <td>5</td>\n",
              "      <td>A Perfdect Nook HD+ hook up</td>\n",
              "      <td>1399161600</td>\n",
              "      <td>05 4, 2014</td>\n",
              "    </tr>\n",
              "    <tr>\n",
              "      <th>8</th>\n",
              "      <td>AEZ3CR6BKIROJ</td>\n",
              "      <td>0594451647</td>\n",
              "      <td>Mark Dietter</td>\n",
              "      <td>[0, 0]</td>\n",
              "      <td>This adapter easily connects my Nook HD 7&amp;#34;...</td>\n",
              "      <td>4</td>\n",
              "      <td>A nice easy to use accessory.</td>\n",
              "      <td>1405036800</td>\n",
              "      <td>07 11, 2014</td>\n",
              "    </tr>\n",
              "    <tr>\n",
              "      <th>9</th>\n",
              "      <td>A3BY5KCNQZXV5U</td>\n",
              "      <td>0594451647</td>\n",
              "      <td>Matenai</td>\n",
              "      <td>[3, 3]</td>\n",
              "      <td>This product really works great but I found th...</td>\n",
              "      <td>5</td>\n",
              "      <td>This works great but read the details...</td>\n",
              "      <td>1390176000</td>\n",
              "      <td>01 20, 2014</td>\n",
              "    </tr>\n",
              "  </tbody>\n",
              "</table>\n",
              "</div>\n",
              "      <button class=\"colab-df-convert\" onclick=\"convertToInteractive('df-dafcf70e-3f67-4bd1-b786-5439d0569ef7')\"\n",
              "              title=\"Convert this dataframe to an interactive table.\"\n",
              "              style=\"display:none;\">\n",
              "        \n",
              "  <svg xmlns=\"http://www.w3.org/2000/svg\" height=\"24px\"viewBox=\"0 0 24 24\"\n",
              "       width=\"24px\">\n",
              "    <path d=\"M0 0h24v24H0V0z\" fill=\"none\"/>\n",
              "    <path d=\"M18.56 5.44l.94 2.06.94-2.06 2.06-.94-2.06-.94-.94-2.06-.94 2.06-2.06.94zm-11 1L8.5 8.5l.94-2.06 2.06-.94-2.06-.94L8.5 2.5l-.94 2.06-2.06.94zm10 10l.94 2.06.94-2.06 2.06-.94-2.06-.94-.94-2.06-.94 2.06-2.06.94z\"/><path d=\"M17.41 7.96l-1.37-1.37c-.4-.4-.92-.59-1.43-.59-.52 0-1.04.2-1.43.59L10.3 9.45l-7.72 7.72c-.78.78-.78 2.05 0 2.83L4 21.41c.39.39.9.59 1.41.59.51 0 1.02-.2 1.41-.59l7.78-7.78 2.81-2.81c.8-.78.8-2.07 0-2.86zM5.41 20L4 18.59l7.72-7.72 1.47 1.35L5.41 20z\"/>\n",
              "  </svg>\n",
              "      </button>\n",
              "      \n",
              "  <style>\n",
              "    .colab-df-container {\n",
              "      display:flex;\n",
              "      flex-wrap:wrap;\n",
              "      gap: 12px;\n",
              "    }\n",
              "\n",
              "    .colab-df-convert {\n",
              "      background-color: #E8F0FE;\n",
              "      border: none;\n",
              "      border-radius: 50%;\n",
              "      cursor: pointer;\n",
              "      display: none;\n",
              "      fill: #1967D2;\n",
              "      height: 32px;\n",
              "      padding: 0 0 0 0;\n",
              "      width: 32px;\n",
              "    }\n",
              "\n",
              "    .colab-df-convert:hover {\n",
              "      background-color: #E2EBFA;\n",
              "      box-shadow: 0px 1px 2px rgba(60, 64, 67, 0.3), 0px 1px 3px 1px rgba(60, 64, 67, 0.15);\n",
              "      fill: #174EA6;\n",
              "    }\n",
              "\n",
              "    [theme=dark] .colab-df-convert {\n",
              "      background-color: #3B4455;\n",
              "      fill: #D2E3FC;\n",
              "    }\n",
              "\n",
              "    [theme=dark] .colab-df-convert:hover {\n",
              "      background-color: #434B5C;\n",
              "      box-shadow: 0px 1px 3px 1px rgba(0, 0, 0, 0.15);\n",
              "      filter: drop-shadow(0px 1px 2px rgba(0, 0, 0, 0.3));\n",
              "      fill: #FFFFFF;\n",
              "    }\n",
              "  </style>\n",
              "\n",
              "      <script>\n",
              "        const buttonEl =\n",
              "          document.querySelector('#df-dafcf70e-3f67-4bd1-b786-5439d0569ef7 button.colab-df-convert');\n",
              "        buttonEl.style.display =\n",
              "          google.colab.kernel.accessAllowed ? 'block' : 'none';\n",
              "\n",
              "        async function convertToInteractive(key) {\n",
              "          const element = document.querySelector('#df-dafcf70e-3f67-4bd1-b786-5439d0569ef7');\n",
              "          const dataTable =\n",
              "            await google.colab.kernel.invokeFunction('convertToInteractive',\n",
              "                                                     [key], {});\n",
              "          if (!dataTable) return;\n",
              "\n",
              "          const docLinkHtml = 'Like what you see? Visit the ' +\n",
              "            '<a target=\"_blank\" href=https://colab.research.google.com/notebooks/data_table.ipynb>data table notebook</a>'\n",
              "            + ' to learn more about interactive tables.';\n",
              "          element.innerHTML = '';\n",
              "          dataTable['output_type'] = 'display_data';\n",
              "          await google.colab.output.renderOutput(dataTable, element);\n",
              "          const docLink = document.createElement('div');\n",
              "          docLink.innerHTML = docLinkHtml;\n",
              "          element.appendChild(docLink);\n",
              "        }\n",
              "      </script>\n",
              "    </div>\n",
              "  </div>\n",
              "  "
            ]
          },
          "metadata": {}
        }
      ],
      "source": [
        "import os\n",
        "import pandas as pd\n",
        "\n",
        "if os.path.isfile(\"Electronics_5.json\"):\n",
        "    df = pd.read_json(\"Electronics_5.json\", lines=True)\n",
        "else:\n",
        "    df = pd.read_json(r\"http://snap.stanford.edu/data/amazon/productGraph/categoryFiles/reviews_Electronics_5.json.gz\", compression='gzip', lines=True)\n",
        "\n",
        "display(df.head(10))"
      ]
    },
    {
      "cell_type": "code",
      "source": [
        "df.shape"
      ],
      "metadata": {
        "colab": {
          "base_uri": "https://localhost:8080/"
        },
        "id": "Ih6Gv-uiqs3n",
        "outputId": "e26e17d2-da23-40c2-e98a-d828f5d97ce5"
      },
      "execution_count": 5,
      "outputs": [
        {
          "output_type": "execute_result",
          "data": {
            "text/plain": [
              "(1689188, 9)"
            ]
          },
          "metadata": {},
          "execution_count": 5
        }
      ]
    },
    {
      "cell_type": "code",
      "execution_count": 6,
      "metadata": {
        "colab": {
          "base_uri": "https://localhost:8080/"
        },
        "id": "XHEmhKFhy2R0",
        "outputId": "e10cbde2-65d8-4a75-ab90-df6e58e3d3a7"
      },
      "outputs": [
        {
          "output_type": "stream",
          "name": "stdout",
          "text": [
            "<class 'pandas.core.frame.DataFrame'>\n",
            "RangeIndex: 1689188 entries, 0 to 1689187\n",
            "Data columns (total 9 columns):\n",
            " #   Column          Non-Null Count    Dtype \n",
            "---  ------          --------------    ----- \n",
            " 0   reviewerID      1689188 non-null  object\n",
            " 1   asin            1689188 non-null  object\n",
            " 2   reviewerName    1664458 non-null  object\n",
            " 3   helpful         1689188 non-null  object\n",
            " 4   reviewText      1689188 non-null  object\n",
            " 5   overall         1689188 non-null  int64 \n",
            " 6   summary         1689188 non-null  object\n",
            " 7   unixReviewTime  1689188 non-null  int64 \n",
            " 8   reviewTime      1689188 non-null  object\n",
            "dtypes: int64(2), object(7)\n",
            "memory usage: 116.0+ MB\n",
            "None\n"
          ]
        }
      ],
      "source": [
        "print(df.info())"
      ]
    },
    {
      "cell_type": "markdown",
      "source": [
        "Datetime verisine dönüştürüyoruz."
      ],
      "metadata": {
        "id": "9dRJjslV4rM5"
      }
    },
    {
      "cell_type": "code",
      "execution_count": 7,
      "metadata": {
        "id": "pKyz1jNhy2R0",
        "scrolled": true
      },
      "outputs": [],
      "source": [
        "from datetime import datetime\n",
        "\n",
        "condition = lambda row: datetime.fromtimestamp(row).strftime(\"%m-%d-%Y\")\n",
        "df[\"unixReviewTime\"] = df[\"unixReviewTime\"].apply(condition)"
      ]
    },
    {
      "cell_type": "markdown",
      "source": [
        "\"reviewTime\" gereksiz olduğu için bu sütunu siliyoruz."
      ],
      "metadata": {
        "id": "8UZtG0zL41Oq"
      }
    },
    {
      "cell_type": "code",
      "execution_count": 8,
      "metadata": {
        "id": "1TlfYqv1y2R3",
        "outputId": "7ccb85fd-a0b5-4ed6-f704-78a035e50977",
        "scrolled": false,
        "colab": {
          "base_uri": "https://localhost:8080/",
          "height": 250
        }
      },
      "outputs": [
        {
          "output_type": "display_data",
          "data": {
            "text/plain": [
              "       reviewerID        asin              reviewerName   helpful  \\\n",
              "0   AO94DHGC771SJ  0528881469                   amazdnu    [0, 0]   \n",
              "1   AMO214LNFCEI4  0528881469           Amazon Customer  [12, 15]   \n",
              "2  A3N7T0DY83Y4IG  0528881469             C. A. Freeman  [43, 45]   \n",
              "3  A1H8PY3QHMQQA0  0528881469  Dave M. Shaw \"mack dave\"   [9, 10]   \n",
              "4  A24EV6RXELQZ63  0528881469               Wayne Smith    [0, 0]   \n",
              "\n",
              "                                          reviewText  overall  \\\n",
              "0  We got this GPS for my husband who is an (OTR)...        5   \n",
              "1  I'm a professional OTR truck driver, and I bou...        1   \n",
              "2  Well, what can I say.  I've had this unit in m...        3   \n",
              "3  Not going to write a long review, even thought...        2   \n",
              "4  I've had mine for a year and here's what we go...        1   \n",
              "\n",
              "                                  summary unixReviewTime  \n",
              "0                         Gotta have GPS!     06-02-2013  \n",
              "1                       Very Disappointed     11-25-2010  \n",
              "2                          1st impression     09-09-2010  \n",
              "3                 Great grafics, POOR GPS     11-24-2010  \n",
              "4  Major issues, only excuses for support     09-29-2011  "
            ],
            "text/html": [
              "\n",
              "  <div id=\"df-46f383a1-3bc7-45d0-84c1-0873e3187813\">\n",
              "    <div class=\"colab-df-container\">\n",
              "      <div>\n",
              "<style scoped>\n",
              "    .dataframe tbody tr th:only-of-type {\n",
              "        vertical-align: middle;\n",
              "    }\n",
              "\n",
              "    .dataframe tbody tr th {\n",
              "        vertical-align: top;\n",
              "    }\n",
              "\n",
              "    .dataframe thead th {\n",
              "        text-align: right;\n",
              "    }\n",
              "</style>\n",
              "<table border=\"1\" class=\"dataframe\">\n",
              "  <thead>\n",
              "    <tr style=\"text-align: right;\">\n",
              "      <th></th>\n",
              "      <th>reviewerID</th>\n",
              "      <th>asin</th>\n",
              "      <th>reviewerName</th>\n",
              "      <th>helpful</th>\n",
              "      <th>reviewText</th>\n",
              "      <th>overall</th>\n",
              "      <th>summary</th>\n",
              "      <th>unixReviewTime</th>\n",
              "    </tr>\n",
              "  </thead>\n",
              "  <tbody>\n",
              "    <tr>\n",
              "      <th>0</th>\n",
              "      <td>AO94DHGC771SJ</td>\n",
              "      <td>0528881469</td>\n",
              "      <td>amazdnu</td>\n",
              "      <td>[0, 0]</td>\n",
              "      <td>We got this GPS for my husband who is an (OTR)...</td>\n",
              "      <td>5</td>\n",
              "      <td>Gotta have GPS!</td>\n",
              "      <td>06-02-2013</td>\n",
              "    </tr>\n",
              "    <tr>\n",
              "      <th>1</th>\n",
              "      <td>AMO214LNFCEI4</td>\n",
              "      <td>0528881469</td>\n",
              "      <td>Amazon Customer</td>\n",
              "      <td>[12, 15]</td>\n",
              "      <td>I'm a professional OTR truck driver, and I bou...</td>\n",
              "      <td>1</td>\n",
              "      <td>Very Disappointed</td>\n",
              "      <td>11-25-2010</td>\n",
              "    </tr>\n",
              "    <tr>\n",
              "      <th>2</th>\n",
              "      <td>A3N7T0DY83Y4IG</td>\n",
              "      <td>0528881469</td>\n",
              "      <td>C. A. Freeman</td>\n",
              "      <td>[43, 45]</td>\n",
              "      <td>Well, what can I say.  I've had this unit in m...</td>\n",
              "      <td>3</td>\n",
              "      <td>1st impression</td>\n",
              "      <td>09-09-2010</td>\n",
              "    </tr>\n",
              "    <tr>\n",
              "      <th>3</th>\n",
              "      <td>A1H8PY3QHMQQA0</td>\n",
              "      <td>0528881469</td>\n",
              "      <td>Dave M. Shaw \"mack dave\"</td>\n",
              "      <td>[9, 10]</td>\n",
              "      <td>Not going to write a long review, even thought...</td>\n",
              "      <td>2</td>\n",
              "      <td>Great grafics, POOR GPS</td>\n",
              "      <td>11-24-2010</td>\n",
              "    </tr>\n",
              "    <tr>\n",
              "      <th>4</th>\n",
              "      <td>A24EV6RXELQZ63</td>\n",
              "      <td>0528881469</td>\n",
              "      <td>Wayne Smith</td>\n",
              "      <td>[0, 0]</td>\n",
              "      <td>I've had mine for a year and here's what we go...</td>\n",
              "      <td>1</td>\n",
              "      <td>Major issues, only excuses for support</td>\n",
              "      <td>09-29-2011</td>\n",
              "    </tr>\n",
              "  </tbody>\n",
              "</table>\n",
              "</div>\n",
              "      <button class=\"colab-df-convert\" onclick=\"convertToInteractive('df-46f383a1-3bc7-45d0-84c1-0873e3187813')\"\n",
              "              title=\"Convert this dataframe to an interactive table.\"\n",
              "              style=\"display:none;\">\n",
              "        \n",
              "  <svg xmlns=\"http://www.w3.org/2000/svg\" height=\"24px\"viewBox=\"0 0 24 24\"\n",
              "       width=\"24px\">\n",
              "    <path d=\"M0 0h24v24H0V0z\" fill=\"none\"/>\n",
              "    <path d=\"M18.56 5.44l.94 2.06.94-2.06 2.06-.94-2.06-.94-.94-2.06-.94 2.06-2.06.94zm-11 1L8.5 8.5l.94-2.06 2.06-.94-2.06-.94L8.5 2.5l-.94 2.06-2.06.94zm10 10l.94 2.06.94-2.06 2.06-.94-2.06-.94-.94-2.06-.94 2.06-2.06.94z\"/><path d=\"M17.41 7.96l-1.37-1.37c-.4-.4-.92-.59-1.43-.59-.52 0-1.04.2-1.43.59L10.3 9.45l-7.72 7.72c-.78.78-.78 2.05 0 2.83L4 21.41c.39.39.9.59 1.41.59.51 0 1.02-.2 1.41-.59l7.78-7.78 2.81-2.81c.8-.78.8-2.07 0-2.86zM5.41 20L4 18.59l7.72-7.72 1.47 1.35L5.41 20z\"/>\n",
              "  </svg>\n",
              "      </button>\n",
              "      \n",
              "  <style>\n",
              "    .colab-df-container {\n",
              "      display:flex;\n",
              "      flex-wrap:wrap;\n",
              "      gap: 12px;\n",
              "    }\n",
              "\n",
              "    .colab-df-convert {\n",
              "      background-color: #E8F0FE;\n",
              "      border: none;\n",
              "      border-radius: 50%;\n",
              "      cursor: pointer;\n",
              "      display: none;\n",
              "      fill: #1967D2;\n",
              "      height: 32px;\n",
              "      padding: 0 0 0 0;\n",
              "      width: 32px;\n",
              "    }\n",
              "\n",
              "    .colab-df-convert:hover {\n",
              "      background-color: #E2EBFA;\n",
              "      box-shadow: 0px 1px 2px rgba(60, 64, 67, 0.3), 0px 1px 3px 1px rgba(60, 64, 67, 0.15);\n",
              "      fill: #174EA6;\n",
              "    }\n",
              "\n",
              "    [theme=dark] .colab-df-convert {\n",
              "      background-color: #3B4455;\n",
              "      fill: #D2E3FC;\n",
              "    }\n",
              "\n",
              "    [theme=dark] .colab-df-convert:hover {\n",
              "      background-color: #434B5C;\n",
              "      box-shadow: 0px 1px 3px 1px rgba(0, 0, 0, 0.15);\n",
              "      filter: drop-shadow(0px 1px 2px rgba(0, 0, 0, 0.3));\n",
              "      fill: #FFFFFF;\n",
              "    }\n",
              "  </style>\n",
              "\n",
              "      <script>\n",
              "        const buttonEl =\n",
              "          document.querySelector('#df-46f383a1-3bc7-45d0-84c1-0873e3187813 button.colab-df-convert');\n",
              "        buttonEl.style.display =\n",
              "          google.colab.kernel.accessAllowed ? 'block' : 'none';\n",
              "\n",
              "        async function convertToInteractive(key) {\n",
              "          const element = document.querySelector('#df-46f383a1-3bc7-45d0-84c1-0873e3187813');\n",
              "          const dataTable =\n",
              "            await google.colab.kernel.invokeFunction('convertToInteractive',\n",
              "                                                     [key], {});\n",
              "          if (!dataTable) return;\n",
              "\n",
              "          const docLinkHtml = 'Like what you see? Visit the ' +\n",
              "            '<a target=\"_blank\" href=https://colab.research.google.com/notebooks/data_table.ipynb>data table notebook</a>'\n",
              "            + ' to learn more about interactive tables.';\n",
              "          element.innerHTML = '';\n",
              "          dataTable['output_type'] = 'display_data';\n",
              "          await google.colab.output.renderOutput(dataTable, element);\n",
              "          const docLink = document.createElement('div');\n",
              "          docLink.innerHTML = docLinkHtml;\n",
              "          element.appendChild(docLink);\n",
              "        }\n",
              "      </script>\n",
              "    </div>\n",
              "  </div>\n",
              "  "
            ]
          },
          "metadata": {}
        }
      ],
      "source": [
        "df.drop(labels=\"reviewTime\", axis=1, inplace=True)\n",
        "\n",
        "display(df.head())"
      ]
    },
    {
      "cell_type": "markdown",
      "metadata": {
        "id": "xlZ1324jy2R3"
      },
      "source": [
        "Üzerinde oynayacağımız veriler \"reviewText\" sütununda saklanıyor."
      ]
    },
    {
      "cell_type": "code",
      "execution_count": 9,
      "metadata": {
        "id": "qr1wDc3Yy2R3",
        "outputId": "a1a4e4bc-98f2-4f05-ef88-f8b8f9e21505",
        "colab": {
          "base_uri": "https://localhost:8080/"
        }
      },
      "outputs": [
        {
          "output_type": "stream",
          "name": "stdout",
          "text": [
            "We got this GPS for my husband who is an (OTR) over the road trucker.  Very Impressed with the shipping time, it arrived a few days earlier than expected...  within a week of use however it started freezing up... could of just been a glitch in that unit.  Worked great when it worked!  Will work great for the normal person as well but does have the \"trucker\" option. (the big truck routes - tells you when a scale is coming up ect...)  Love the bigger screen, the ease of use, the ease of putting addresses into memory.  Nothing really bad to say about the unit with the exception of it freezing which is probably one in a million and that's just my luck.  I contacted the seller and within minutes of my email I received a email back with instructions for an exchange! VERY impressed all the way around!\n"
          ]
        }
      ],
      "source": [
        "print(df[\"reviewText\"].iloc[0])"
      ]
    },
    {
      "cell_type": "markdown",
      "metadata": {
        "id": "GYEWzduty2R5"
      },
      "source": [
        "## NLP Pre-Processing ##\n"
      ]
    },
    {
      "cell_type": "code",
      "execution_count": 10,
      "metadata": {
        "id": "AuHaVCEwy2R6"
      },
      "outputs": [],
      "source": [
        "import html\n",
        "\n",
        "df[\"reviewText\"] = html.unescape(df[\"reviewText\"])\n",
        "df[\"reviewText\"] = df[\"reviewText\"].str.replace(pat= r\"\\&\\#[0-9]+\\;\", repl=\"\", regex=True).str.lower().replace(\"[^\\w\\s]\",\"\").str.replace(\"\\d+\",\"\").str.replace(\"\\n\",\" \").str.replace(\"\\r\",\"\")"
      ]
    },
    {
      "cell_type": "code",
      "source": [
        "print(df[\"reviewText\"].iloc[1689185])"
      ],
      "metadata": {
        "colab": {
          "base_uri": "https://localhost:8080/"
        },
        "id": "qusvAyhH7BtN",
        "outputId": "aa0f9188-8d5f-4102-fa09-9417f25b1b71"
      },
      "execution_count": 11,
      "outputs": [
        {
          "output_type": "stream",
          "name": "stdout",
          "text": [
            "im a big fan of the brainwavz s (actually all of their headphones  have yet to be disappointed with any of their products). the s has been my main set for active use (e.g., workouts, runs, etc.) since the flat cable is very durable and resistant to tangles. the s keeps all the good features of the s and adds to it  the sound quality is richer and better defined.thats not to say the s sounds poor  they are quite good, in fact. but the s are better. the highs are better defined and the midrange has more punch to it. the bass comes through clearly without moving into the harsh territory when the volume is pushed (as the ss can do). the overall sound quality is very pleasing.the build quality seems solid  as solid as the s or better. i love the flat cable! i know thats something that is not appreciated by everyone, but for me its been working out wonderfully. although this (as most other brainwavz headsets) comes with an excellent hard shell case, i usually tote my earbuds wrapped around my mp player in my pocket. easy to carry; very stressful on the cables and can lead to tangles with round wires. flat wires, especially those with a thick jacket such as these, survive that abuse with zero problems.the earbuds themselves are more sleekly shaped than the can style of the s.comfort is in line with the customary brainwavz style, which is to say its outstanding. it comes with a wide range of tips to fit pretty much any ear, plus the comply foam tips (which are my favorite). if fitted properly you end up with zero ear irritation plus excellent sound isolation and bass response.these are an over-the-ear design much like the s. i never used that design prior to the s and it did take me a little time to get accustomed to it. it became second nature quickly, and the design is a lot more stable when exercising than the conventional in-ear design.these are more expensive than the s, but you can hear the difference in price. still, if youre looking to keep the cost down a bit, the s is an excellent performer as well.great sound, great comfort, wonderful cable design, and it comes with a solidly made case and lots of eartips. highly recommend.[sample provided for review]\n"
          ]
        }
      ]
    },
    {
      "cell_type": "code",
      "execution_count": null,
      "metadata": {
        "id": "ZmLLjVZey2R7"
      },
      "outputs": [],
      "source": [
        "df[\"reviewText\"] = df[\"reviewText\"].apply(lambda x: word_tokenize(x)).apply(lambda x: [word for word in x if word not in list(stopwords.words(\"english\"))]).apply(lambda x: WordNetLemmatizer().lemmatize(x)).apply(lambda x: \" \".join(x))"
      ]
    },
    {
      "cell_type": "markdown",
      "metadata": {
        "id": "vpT6etvNy2R7"
      },
      "source": [
        "### Aksanları Kaldırıyoruz ###\n"
      ]
    },
    {
      "cell_type": "code",
      "execution_count": null,
      "metadata": {
        "id": "dml4StA2y2R8"
      },
      "outputs": [],
      "source": [
        "df[\"reviewText\"] = df[\"reviewText\"].apply(lambda text: normalize(\"NFKD\", text).encode(\"ascii\", \"ignore\").decode(\"utf-8\", \"ignore\"))"
      ]
    },
    {
      "cell_type": "markdown",
      "metadata": {
        "id": "z7DIzO3Iy2R_"
      },
      "source": [
        "## Phrase Modeling ##\n",
        "\"phrasal\" ifadelerin anlamlarını alabilmek için bu fonksiyonu kullanıyoruz"
      ]
    },
    {
      "cell_type": "code",
      "execution_count": null,
      "metadata": {
        "id": "WLqCA-W4y2R_"
      },
      "outputs": [],
      "source": [
        "from gensim.models import Phrases\n",
        "from gensim.models.phrases import Phraser\n",
        "\n",
        "bi_gram = Phrases(df[\"reviewText\"], min_count=300, threshold=50)\n",
        "\n",
        "tri_gram = Phrases(bi_gram[df[\"reviewText\"]], min_count=300, threshold=50)"
      ]
    },
    {
      "cell_type": "code",
      "execution_count": null,
      "metadata": {
        "id": "O6sbOKRry2SB",
        "scrolled": true
      },
      "outputs": [],
      "source": [
        "tokenized = [Phraser(tri_gram)[Phraser(bi_gram)[i]] for i in tokenized]"
      ]
    },
    {
      "cell_type": "code",
      "execution_count": null,
      "metadata": {
        "id": "jlkF5Grty2SB"
      },
      "outputs": [],
      "source": [
        "tokenized = [list(filter(lambda x: len(x) > 1, document)) \\\n",
        "             for document in tokenized]\n"
      ]
    },
    {
      "cell_type": "code",
      "execution_count": null,
      "metadata": {
        "id": "WA0sDMYny2SG"
      },
      "outputs": [],
      "source": [
        "%%time\n",
        "tokenized_array = np.array(tokenized)\n",
        "\n",
        "model_array = np.array([word_vec_df.loc[doc].mean(axis=0) for doc in tokenized_array])"
      ]
    },
    {
      "cell_type": "markdown",
      "metadata": {
        "id": "CrWrIbDNy2SG"
      },
      "source": [
        "Every document is provided the ground truth label by imposing its `overall` rating. This completes our finalized `model_df` dataframe."
      ]
    },
    {
      "cell_type": "code",
      "execution_count": null,
      "metadata": {
        "id": "M9Ixlvq8y2SG",
        "scrolled": false
      },
      "outputs": [],
      "source": [
        "model_df = pd.DataFrame(model_array)\n",
        "model_df[\"label\"] = df[\"overall\"]\n",
        "y = model_df[\"label\"] \n",
        "del model_df[\"label\"]\n",
        "display(model_df.head())"
      ]
    },
    {
      "cell_type": "markdown",
      "metadata": {
        "id": "4zy-tz6ny2SH"
      },
      "source": [
        "## Principal Component Analysis ##\n"
      ]
    },
    {
      "cell_type": "code",
      "execution_count": null,
      "metadata": {
        "id": "Zwegt0EEy2SH"
      },
      "outputs": [],
      "source": [
        "from sklearn.decomposition import PCA\n",
        "\n",
        "pca=PCA(n_components=3)\n",
        "x_r=pca.fit_transform(model_df)\n",
        "\n"
      ]
    },
    {
      "cell_type": "code",
      "execution_count": null,
      "metadata": {
        "id": "ZhvYTEgny2SI"
      },
      "outputs": [],
      "source": [
        "word_bank = [\"nook\", \"phone\", \"tv\", \"good\", \"price\"]\n",
        "\n",
        "for word in word_bank[:]:\n",
        "    related_vec = word_vec.wv.most_similar(word, topn=5)\n",
        "    related_words = np.array(related_vec)[:,0]\n",
        "    word_bank.extend(related_words)\n",
        "    print(f\"{word}: {related_words}\")"
      ]
    },
    {
      "cell_type": "markdown",
      "metadata": {
        "id": "DUtuuekiy2SJ"
      },
      "source": [
        "## Named-Entity Recognition ###\n",
        "Burada bazı kelimeleri genel sınıflarıyla etiketleyip metinleri sınıflandırıyoruz."
      ]
    },
    {
      "cell_type": "code",
      "execution_count": null,
      "metadata": {
        "id": "7pNX12H4y2SK",
        "scrolled": true
      },
      "outputs": [],
      "source": [
        "helpful = df[\"helpful\"].tolist()\n",
        "most_helpful = max(helpful, key=lambda x: x[0])\n",
        "\n",
        "most_helpful_idx = df[\"helpful\"].astype(str) == str(most_helpful)\n",
        "most_helpful_idx = df[most_helpful_idx].index\n",
        "\n",
        "most_helpful_text = df[\"reviewText\"].iloc[most_helpful_idx].values[0]\n",
        "\n",
        "print(most_helpful_text)"
      ]
    },
    {
      "cell_type": "markdown",
      "metadata": {
        "id": "TYN0GqXwy2SK"
      },
      "source": [
        "We use `ner_dict`, a dictionary initialized as a list, to segregate the nouns in the `most_helpful_text` into the NER tags."
      ]
    },
    {
      "cell_type": "code",
      "execution_count": null,
      "metadata": {
        "id": "y8b_lYwOy2SL",
        "scrolled": true
      },
      "outputs": [],
      "source": [
        "%%time\n",
        "import spacy\n",
        "\n",
        "from collections import defaultdict\n",
        "\n",
        "ner = spacy.load(\"en\")\n",
        "\n",
        "ner_helpful = ner(df[\"reviewText\"].values)\n",
        "\n",
        "ner_dict = defaultdict(list)\n",
        "for entity in ner_helpful.ents:\n",
        "    ner_dict[entity.label_].append(entity)\n",
        "\n",
        "for NER, name in ner_dict.items():\n",
        "    print(f\"{NER}:\\n{name}\\n\")"
      ]
    },
    {
      "cell_type": "markdown",
      "metadata": {
        "id": "I6OtwkS7y2SL"
      },
      "source": [
        "## Topic Modeling ##\n"
      ]
    },
    {
      "cell_type": "code",
      "execution_count": null,
      "metadata": {
        "id": "4PztifpCy2SM"
      },
      "outputs": [],
      "source": [
        "%%time\n",
        "import multiprocessing\n",
        "\n",
        "from gensim.models.ldamulticore import LdaMulticore\n",
        "\n",
        "cores = multiprocessing.cpu_count()\n",
        "\n",
        "num_topics = 10\n",
        "bow_lda = LdaMulticore(bow, num_topics=num_topics, id2word=vocabulary, \\\n",
        "                       passes=5, workers=cores, random_state=42)\n",
        "\n",
        "for token, frequency in bow_lda.show_topic(0, topn=5):\n",
        "    print(token, frequency)"
      ]
    },
    {
      "cell_type": "code",
      "execution_count": null,
      "metadata": {
        "id": "kx_QTdbVy2SN"
      },
      "outputs": [],
      "source": [
        "for topic in range(0, num_topics):\n",
        "    print(f\"\\nTopic {topic+1}:\")\n",
        "    for token, frequency in bow_lda.show_topic(topic, topn=5):\n",
        "        print(f\" {token}, {frequency}\")"
      ]
    },
    {
      "cell_type": "markdown",
      "metadata": {
        "id": "bST9UWDvy2SN"
      },
      "source": [
        "# Machine Learning #\n"
      ]
    },
    {
      "cell_type": "code",
      "execution_count": null,
      "metadata": {
        "id": "XRDPsB72y2ST"
      },
      "outputs": [],
      "source": [
        "x_train, x_test, y_train, y_test = train_test_split(x_r, y, stratify=y, test_size=0.25, random_state=42)"
      ]
    },
    {
      "cell_type": "code",
      "source": [
        "def classification_(train,y):\n",
        "    \n",
        "    \n",
        "    k = KNeighborsClassifier()\n",
        "    svc = SVC()\n",
        "    d = DecisionTreeClassifier()\n",
        "    log = LogisticRegression()\n",
        "    gbc = GradientBoostingClassifier()\n",
        "    mn = MultinomialNB()\n",
        "    rf = RandomForestClassifier()\n",
        "    ab = AdaBoostClassifier()\n",
        "\n",
        "    x = train\n",
        "    y = y\n",
        "    x_train,x_test,y_train,y_test=train_test_split(x,y,test_size = .2, random_state=42)\n",
        "    algos = [k,svc,d,log,gbc,mn,rf,ab]\n",
        "    algos_name = ['KNeigbors','SVC','DecisionTree','LogisticRegr','GradientBoosting','Multinominal','RandomForest','AdaBoost']\n",
        "    \n",
        "    accuracy = []\n",
        "    precision = []\n",
        "    recall = []\n",
        "    f1 = []\n",
        "   \n",
        "    result = pd.DataFrame(columns=['AccuracyScore','PrecisionScore','RecallScore','f1_Score'],index = algos_name)\n",
        "    \n",
        "    for i in algos:\n",
        "        \n",
        "        predict = i.fit(x_train,y_train).predict(x_test)\n",
        "        \n",
        "        accuracy.append(accuracy_score(y_test,predict))\n",
        "        precision.append(precision_score(y_test,predict))\n",
        "        recall.append(recall_score(y_test,predict))\n",
        "        f1.append(f1_score(y_test,predict))\n",
        "        \n",
        "\n",
        "    \n",
        "    \n",
        "    result.AccuracyScore = accuracy\n",
        "    result.PrecisionScore = precision\n",
        "    result.RecallScore = recall\n",
        "    result.f1_Score = f1\n",
        "    \n",
        "    \n",
        "    return result.sort_values('f1_Score',ascending=False)"
      ],
      "metadata": {
        "id": "lffg5YtWYOsT"
      },
      "execution_count": null,
      "outputs": []
    },
    {
      "cell_type": "code",
      "source": [
        "classification_(x_r,y)"
      ],
      "metadata": {
        "id": "oRNh1TZyYhqV"
      },
      "execution_count": null,
      "outputs": []
    },
    {
      "cell_type": "code",
      "source": [
        "import tensorflow as tf\n",
        "\n",
        "x_train, x_test, y_train, y_test \n",
        "model = tf.keras.Sequential([\n",
        "    tf.keras.layers.Dense(512, activation=\"relu\", input_shape=(784,)),\n",
        "    tf.keras.layers.Dense(512, activation=\"relu\"),\n",
        "    tf.keras.layers.Dense(512, activation=\"relu\"),\n",
        "    tf.keras.layers.Dense(10, activation=\"softmax\")])\n",
        "model.compile(optimizer=\"adam\", loss=\"sparse_categorical_crossentropy\", metrics=[\"accuracy\"])\n",
        "history = model.fit(x_train, y_train, batch_size=128, epochs=40, verbose=1, validation_data=(x_test,y_test))"
      ],
      "metadata": {
        "id": "VStOJ0MNYmEn"
      },
      "execution_count": null,
      "outputs": []
    },
    {
      "cell_type": "code",
      "source": [
        "_, accuracy = model.evaluate(test_images, test_labels)\n",
        "print(\"Accuracy: %.2f\" % (accuracy*100))"
      ],
      "metadata": {
        "id": "9LCBcj-vY6mE"
      },
      "execution_count": null,
      "outputs": []
    },
    {
      "cell_type": "code",
      "source": [
        "import matplotlib.pyplot as plt\n",
        "plt.plot(history.history[\"accuracy\"])\n",
        "plt.plot(history.history[\"val_accuracy\"])\n",
        "plt.title(\"Model Accuracy\")\n",
        "plt.ylabel(\"Accuracy\")\n",
        "plt.xlabel(\"Epoch\")\n",
        "plt.legend([\"Train\",\"Test\"], loc=\"upper left\")\n",
        "plt.show()\n",
        "\n",
        "plt.plot(history.history[\"loss\"])\n",
        "plt.plot(history.history[\"val_loss\"])\n",
        "plt.title(\"Model Loss\")\n",
        "plt.ylabel(\"Loss\")\n",
        "plt.xlabel(\"Epoch\")\n",
        "plt.legend([\"Train\",\"Test\"], loc=\"upper left\")\n",
        "plt.show()\n"
      ],
      "metadata": {
        "id": "lNXK3-18Y9o1"
      },
      "execution_count": null,
      "outputs": []
    },
    {
      "cell_type": "markdown",
      "metadata": {
        "id": "4Am26ecqy2Sb"
      },
      "source": [
        "At 53.3% on a perfectly balanced training data set, we have achieved a better result compared to the 20% accuracy of our baseline.\n",
        "\n",
        "## Word Cloud ##\n",
        "Using the true labels of the reviews, we can take the fifty most salient words in every rating and produce a word cloud. The same `stop_words` we derived from the NLTK library are excluded.\n",
        "\n",
        "We see that some of the words are quite descriptive of the rating, with \"problem\" and \"issue\" frequently appearing in one-star reviews, and \"quality\" and \"highly recommend\" in top reviews."
      ]
    },
    {
      "cell_type": "code",
      "execution_count": null,
      "metadata": {
        "id": "IDuImmrTy2Sb",
        "scrolled": true
      },
      "outputs": [],
      "source": [
        "from wordcloud import WordCloud\n",
        "\n",
        "wordcloud = WordCloud(stopwords = set(stop_words), min_font_size=10, \\\n",
        "                      max_font_size=50, max_words=50, \\\n",
        "                      background_color=\"white\", colormap = \"Oranges\")\n",
        "\n",
        "one_star_text = \" \".join(df[df[\"overall\"]==1][\"reviewText\"].values).lower()\n",
        "two_star_text = \" \".join(df[df[\"overall\"]==2][\"reviewText\"].values).lower()\n",
        "three_star_text = \" \".join(df[df[\"overall\"]==3][\"reviewText\"].values).lower()\n",
        "four_star_text = \" \".join(df[df[\"overall\"]==4][\"reviewText\"].values).lower()\n",
        "five_star_text = \" \".join(df[df[\"overall\"]==5][\"reviewText\"].values).lower()\n",
        "\n",
        "text_list = [one_star_text, two_star_text, three_star_text, \\\n",
        "             four_star_text, five_star_text]\n",
        "\n",
        "for index, text in enumerate(text_list):\n",
        "    f, axes = plt.subplots(figsize=(10,7))\n",
        "    wordcloud.generate(text)\n",
        "    plt.imshow(wordcloud, interpolation=\"bilinear\")\n",
        "    plt.title(f\"Word Cloud for {index+1}-Star Ratings\")\n",
        "    plt.axis(\"off\")\n",
        "    plt.show()"
      ]
    }
  ],
  "metadata": {
    "colab": {
      "name": "Amazon Reviews NLP(Mehmet Burak Erkan).ipynb",
      "provenance": [],
      "collapsed_sections": []
    },
    "hide_input": false,
    "kernelspec": {
      "display_name": "Python 3 (ipykernel)",
      "language": "python",
      "name": "python3"
    },
    "language_info": {
      "codemirror_mode": {
        "name": "ipython",
        "version": 3
      },
      "file_extension": ".py",
      "mimetype": "text/x-python",
      "name": "python",
      "nbconvert_exporter": "python",
      "pygments_lexer": "ipython3",
      "version": "3.9.7"
    },
    "accelerator": "TPU",
    "gpuClass": "standard"
  },
  "nbformat": 4,
  "nbformat_minor": 0
}