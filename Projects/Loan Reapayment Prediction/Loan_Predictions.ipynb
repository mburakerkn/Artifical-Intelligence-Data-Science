{
 "cells": [
  {
   "cell_type": "markdown",
   "id": "e94a0914",
   "metadata": {},
   "source": [
    "# Loan Prediction"
   ]
  },
  {
   "cell_type": "code",
   "execution_count": 1,
   "id": "125af342",
   "metadata": {},
   "outputs": [],
   "source": [
    "import pandas as pd\n",
    "import numpy as np\n",
    "import pandas_profiling\n",
    "import warnings\n",
    "warnings.filterwarnings('ignore')\n",
    "import seaborn as sns\n",
    "from matplotlib import pyplot as plt\n",
    "%matplotlib inline"
   ]
  },
  {
   "cell_type": "code",
   "execution_count": 2,
   "id": "e143133a",
   "metadata": {},
   "outputs": [],
   "source": [
    "df = pd.read_csv(\"LoansTrainingSet.csv\")"
   ]
  },
  {
   "cell_type": "code",
   "execution_count": 3,
   "id": "d599a622",
   "metadata": {},
   "outputs": [
    {
     "data": {
      "text/html": [
       "<div>\n",
       "<style scoped>\n",
       "    .dataframe tbody tr th:only-of-type {\n",
       "        vertical-align: middle;\n",
       "    }\n",
       "\n",
       "    .dataframe tbody tr th {\n",
       "        vertical-align: top;\n",
       "    }\n",
       "\n",
       "    .dataframe thead th {\n",
       "        text-align: right;\n",
       "    }\n",
       "</style>\n",
       "<table border=\"1\" class=\"dataframe\">\n",
       "  <thead>\n",
       "    <tr style=\"text-align: right;\">\n",
       "      <th></th>\n",
       "      <th>Loan ID</th>\n",
       "      <th>Customer ID</th>\n",
       "      <th>Loan Status</th>\n",
       "      <th>Current Loan Amount</th>\n",
       "      <th>Term</th>\n",
       "      <th>Credit Score</th>\n",
       "      <th>Years in current job</th>\n",
       "      <th>Home Ownership</th>\n",
       "      <th>Annual Income</th>\n",
       "      <th>Purpose</th>\n",
       "      <th>Monthly Debt</th>\n",
       "      <th>Years of Credit History</th>\n",
       "      <th>Months since last delinquent</th>\n",
       "      <th>Number of Open Accounts</th>\n",
       "      <th>Number of Credit Problems</th>\n",
       "      <th>Current Credit Balance</th>\n",
       "      <th>Maximum Open Credit</th>\n",
       "      <th>Bankruptcies</th>\n",
       "      <th>Tax Liens</th>\n",
       "    </tr>\n",
       "  </thead>\n",
       "  <tbody>\n",
       "    <tr>\n",
       "      <th>0</th>\n",
       "      <td>000025bb-5694-4cff-b17d-192b1a98ba44</td>\n",
       "      <td>5ebc8bb1-5eb9-4404-b11b-a6eebc401a19</td>\n",
       "      <td>Fully Paid</td>\n",
       "      <td>11520</td>\n",
       "      <td>Short Term</td>\n",
       "      <td>741.0</td>\n",
       "      <td>10+ years</td>\n",
       "      <td>Home Mortgage</td>\n",
       "      <td>33694.0</td>\n",
       "      <td>Debt Consolidation</td>\n",
       "      <td>$584.03</td>\n",
       "      <td>12.3</td>\n",
       "      <td>41.0</td>\n",
       "      <td>10</td>\n",
       "      <td>0</td>\n",
       "      <td>6760</td>\n",
       "      <td>16056</td>\n",
       "      <td>0.0</td>\n",
       "      <td>0.0</td>\n",
       "    </tr>\n",
       "    <tr>\n",
       "      <th>1</th>\n",
       "      <td>00002c49-3a29-4bd4-8f67-c8f8fbc1048c</td>\n",
       "      <td>927b388d-2e01-423f-a8dc-f7e42d668f46</td>\n",
       "      <td>Fully Paid</td>\n",
       "      <td>3441</td>\n",
       "      <td>Short Term</td>\n",
       "      <td>734.0</td>\n",
       "      <td>4 years</td>\n",
       "      <td>Home Mortgage</td>\n",
       "      <td>42269.0</td>\n",
       "      <td>other</td>\n",
       "      <td>$1,106.04</td>\n",
       "      <td>26.3</td>\n",
       "      <td>NaN</td>\n",
       "      <td>17</td>\n",
       "      <td>0</td>\n",
       "      <td>6262</td>\n",
       "      <td>19149</td>\n",
       "      <td>0.0</td>\n",
       "      <td>0.0</td>\n",
       "    </tr>\n",
       "    <tr>\n",
       "      <th>2</th>\n",
       "      <td>00002d89-27f3-409b-aa76-90834f359a65</td>\n",
       "      <td>defce609-c631-447d-aad6-1270615e89c4</td>\n",
       "      <td>Fully Paid</td>\n",
       "      <td>21029</td>\n",
       "      <td>Short Term</td>\n",
       "      <td>747.0</td>\n",
       "      <td>10+ years</td>\n",
       "      <td>Home Mortgage</td>\n",
       "      <td>90126.0</td>\n",
       "      <td>Debt Consolidation</td>\n",
       "      <td>$1,321.85</td>\n",
       "      <td>28.8</td>\n",
       "      <td>NaN</td>\n",
       "      <td>5</td>\n",
       "      <td>0</td>\n",
       "      <td>20967</td>\n",
       "      <td>28335</td>\n",
       "      <td>0.0</td>\n",
       "      <td>0.0</td>\n",
       "    </tr>\n",
       "    <tr>\n",
       "      <th>3</th>\n",
       "      <td>00005222-b4d8-45a4-ad8c-186057e24233</td>\n",
       "      <td>070bcecb-aae7-4485-a26a-e0403e7bb6c5</td>\n",
       "      <td>Fully Paid</td>\n",
       "      <td>18743</td>\n",
       "      <td>Short Term</td>\n",
       "      <td>747.0</td>\n",
       "      <td>10+ years</td>\n",
       "      <td>Own Home</td>\n",
       "      <td>38072.0</td>\n",
       "      <td>Debt Consolidation</td>\n",
       "      <td>$751.92</td>\n",
       "      <td>26.2</td>\n",
       "      <td>NaN</td>\n",
       "      <td>9</td>\n",
       "      <td>0</td>\n",
       "      <td>22529</td>\n",
       "      <td>43915</td>\n",
       "      <td>0.0</td>\n",
       "      <td>0.0</td>\n",
       "    </tr>\n",
       "    <tr>\n",
       "      <th>4</th>\n",
       "      <td>0000757f-a121-41ed-b17b-162e76647c1f</td>\n",
       "      <td>dde79588-12f0-4811-bab0-e2b07f633fcd</td>\n",
       "      <td>Fully Paid</td>\n",
       "      <td>11731</td>\n",
       "      <td>Short Term</td>\n",
       "      <td>746.0</td>\n",
       "      <td>4 years</td>\n",
       "      <td>Rent</td>\n",
       "      <td>50025.0</td>\n",
       "      <td>Debt Consolidation</td>\n",
       "      <td>$355.18</td>\n",
       "      <td>11.5</td>\n",
       "      <td>NaN</td>\n",
       "      <td>12</td>\n",
       "      <td>0</td>\n",
       "      <td>17391</td>\n",
       "      <td>37081</td>\n",
       "      <td>0.0</td>\n",
       "      <td>0.0</td>\n",
       "    </tr>\n",
       "  </tbody>\n",
       "</table>\n",
       "</div>"
      ],
      "text/plain": [
       "                                Loan ID                           Customer ID  \\\n",
       "0  000025bb-5694-4cff-b17d-192b1a98ba44  5ebc8bb1-5eb9-4404-b11b-a6eebc401a19   \n",
       "1  00002c49-3a29-4bd4-8f67-c8f8fbc1048c  927b388d-2e01-423f-a8dc-f7e42d668f46   \n",
       "2  00002d89-27f3-409b-aa76-90834f359a65  defce609-c631-447d-aad6-1270615e89c4   \n",
       "3  00005222-b4d8-45a4-ad8c-186057e24233  070bcecb-aae7-4485-a26a-e0403e7bb6c5   \n",
       "4  0000757f-a121-41ed-b17b-162e76647c1f  dde79588-12f0-4811-bab0-e2b07f633fcd   \n",
       "\n",
       "  Loan Status  Current Loan Amount        Term  Credit Score  \\\n",
       "0  Fully Paid                11520  Short Term         741.0   \n",
       "1  Fully Paid                 3441  Short Term         734.0   \n",
       "2  Fully Paid                21029  Short Term         747.0   \n",
       "3  Fully Paid                18743  Short Term         747.0   \n",
       "4  Fully Paid                11731  Short Term         746.0   \n",
       "\n",
       "  Years in current job Home Ownership  Annual Income             Purpose  \\\n",
       "0            10+ years  Home Mortgage        33694.0  Debt Consolidation   \n",
       "1              4 years  Home Mortgage        42269.0               other   \n",
       "2            10+ years  Home Mortgage        90126.0  Debt Consolidation   \n",
       "3            10+ years       Own Home        38072.0  Debt Consolidation   \n",
       "4              4 years           Rent        50025.0  Debt Consolidation   \n",
       "\n",
       "  Monthly Debt  Years of Credit History  Months since last delinquent  \\\n",
       "0      $584.03                     12.3                          41.0   \n",
       "1   $1,106.04                      26.3                           NaN   \n",
       "2   $1,321.85                      28.8                           NaN   \n",
       "3      $751.92                     26.2                           NaN   \n",
       "4      $355.18                     11.5                           NaN   \n",
       "\n",
       "   Number of Open Accounts  Number of Credit Problems  Current Credit Balance  \\\n",
       "0                       10                          0                    6760   \n",
       "1                       17                          0                    6262   \n",
       "2                        5                          0                   20967   \n",
       "3                        9                          0                   22529   \n",
       "4                       12                          0                   17391   \n",
       "\n",
       "  Maximum Open Credit  Bankruptcies  Tax Liens  \n",
       "0               16056           0.0        0.0  \n",
       "1               19149           0.0        0.0  \n",
       "2               28335           0.0        0.0  \n",
       "3               43915           0.0        0.0  \n",
       "4               37081           0.0        0.0  "
      ]
     },
     "execution_count": 3,
     "metadata": {},
     "output_type": "execute_result"
    }
   ],
   "source": [
    "df.head()"
   ]
  },
  {
   "cell_type": "code",
   "execution_count": 4,
   "id": "8d5aadda",
   "metadata": {},
   "outputs": [
    {
     "data": {
      "text/plain": [
       "Loan ID                              0\n",
       "Customer ID                          0\n",
       "Loan Status                          0\n",
       "Current Loan Amount                  0\n",
       "Term                                 0\n",
       "Credit Score                     61676\n",
       "Years in current job             11476\n",
       "Home Ownership                       0\n",
       "Annual Income                    61676\n",
       "Purpose                              0\n",
       "Monthly Debt                         0\n",
       "Years of Credit History              0\n",
       "Months since last delinquent    140383\n",
       "Number of Open Accounts              0\n",
       "Number of Credit Problems            0\n",
       "Current Credit Balance               0\n",
       "Maximum Open Credit                  0\n",
       "Bankruptcies                       529\n",
       "Tax Liens                           23\n",
       "dtype: int64"
      ]
     },
     "execution_count": 4,
     "metadata": {},
     "output_type": "execute_result"
    }
   ],
   "source": [
    "df.isnull().sum()"
   ]
  },
  {
   "cell_type": "code",
   "execution_count": 5,
   "id": "08e6e766",
   "metadata": {},
   "outputs": [
    {
     "name": "stdout",
     "output_type": "stream",
     "text": [
      "<class 'pandas.core.frame.DataFrame'>\n",
      "RangeIndex: 256984 entries, 0 to 256983\n",
      "Data columns (total 19 columns):\n",
      " #   Column                        Non-Null Count   Dtype  \n",
      "---  ------                        --------------   -----  \n",
      " 0   Loan ID                       256984 non-null  object \n",
      " 1   Customer ID                   256984 non-null  object \n",
      " 2   Loan Status                   256984 non-null  object \n",
      " 3   Current Loan Amount           256984 non-null  int64  \n",
      " 4   Term                          256984 non-null  object \n",
      " 5   Credit Score                  195308 non-null  float64\n",
      " 6   Years in current job          245508 non-null  object \n",
      " 7   Home Ownership                256984 non-null  object \n",
      " 8   Annual Income                 195308 non-null  float64\n",
      " 9   Purpose                       256984 non-null  object \n",
      " 10  Monthly Debt                  256984 non-null  object \n",
      " 11  Years of Credit History       256984 non-null  float64\n",
      " 12  Months since last delinquent  116601 non-null  float64\n",
      " 13  Number of Open Accounts       256984 non-null  int64  \n",
      " 14  Number of Credit Problems     256984 non-null  int64  \n",
      " 15  Current Credit Balance        256984 non-null  int64  \n",
      " 16  Maximum Open Credit           256984 non-null  object \n",
      " 17  Bankruptcies                  256455 non-null  float64\n",
      " 18  Tax Liens                     256961 non-null  float64\n",
      "dtypes: float64(6), int64(4), object(9)\n",
      "memory usage: 37.3+ MB\n"
     ]
    }
   ],
   "source": [
    "df.info()"
   ]
  },
  {
   "cell_type": "code",
   "execution_count": 6,
   "id": "1fd254fb",
   "metadata": {},
   "outputs": [],
   "source": [
    "df = df.replace({\"Short Term\":0,\"Long Term\":1})"
   ]
  },
  {
   "cell_type": "code",
   "execution_count": 7,
   "id": "9dae606a",
   "metadata": {},
   "outputs": [],
   "source": [
    "df = df.drop([\"Customer ID\",\"Loan ID\",\"Months since last delinquent\"],axis=1)"
   ]
  },
  {
   "cell_type": "code",
   "execution_count": 8,
   "id": "ec5d79a7",
   "metadata": {},
   "outputs": [],
   "source": [
    "df = df[df[\"Maximum Open Credit\"]!=\"#VALUE!\"]"
   ]
  },
  {
   "cell_type": "code",
   "execution_count": 9,
   "id": "122a609d",
   "metadata": {},
   "outputs": [],
   "source": [
    "df = df.astype({\"Maximum Open Credit\": float})"
   ]
  },
  {
   "cell_type": "code",
   "execution_count": 10,
   "id": "5c2723e6",
   "metadata": {},
   "outputs": [
    {
     "name": "stdout",
     "output_type": "stream",
     "text": [
      "<class 'pandas.core.frame.DataFrame'>\n",
      "Int64Index: 256980 entries, 0 to 256983\n",
      "Data columns (total 16 columns):\n",
      " #   Column                     Non-Null Count   Dtype  \n",
      "---  ------                     --------------   -----  \n",
      " 0   Loan Status                256980 non-null  object \n",
      " 1   Current Loan Amount        256980 non-null  int64  \n",
      " 2   Term                       256980 non-null  int64  \n",
      " 3   Credit Score               195305 non-null  float64\n",
      " 4   Years in current job       245504 non-null  object \n",
      " 5   Home Ownership             256980 non-null  object \n",
      " 6   Annual Income              195305 non-null  float64\n",
      " 7   Purpose                    256980 non-null  object \n",
      " 8   Monthly Debt               256980 non-null  object \n",
      " 9   Years of Credit History    256980 non-null  float64\n",
      " 10  Number of Open Accounts    256980 non-null  int64  \n",
      " 11  Number of Credit Problems  256980 non-null  int64  \n",
      " 12  Current Credit Balance     256980 non-null  int64  \n",
      " 13  Maximum Open Credit        256980 non-null  float64\n",
      " 14  Bankruptcies               256451 non-null  float64\n",
      " 15  Tax Liens                  256957 non-null  float64\n",
      "dtypes: float64(6), int64(5), object(5)\n",
      "memory usage: 33.3+ MB\n"
     ]
    }
   ],
   "source": [
    "df.info()"
   ]
  },
  {
   "cell_type": "code",
   "execution_count": 11,
   "id": "9bcc244b",
   "metadata": {},
   "outputs": [],
   "source": [
    "df[\"Bankruptcies\"].fillna(0,inplace=True)"
   ]
  },
  {
   "cell_type": "code",
   "execution_count": 12,
   "id": "ba559c7b",
   "metadata": {},
   "outputs": [],
   "source": [
    "df[\"Tax Liens\"].fillna(0,inplace=True)"
   ]
  },
  {
   "cell_type": "code",
   "execution_count": 13,
   "id": "12c79321",
   "metadata": {},
   "outputs": [],
   "source": [
    "df = df.replace({\"10+ years\":11,\"2 years\":2,\"3 years\":3,\"< 1 year\":0.5,\"5 years\":5,\"1 year\":1,\"4 years\":4,\"6 years\":6,\"7 years\":7,\"8 years\":8,\"9 years\":9})"
   ]
  },
  {
   "cell_type": "code",
   "execution_count": 14,
   "id": "5328db51",
   "metadata": {},
   "outputs": [],
   "source": [
    "df = df.replace({\"Fully Paid\":1,\"Charged Off\":0})"
   ]
  },
  {
   "cell_type": "code",
   "execution_count": 15,
   "id": "bac172bf",
   "metadata": {},
   "outputs": [],
   "source": [
    "df = df.replace({\"other\":\"Other\"})"
   ]
  },
  {
   "cell_type": "code",
   "execution_count": 16,
   "id": "2da2d0c3",
   "metadata": {},
   "outputs": [],
   "source": [
    "df[\"Credit Score\"].fillna(df[\"Credit Score\"].mean(),inplace=True)"
   ]
  },
  {
   "cell_type": "code",
   "execution_count": 17,
   "id": "2e647468",
   "metadata": {},
   "outputs": [],
   "source": [
    "df[\"Annual Income\"].fillna(df[\"Annual Income\"].mean(),inplace=True)"
   ]
  },
  {
   "cell_type": "code",
   "execution_count": 18,
   "id": "8792883c",
   "metadata": {},
   "outputs": [],
   "source": [
    "df[\"Years in current job\"].fillna(11,inplace=True,limit=4000)"
   ]
  },
  {
   "cell_type": "code",
   "execution_count": 19,
   "id": "10090088",
   "metadata": {},
   "outputs": [],
   "source": [
    "df[\"Years in current job\"].fillna(df[\"Years in current job\"].mean(),inplace=True,limit=7476)"
   ]
  },
  {
   "cell_type": "code",
   "execution_count": 20,
   "id": "58f9b79d",
   "metadata": {},
   "outputs": [],
   "source": [
    "df['Monthly Debt'] = df['Monthly Debt'].str.replace('$', '').str.replace(',', '').str.replace('.', '').astype(float)"
   ]
  },
  {
   "cell_type": "code",
   "execution_count": 21,
   "id": "96f0b365",
   "metadata": {},
   "outputs": [
    {
     "data": {
      "text/plain": [
       "Loan Status                  0\n",
       "Current Loan Amount          0\n",
       "Term                         0\n",
       "Credit Score                 0\n",
       "Years in current job         0\n",
       "Home Ownership               0\n",
       "Annual Income                0\n",
       "Purpose                      0\n",
       "Monthly Debt                 0\n",
       "Years of Credit History      0\n",
       "Number of Open Accounts      0\n",
       "Number of Credit Problems    0\n",
       "Current Credit Balance       0\n",
       "Maximum Open Credit          0\n",
       "Bankruptcies                 0\n",
       "Tax Liens                    0\n",
       "dtype: int64"
      ]
     },
     "execution_count": 21,
     "metadata": {},
     "output_type": "execute_result"
    }
   ],
   "source": [
    "df.isnull().sum()"
   ]
  },
  {
   "cell_type": "code",
   "execution_count": 22,
   "id": "4ad0f0d1",
   "metadata": {},
   "outputs": [
    {
     "data": {
      "image/png": "[encoded data removed]",
      "text/plain": [
       "<Figure size 432x288 with 1 Axes>"
      ]
     },
     "metadata": {
      "needs_background": "light"
     },
     "output_type": "display_data"
    }
   ],
   "source": [
    "sns.boxplot(df[\"Annual Income\"]);"
   ]
  },
  {
   "cell_type": "code",
   "execution_count": 23,
   "id": "79049953",
   "metadata": {},
   "outputs": [
    {
     "data": {
      "image/png": "[encoded data removed]",
      "text/plain": [
       "<Figure size 432x288 with 1 Axes>"
      ]
     },
     "metadata": {
      "needs_background": "light"
     },
     "output_type": "display_data"
    }
   ],
   "source": [
    "plt.hist(df[\"Annual Income\"])\n",
    "plt.show()"
   ]
  },
  {
   "cell_type": "code",
   "execution_count": 24,
   "id": "17d14e9c",
   "metadata": {},
   "outputs": [
    {
     "data": {
      "text/plain": [
       "<AxesSubplot:>"
      ]
     },
     "execution_count": 24,
     "metadata": {},
     "output_type": "execute_result"
    },
    {
     "data": {
      "image/png": "[encoded data removed]",
      "text/plain": [
       "<Figure size 432x288 with 1 Axes>"
      ]
     },
     "metadata": {
      "needs_background": "light"
     },
     "output_type": "display_data"
    }
   ],
   "source": [
    "df[\"Annual Income\"].plot.line()"
   ]
  },
  {
   "cell_type": "code",
   "execution_count": 25,
   "id": "7ad47627",
   "metadata": {},
   "outputs": [
    {
     "data": {
      "text/plain": [
       "<AxesSubplot:ylabel='Frequency'>"
      ]
     },
     "execution_count": 25,
     "metadata": {},
     "output_type": "execute_result"
    },
    {
     "data": {
      "image/png": "[encoded data removed]",
      "text/plain": [
       "<Figure size 432x288 with 1 Axes>"
      ]
     },
     "metadata": {
      "needs_background": "light"
     },
     "output_type": "display_data"
    }
   ],
   "source": [
    "df[\"Annual Income\"].plot.hist()"
   ]
  },
  {
   "cell_type": "code",
   "execution_count": 26,
   "id": "0273def3",
   "metadata": {},
   "outputs": [],
   "source": [
    "#df[\"Annual Income\"].value_counts().sort_index().plot.bar()"
   ]
  },
  {
   "cell_type": "code",
   "execution_count": 27,
   "id": "c91f5dae",
   "metadata": {},
   "outputs": [
    {
     "data": {
      "text/plain": [
       "<AxesSubplot:ylabel='Annual Income'>"
      ]
     },
     "execution_count": 27,
     "metadata": {},
     "output_type": "execute_result"
    },
    {
     "data": {
      "image/png": "[encoded data removed]",
      "text/plain": [
       "<Figure size 432x288 with 1 Axes>"
      ]
     },
     "metadata": {
      "needs_background": "light"
     },
     "output_type": "display_data"
    }
   ],
   "source": [
    "sns.lineplot(data=df[\"Annual Income\"])"
   ]
  },
  {
   "cell_type": "code",
   "execution_count": 28,
   "id": "a83fc19a",
   "metadata": {},
   "outputs": [
    {
     "data": {
      "text/plain": [
       "<AxesSubplot:xlabel='Annual Income', ylabel='Density'>"
      ]
     },
     "execution_count": 28,
     "metadata": {},
     "output_type": "execute_result"
    },
    {
     "data": {
      "image/png": "[encoded data removed]",
      "text/plain": [
       "<Figure size 432x288 with 1 Axes>"
      ]
     },
     "metadata": {
      "needs_background": "light"
     },
     "output_type": "display_data"
    }
   ],
   "source": [
    "sns.distplot(df[\"Annual Income\"],kde=True)"
   ]
  },
  {
   "cell_type": "code",
   "execution_count": 29,
   "id": "dbc30128",
   "metadata": {},
   "outputs": [],
   "source": [
    "#sns.countplot(df[\"Annual Income\"])"
   ]
  },
  {
   "cell_type": "code",
   "execution_count": 30,
   "id": "ec0cd90f",
   "metadata": {},
   "outputs": [
    {
     "data": {
      "text/plain": [
       "<AxesSubplot:ylabel='Annual Income'>"
      ]
     },
     "execution_count": 30,
     "metadata": {},
     "output_type": "execute_result"
    },
    {
     "data": {
      "image/png": "[encoded data removed]",
      "text/plain": [
       "<Figure size 432x288 with 1 Axes>"
      ]
     },
     "metadata": {
      "needs_background": "light"
     },
     "output_type": "display_data"
    }
   ],
   "source": [
    "sns.scatterplot(data=df[\"Annual Income\"])"
   ]
  },
  {
   "cell_type": "code",
   "execution_count": 31,
   "id": "669ce27a",
   "metadata": {},
   "outputs": [],
   "source": [
    "#df = df[df[\"Annual Income\"]<4000000]"
   ]
  },
  {
   "cell_type": "code",
   "execution_count": 32,
   "id": "9345a88b",
   "metadata": {},
   "outputs": [
    {
     "name": "stdout",
     "output_type": "stream",
     "text": [
      "<class 'pandas.core.frame.DataFrame'>\n",
      "Int64Index: 256980 entries, 0 to 256983\n",
      "Data columns (total 16 columns):\n",
      " #   Column                     Non-Null Count   Dtype  \n",
      "---  ------                     --------------   -----  \n",
      " 0   Loan Status                256980 non-null  int64  \n",
      " 1   Current Loan Amount        256980 non-null  int64  \n",
      " 2   Term                       256980 non-null  int64  \n",
      " 3   Credit Score               256980 non-null  float64\n",
      " 4   Years in current job       256980 non-null  float64\n",
      " 5   Home Ownership             256980 non-null  object \n",
      " 6   Annual Income              256980 non-null  float64\n",
      " 7   Purpose                    256980 non-null  object \n",
      " 8   Monthly Debt               256980 non-null  float64\n",
      " 9   Years of Credit History    256980 non-null  float64\n",
      " 10  Number of Open Accounts    256980 non-null  int64  \n",
      " 11  Number of Credit Problems  256980 non-null  int64  \n",
      " 12  Current Credit Balance     256980 non-null  int64  \n",
      " 13  Maximum Open Credit        256980 non-null  float64\n",
      " 14  Bankruptcies               256980 non-null  float64\n",
      " 15  Tax Liens                  256980 non-null  float64\n",
      "dtypes: float64(8), int64(6), object(2)\n",
      "memory usage: 33.3+ MB\n"
     ]
    }
   ],
   "source": [
    "df.info()"
   ]
  },
  {
   "cell_type": "code",
   "execution_count": 33,
   "id": "15cde5d5",
   "metadata": {
    "scrolled": true
   },
   "outputs": [
    {
     "data": {
      "text/plain": [
       "Loan Status                  0\n",
       "Current Loan Amount          0\n",
       "Term                         0\n",
       "Credit Score                 0\n",
       "Years in current job         0\n",
       "Home Ownership               0\n",
       "Annual Income                0\n",
       "Purpose                      0\n",
       "Monthly Debt                 0\n",
       "Years of Credit History      0\n",
       "Number of Open Accounts      0\n",
       "Number of Credit Problems    0\n",
       "Current Credit Balance       0\n",
       "Maximum Open Credit          0\n",
       "Bankruptcies                 0\n",
       "Tax Liens                    0\n",
       "dtype: int64"
      ]
     },
     "execution_count": 33,
     "metadata": {},
     "output_type": "execute_result"
    }
   ],
   "source": [
    "df.isnull().sum()"
   ]
  },
  {
   "cell_type": "code",
   "execution_count": 34,
   "id": "ec52a71b",
   "metadata": {},
   "outputs": [
    {
     "data": {
      "text/plain": [
       "1251.092348    61675\n",
       "747.000000      5669\n",
       "740.000000      5537\n",
       "741.000000      5499\n",
       "746.000000      5486\n",
       "               ...  \n",
       "6070.000000        3\n",
       "5980.000000        3\n",
       "5910.000000        3\n",
       "5930.000000        2\n",
       "5860.000000        1\n",
       "Name: Credit Score, Length: 335, dtype: int64"
      ]
     },
     "execution_count": 34,
     "metadata": {},
     "output_type": "execute_result"
    }
   ],
   "source": [
    "df[\"Credit Score\"].value_counts()"
   ]
  },
  {
   "cell_type": "code",
   "execution_count": 35,
   "id": "6f80579f",
   "metadata": {},
   "outputs": [
    {
     "data": {
      "text/plain": [
       "71953.110893     61675\n",
       "60684.000000        31\n",
       "61188.000000        30\n",
       "59646.000000        30\n",
       "49630.000000        30\n",
       "                 ...  \n",
       "65276.000000         1\n",
       "254462.000000        1\n",
       "126888.000000        1\n",
       "98337.000000         1\n",
       "30854.000000         1\n",
       "Name: Annual Income, Length: 60559, dtype: int64"
      ]
     },
     "execution_count": 35,
     "metadata": {},
     "output_type": "execute_result"
    }
   ],
   "source": [
    "df[\"Annual Income\"].value_counts()"
   ]
  },
  {
   "cell_type": "code",
   "execution_count": 36,
   "id": "955884c2",
   "metadata": {},
   "outputs": [],
   "source": [
    "#df.profile_report()"
   ]
  },
  {
   "cell_type": "code",
   "execution_count": 37,
   "id": "e2bab283",
   "metadata": {},
   "outputs": [
    {
     "data": {
      "text/html": [
       "<div>\n",
       "<style scoped>\n",
       "    .dataframe tbody tr th:only-of-type {\n",
       "        vertical-align: middle;\n",
       "    }\n",
       "\n",
       "    .dataframe tbody tr th {\n",
       "        vertical-align: top;\n",
       "    }\n",
       "\n",
       "    .dataframe thead th {\n",
       "        text-align: right;\n",
       "    }\n",
       "</style>\n",
       "<table border=\"1\" class=\"dataframe\">\n",
       "  <thead>\n",
       "    <tr style=\"text-align: right;\">\n",
       "      <th></th>\n",
       "      <th>Loan Status</th>\n",
       "      <th>Current Loan Amount</th>\n",
       "      <th>Term</th>\n",
       "      <th>Credit Score</th>\n",
       "      <th>Years in current job</th>\n",
       "      <th>Annual Income</th>\n",
       "      <th>Monthly Debt</th>\n",
       "      <th>Years of Credit History</th>\n",
       "      <th>Number of Open Accounts</th>\n",
       "      <th>Number of Credit Problems</th>\n",
       "      <th>...</th>\n",
       "      <th>Home Ownership_Own Home</th>\n",
       "      <th>Home Ownership_Rent</th>\n",
       "      <th>Purpose_Buy House</th>\n",
       "      <th>Purpose_Buy a Car</th>\n",
       "      <th>Purpose_Debt Consolidation</th>\n",
       "      <th>Purpose_Educational Expenses</th>\n",
       "      <th>Purpose_Home Improvements</th>\n",
       "      <th>Purpose_Medical Bills</th>\n",
       "      <th>Purpose_Other</th>\n",
       "      <th>Purpose_Take a Trip</th>\n",
       "    </tr>\n",
       "  </thead>\n",
       "  <tbody>\n",
       "    <tr>\n",
       "      <th>201223</th>\n",
       "      <td>1</td>\n",
       "      <td>99999999</td>\n",
       "      <td>0</td>\n",
       "      <td>744.0</td>\n",
       "      <td>9.0</td>\n",
       "      <td>51158.0</td>\n",
       "      <td>107431.0</td>\n",
       "      <td>21.4</td>\n",
       "      <td>8</td>\n",
       "      <td>0</td>\n",
       "      <td>...</td>\n",
       "      <td>0</td>\n",
       "      <td>0</td>\n",
       "      <td>0</td>\n",
       "      <td>0</td>\n",
       "      <td>1</td>\n",
       "      <td>0</td>\n",
       "      <td>0</td>\n",
       "      <td>0</td>\n",
       "      <td>0</td>\n",
       "      <td>0</td>\n",
       "    </tr>\n",
       "    <tr>\n",
       "      <th>18324</th>\n",
       "      <td>0</td>\n",
       "      <td>9817</td>\n",
       "      <td>0</td>\n",
       "      <td>735.0</td>\n",
       "      <td>7.0</td>\n",
       "      <td>42213.0</td>\n",
       "      <td>92165.0</td>\n",
       "      <td>12.4</td>\n",
       "      <td>9</td>\n",
       "      <td>0</td>\n",
       "      <td>...</td>\n",
       "      <td>0</td>\n",
       "      <td>1</td>\n",
       "      <td>0</td>\n",
       "      <td>0</td>\n",
       "      <td>1</td>\n",
       "      <td>0</td>\n",
       "      <td>0</td>\n",
       "      <td>0</td>\n",
       "      <td>0</td>\n",
       "      <td>0</td>\n",
       "    </tr>\n",
       "    <tr>\n",
       "      <th>173810</th>\n",
       "      <td>0</td>\n",
       "      <td>12160</td>\n",
       "      <td>1</td>\n",
       "      <td>719.0</td>\n",
       "      <td>0.5</td>\n",
       "      <td>37492.0</td>\n",
       "      <td>39992.0</td>\n",
       "      <td>10.0</td>\n",
       "      <td>10</td>\n",
       "      <td>0</td>\n",
       "      <td>...</td>\n",
       "      <td>0</td>\n",
       "      <td>1</td>\n",
       "      <td>0</td>\n",
       "      <td>0</td>\n",
       "      <td>1</td>\n",
       "      <td>0</td>\n",
       "      <td>0</td>\n",
       "      <td>0</td>\n",
       "      <td>0</td>\n",
       "      <td>0</td>\n",
       "    </tr>\n",
       "    <tr>\n",
       "      <th>165438</th>\n",
       "      <td>1</td>\n",
       "      <td>21109</td>\n",
       "      <td>1</td>\n",
       "      <td>718.0</td>\n",
       "      <td>7.0</td>\n",
       "      <td>101525.0</td>\n",
       "      <td>254659.0</td>\n",
       "      <td>18.0</td>\n",
       "      <td>14</td>\n",
       "      <td>0</td>\n",
       "      <td>...</td>\n",
       "      <td>0</td>\n",
       "      <td>0</td>\n",
       "      <td>0</td>\n",
       "      <td>0</td>\n",
       "      <td>0</td>\n",
       "      <td>0</td>\n",
       "      <td>1</td>\n",
       "      <td>0</td>\n",
       "      <td>0</td>\n",
       "      <td>0</td>\n",
       "    </tr>\n",
       "    <tr>\n",
       "      <th>106512</th>\n",
       "      <td>1</td>\n",
       "      <td>17292</td>\n",
       "      <td>0</td>\n",
       "      <td>746.0</td>\n",
       "      <td>8.0</td>\n",
       "      <td>106806.0</td>\n",
       "      <td>159319.0</td>\n",
       "      <td>12.2</td>\n",
       "      <td>20</td>\n",
       "      <td>1</td>\n",
       "      <td>...</td>\n",
       "      <td>1</td>\n",
       "      <td>0</td>\n",
       "      <td>0</td>\n",
       "      <td>0</td>\n",
       "      <td>0</td>\n",
       "      <td>0</td>\n",
       "      <td>0</td>\n",
       "      <td>0</td>\n",
       "      <td>1</td>\n",
       "      <td>0</td>\n",
       "    </tr>\n",
       "  </tbody>\n",
       "</table>\n",
       "<p>5 rows × 25 columns</p>\n",
       "</div>"
      ],
      "text/plain": [
       "        Loan Status  Current Loan Amount  Term  Credit Score  \\\n",
       "201223            1             99999999     0         744.0   \n",
       "18324             0                 9817     0         735.0   \n",
       "173810            0                12160     1         719.0   \n",
       "165438            1                21109     1         718.0   \n",
       "106512            1                17292     0         746.0   \n",
       "\n",
       "        Years in current job  Annual Income  Monthly Debt  \\\n",
       "201223                   9.0        51158.0      107431.0   \n",
       "18324                    7.0        42213.0       92165.0   \n",
       "173810                   0.5        37492.0       39992.0   \n",
       "165438                   7.0       101525.0      254659.0   \n",
       "106512                   8.0       106806.0      159319.0   \n",
       "\n",
       "        Years of Credit History  Number of Open Accounts  \\\n",
       "201223                     21.4                        8   \n",
       "18324                      12.4                        9   \n",
       "173810                     10.0                       10   \n",
       "165438                     18.0                       14   \n",
       "106512                     12.2                       20   \n",
       "\n",
       "        Number of Credit Problems  ...  Home Ownership_Own Home  \\\n",
       "201223                          0  ...                        0   \n",
       "18324                           0  ...                        0   \n",
       "173810                          0  ...                        0   \n",
       "165438                          0  ...                        0   \n",
       "106512                          1  ...                        1   \n",
       "\n",
       "        Home Ownership_Rent  Purpose_Buy House  Purpose_Buy a Car  \\\n",
       "201223                    0                  0                  0   \n",
       "18324                     1                  0                  0   \n",
       "173810                    1                  0                  0   \n",
       "165438                    0                  0                  0   \n",
       "106512                    0                  0                  0   \n",
       "\n",
       "        Purpose_Debt Consolidation  Purpose_Educational Expenses  \\\n",
       "201223                           1                             0   \n",
       "18324                            1                             0   \n",
       "173810                           1                             0   \n",
       "165438                           0                             0   \n",
       "106512                           0                             0   \n",
       "\n",
       "        Purpose_Home Improvements  Purpose_Medical Bills  Purpose_Other  \\\n",
       "201223                          0                      0              0   \n",
       "18324                           0                      0              0   \n",
       "173810                          0                      0              0   \n",
       "165438                          1                      0              0   \n",
       "106512                          0                      0              1   \n",
       "\n",
       "        Purpose_Take a Trip  \n",
       "201223                    0  \n",
       "18324                     0  \n",
       "173810                    0  \n",
       "165438                    0  \n",
       "106512                    0  \n",
       "\n",
       "[5 rows x 25 columns]"
      ]
     },
     "execution_count": 37,
     "metadata": {},
     "output_type": "execute_result"
    }
   ],
   "source": [
    "df_new=pd.get_dummies(df,drop_first=True)\n",
    "df_new.sample(5)"
   ]
  },
  {
   "cell_type": "code",
   "execution_count": 38,
   "id": "50810938",
   "metadata": {},
   "outputs": [],
   "source": [
    "x=df_new.drop(\"Loan Status\",axis=1)\n",
    "y=df[\"Loan Status\"]"
   ]
  },
  {
   "cell_type": "code",
   "execution_count": 39,
   "id": "4a189e08",
   "metadata": {},
   "outputs": [
    {
     "data": {
      "text/plain": [
       "(256980, 3)"
      ]
     },
     "execution_count": 39,
     "metadata": {},
     "output_type": "execute_result"
    }
   ],
   "source": [
    "from sklearn.decomposition import PCA\n",
    "pca=PCA(n_components=3)\n",
    "x_=pca.fit_transform(x)\n",
    "x_.shape"
   ]
  },
  {
   "cell_type": "code",
   "execution_count": 40,
   "id": "25de9ca2",
   "metadata": {},
   "outputs": [
    {
     "data": {
      "text/plain": [
       "array([9.99733539e-01, 2.60512301e-04, 4.12265951e-06])"
      ]
     },
     "execution_count": 40,
     "metadata": {},
     "output_type": "execute_result"
    }
   ],
   "source": [
    "pca.explained_variance_ratio_"
   ]
  },
  {
   "cell_type": "code",
   "execution_count": 41,
   "id": "aea9b098",
   "metadata": {},
   "outputs": [
    {
     "data": {
      "text/plain": [
       "0.9999981743998427"
      ]
     },
     "execution_count": 41,
     "metadata": {},
     "output_type": "execute_result"
    }
   ],
   "source": [
    "sum(pca.explained_variance_ratio_)"
   ]
  },
  {
   "cell_type": "code",
   "execution_count": 42,
   "id": "6d23cf70",
   "metadata": {},
   "outputs": [],
   "source": [
    "from sklearn.model_selection import train_test_split"
   ]
  },
  {
   "cell_type": "code",
   "execution_count": 43,
   "id": "67db170f",
   "metadata": {},
   "outputs": [],
   "source": [
    "x_train,x_test,y_train,y_test=train_test_split(x_,y,test_size=0.25,random_state=101)"
   ]
  },
  {
   "cell_type": "code",
   "execution_count": 44,
   "id": "61c6751d",
   "metadata": {},
   "outputs": [],
   "source": [
    "from sklearn.metrics import accuracy_score,precision_score,recall_score,f1_score\n",
    "from sklearn.metrics import confusion_matrix,classification_report\n",
    "from sklearn.ensemble import GradientBoostingClassifier\n",
    "gbc = GradientBoostingClassifier()\n",
    "from sklearn.ensemble import RandomForestClassifier\n",
    "r = RandomForestClassifier()\n",
    "from sklearn.tree import DecisionTreeClassifier\n",
    "d= DecisionTreeClassifier()\n",
    "from sklearn.linear_model import LogisticRegression\n",
    "log = LogisticRegression()\n",
    "from sklearn.neighbors import KNeighborsClassifier\n",
    "k = KNeighborsClassifier()\n",
    "from sklearn.naive_bayes import GaussianNB\n",
    "from sklearn.naive_bayes import BernoulliNB\n",
    "g = GaussianNB()\n",
    "b = BernoulliNB()\n",
    "from xgboost import XGBClassifier\n",
    "xgbc = XGBClassifier()\n",
    "from sklearn.svm import SVC\n",
    "svc = SVC()"
   ]
  },
  {
   "cell_type": "code",
   "execution_count": 45,
   "id": "b183512e",
   "metadata": {},
   "outputs": [],
   "source": [
    "from sklearn.metrics import accuracy_score, precision_score, recall_score, f1_score\n",
    "from sklearn.metrics import confusion_matrix, classification_report"
   ]
  },
  {
   "cell_type": "code",
   "execution_count": 46,
   "id": "33d44c8a",
   "metadata": {},
   "outputs": [],
   "source": [
    "algorithms = [g,b,k,log,d,r,gbc,svc]\n",
    "names = ['GaussianNB', 'BernoulliNB', 'K Nearest', 'Logistic', 'Single Tree', 'Random Forest', 'Gradient Boost',\"SVC\"]"
   ]
  },
  {
   "cell_type": "code",
   "execution_count": 47,
   "id": "466bc080",
   "metadata": {},
   "outputs": [],
   "source": [
    "def algo_test(X,y,algorithms= algorithms,names=names):\n",
    "        # fit the data\n",
    "    for i in range(len(algorithms)):\n",
    "        algorithms[i]=algorithms[i].fit(X,y)\n",
    "    # print metrics\n",
    "    accuracy = []\n",
    "    precision = []\n",
    "    recall = []\n",
    "    f1 = []\n",
    "    for i in range(len(algorithms)):\n",
    "        accuracy.append(accuracy_score(y,algorithms[i].predict(X)))\n",
    "        precision.append(precision_score(y,algorithms[i].predict(X)))\n",
    "        recall.append(recall_score(y,algorithms[i].predict(X)))\n",
    "        f1.append(f1_score(y,algorithms[i].predict(X)))\n",
    "    metrics = pd.DataFrame(columns=[\"accuracy\",\"precision\",\"recall\",\"f1\"],index=names)\n",
    "    metrics[\"accuracy\"]=accuracy\n",
    "    metrics[\"precision\"]=precision\n",
    "    metrics[\"recall\"]=recall\n",
    "    metrics[\"f1\"]=f1\n",
    "    return metrics.sort_values(\"f1\",ascending=False)"
   ]
  },
  {
   "cell_type": "code",
   "execution_count": null,
   "id": "1a48e14c",
   "metadata": {},
   "outputs": [],
   "source": [
    "algo_test(x_train,y_train)"
   ]
  },
  {
   "cell_type": "code",
   "execution_count": 49,
   "id": "5e424a78",
   "metadata": {},
   "outputs": [],
   "source": [
    "a = r.fit(x_train,y_train)"
   ]
  },
  {
   "cell_type": "code",
   "execution_count": 50,
   "id": "8d99bc80",
   "metadata": {},
   "outputs": [],
   "source": [
    "tahmin=a.predict(x_test)"
   ]
  },
  {
   "cell_type": "code",
   "execution_count": 51,
   "id": "4795dd06",
   "metadata": {},
   "outputs": [
    {
     "data": {
      "text/plain": [
       "array([1, 0, 1, ..., 1, 1, 0])"
      ]
     },
     "execution_count": 51,
     "metadata": {},
     "output_type": "execute_result"
    }
   ],
   "source": [
    "tahmin"
   ]
  },
  {
   "cell_type": "code",
   "execution_count": null,
   "id": "0fc16cb0",
   "metadata": {},
   "outputs": [],
   "source": []
  }
 ],
 "metadata": {
  "kernelspec": {
   "display_name": "Python 3 (ipykernel)",
   "language": "python",
   "name": "python3"
  },
  "language_info": {
   "codemirror_mode": {
    "name": "ipython",
    "version": 3
   },
   "file_extension": ".py",
   "mimetype": "text/x-python",
   "name": "python",
   "nbconvert_exporter": "python",
   "pygments_lexer": "ipython3",
   "version": "3.9.7"
  }
 },
 "nbformat": 4,
 "nbformat_minor": 5
}
