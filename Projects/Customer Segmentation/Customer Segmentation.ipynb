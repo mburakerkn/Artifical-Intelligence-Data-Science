{
 "cells": [
  {
   "cell_type": "code",
   "execution_count": 1,
   "id": "03ecc252",
   "metadata": {},
   "outputs": [],
   "source": [
    "import pandas as pd\n",
    "import warnings\n",
    "warnings.filterwarnings('ignore')"
   ]
  },
  {
   "cell_type": "code",
   "execution_count": 2,
   "id": "6dfb25a9",
   "metadata": {},
   "outputs": [],
   "source": [
    "#!pip install pandasql\n",
    "import pandasql"
   ]
  },
  {
   "cell_type": "code",
   "execution_count": 3,
   "id": "4c522736",
   "metadata": {},
   "outputs": [],
   "source": [
    "df = pd.read_csv(\"PBL5recommendationdata.csv\",encoding = \"ISO-8859-1\")"
   ]
  },
  {
   "cell_type": "code",
   "execution_count": 4,
   "id": "cd7327af",
   "metadata": {},
   "outputs": [
    {
     "data": {
      "text/html": [
       "<div>\n",
       "<style scoped>\n",
       "    .dataframe tbody tr th:only-of-type {\n",
       "        vertical-align: middle;\n",
       "    }\n",
       "\n",
       "    .dataframe tbody tr th {\n",
       "        vertical-align: top;\n",
       "    }\n",
       "\n",
       "    .dataframe thead th {\n",
       "        text-align: right;\n",
       "    }\n",
       "</style>\n",
       "<table border=\"1\" class=\"dataframe\">\n",
       "  <thead>\n",
       "    <tr style=\"text-align: right;\">\n",
       "      <th></th>\n",
       "      <th>Customers.id</th>\n",
       "      <th>Customers.fname</th>\n",
       "      <th>Customers.lname</th>\n",
       "      <th>Customers.company</th>\n",
       "      <th>Customers.create_date</th>\n",
       "      <th>Customers.status</th>\n",
       "      <th>Customers.mailing</th>\n",
       "      <th>Customers.reminders</th>\n",
       "      <th>Customers.tax_exempt</th>\n",
       "      <th>Customers.account_id</th>\n",
       "      <th>...</th>\n",
       "      <th>Products.google_shopping_label</th>\n",
       "      <th>Products.product_option</th>\n",
       "      <th>Products.size</th>\n",
       "      <th>Products.material</th>\n",
       "      <th>Products.arm_style</th>\n",
       "      <th>Products.leg_style</th>\n",
       "      <th>Products.seat_size</th>\n",
       "      <th>Products.family_id</th>\n",
       "      <th>Products.saved_status</th>\n",
       "      <th>Products.freight_cost</th>\n",
       "    </tr>\n",
       "  </thead>\n",
       "  <tbody>\n",
       "    <tr>\n",
       "      <th>0</th>\n",
       "      <td>797</td>\n",
       "      <td>Christy</td>\n",
       "      <td>Dill</td>\n",
       "      <td>Company0</td>\n",
       "      <td>1426018724</td>\n",
       "      <td>NaN</td>\n",
       "      <td>NaN</td>\n",
       "      <td>NaN</td>\n",
       "      <td>NaN</td>\n",
       "      <td>NaN</td>\n",
       "      <td>...</td>\n",
       "      <td>NaN</td>\n",
       "      <td>NaN</td>\n",
       "      <td>NaN</td>\n",
       "      <td>NaN</td>\n",
       "      <td>NaN</td>\n",
       "      <td>NaN</td>\n",
       "      <td>NaN</td>\n",
       "      <td>PF61071</td>\n",
       "      <td>0.0</td>\n",
       "      <td>NaN</td>\n",
       "    </tr>\n",
       "    <tr>\n",
       "      <th>1</th>\n",
       "      <td>3</td>\n",
       "      <td>John</td>\n",
       "      <td>Smith</td>\n",
       "      <td>Company1</td>\n",
       "      <td>1386089139</td>\n",
       "      <td>NaN</td>\n",
       "      <td>NaN</td>\n",
       "      <td>NaN</td>\n",
       "      <td>NaN</td>\n",
       "      <td>NaN</td>\n",
       "      <td>...</td>\n",
       "      <td>NaN</td>\n",
       "      <td>NaN</td>\n",
       "      <td>NaN</td>\n",
       "      <td>NaN</td>\n",
       "      <td>NaN</td>\n",
       "      <td>NaN</td>\n",
       "      <td>NaN</td>\n",
       "      <td>PF02132</td>\n",
       "      <td>NaN</td>\n",
       "      <td>NaN</td>\n",
       "    </tr>\n",
       "    <tr>\n",
       "      <th>2</th>\n",
       "      <td>3</td>\n",
       "      <td>John</td>\n",
       "      <td>Smith</td>\n",
       "      <td>Company1</td>\n",
       "      <td>1386089139</td>\n",
       "      <td>NaN</td>\n",
       "      <td>NaN</td>\n",
       "      <td>NaN</td>\n",
       "      <td>NaN</td>\n",
       "      <td>NaN</td>\n",
       "      <td>...</td>\n",
       "      <td>NaN</td>\n",
       "      <td>NaN</td>\n",
       "      <td>2 x Extra large</td>\n",
       "      <td>Nitrile</td>\n",
       "      <td>NaN</td>\n",
       "      <td>NaN</td>\n",
       "      <td>NaN</td>\n",
       "      <td>PF00342</td>\n",
       "      <td>0.0</td>\n",
       "      <td>NaN</td>\n",
       "    </tr>\n",
       "    <tr>\n",
       "      <th>3</th>\n",
       "      <td>4</td>\n",
       "      <td>James</td>\n",
       "      <td>Anderson</td>\n",
       "      <td>NaN</td>\n",
       "      <td>1386780263</td>\n",
       "      <td>NaN</td>\n",
       "      <td>NaN</td>\n",
       "      <td>NaN</td>\n",
       "      <td>NaN</td>\n",
       "      <td>NaN</td>\n",
       "      <td>...</td>\n",
       "      <td>NaN</td>\n",
       "      <td>NaN</td>\n",
       "      <td>NaN</td>\n",
       "      <td>NaN</td>\n",
       "      <td>NaN</td>\n",
       "      <td>NaN</td>\n",
       "      <td>NaN</td>\n",
       "      <td>PF04970</td>\n",
       "      <td>NaN</td>\n",
       "      <td>NaN</td>\n",
       "    </tr>\n",
       "    <tr>\n",
       "      <th>4</th>\n",
       "      <td>5</td>\n",
       "      <td>Abraham</td>\n",
       "      <td>Pollak</td>\n",
       "      <td>Company3</td>\n",
       "      <td>1386861599</td>\n",
       "      <td>0.0</td>\n",
       "      <td>0.0</td>\n",
       "      <td>NaN</td>\n",
       "      <td>NaN</td>\n",
       "      <td>NaN</td>\n",
       "      <td>...</td>\n",
       "      <td>NaN</td>\n",
       "      <td>NaN</td>\n",
       "      <td>NaN</td>\n",
       "      <td>NaN</td>\n",
       "      <td>NaN</td>\n",
       "      <td>NaN</td>\n",
       "      <td>NaN</td>\n",
       "      <td>PF03045</td>\n",
       "      <td>NaN</td>\n",
       "      <td>NaN</td>\n",
       "    </tr>\n",
       "  </tbody>\n",
       "</table>\n",
       "<p>5 rows × 181 columns</p>\n",
       "</div>"
      ],
      "text/plain": [
       "   Customers.id Customers.fname Customers.lname Customers.company  \\\n",
       "0           797         Christy            Dill          Company0   \n",
       "1             3            John           Smith          Company1   \n",
       "2             3            John           Smith          Company1   \n",
       "3             4           James        Anderson               NaN   \n",
       "4             5         Abraham          Pollak          Company3   \n",
       "\n",
       "   Customers.create_date  Customers.status  Customers.mailing  \\\n",
       "0             1426018724               NaN                NaN   \n",
       "1             1386089139               NaN                NaN   \n",
       "2             1386089139               NaN                NaN   \n",
       "3             1386780263               NaN                NaN   \n",
       "4             1386861599               0.0                0.0   \n",
       "\n",
       "   Customers.reminders  Customers.tax_exempt  Customers.account_id  ...  \\\n",
       "0                  NaN                   NaN                   NaN  ...   \n",
       "1                  NaN                   NaN                   NaN  ...   \n",
       "2                  NaN                   NaN                   NaN  ...   \n",
       "3                  NaN                   NaN                   NaN  ...   \n",
       "4                  NaN                   NaN                   NaN  ...   \n",
       "\n",
       "   Products.google_shopping_label  Products.product_option    Products.size  \\\n",
       "0                             NaN                      NaN              NaN   \n",
       "1                             NaN                      NaN              NaN   \n",
       "2                             NaN                      NaN  2 x Extra large   \n",
       "3                             NaN                      NaN              NaN   \n",
       "4                             NaN                      NaN              NaN   \n",
       "\n",
       "   Products.material  Products.arm_style  Products.leg_style  \\\n",
       "0                NaN                 NaN                 NaN   \n",
       "1                NaN                 NaN                 NaN   \n",
       "2            Nitrile                 NaN                 NaN   \n",
       "3                NaN                 NaN                 NaN   \n",
       "4                NaN                 NaN                 NaN   \n",
       "\n",
       "   Products.seat_size Products.family_id Products.saved_status  \\\n",
       "0                 NaN            PF61071                   0.0   \n",
       "1                 NaN            PF02132                   NaN   \n",
       "2                 NaN            PF00342                   0.0   \n",
       "3                 NaN            PF04970                   NaN   \n",
       "4                 NaN            PF03045                   NaN   \n",
       "\n",
       "  Products.freight_cost  \n",
       "0                   NaN  \n",
       "1                   NaN  \n",
       "2                   NaN  \n",
       "3                   NaN  \n",
       "4                   NaN  \n",
       "\n",
       "[5 rows x 181 columns]"
      ]
     },
     "execution_count": 4,
     "metadata": {},
     "output_type": "execute_result"
    }
   ],
   "source": [
    "df.head()"
   ]
  },
  {
   "cell_type": "code",
   "execution_count": 5,
   "id": "e708a759",
   "metadata": {},
   "outputs": [],
   "source": [
    "#customers = df.filter(like='Customers')\n",
    "#customers.head()"
   ]
  },
  {
   "cell_type": "code",
   "execution_count": 6,
   "id": "c5f52be0",
   "metadata": {},
   "outputs": [],
   "source": [
    "#orders = df.filter(like='Orders')\n",
    "#orders.head()"
   ]
  },
  {
   "cell_type": "code",
   "execution_count": 7,
   "id": "8dd2f095",
   "metadata": {},
   "outputs": [],
   "source": [
    "#products = df.filter(like='Products')\n",
    "#products.sample(5)"
   ]
  },
  {
   "cell_type": "code",
   "execution_count": 8,
   "id": "34fec57d",
   "metadata": {},
   "outputs": [],
   "source": [
    "#customers.isnull().sum()"
   ]
  },
  {
   "cell_type": "code",
   "execution_count": 9,
   "id": "82019270",
   "metadata": {},
   "outputs": [],
   "source": [
    "df=df.drop([\"Customers.lname\",\"Customers.fname\",\"Customers.company\",\"Customers.status\",\"Customers.mailing\",\"Customers.reminders\",\"Customers.tax_exempt\",\"Customers.account_id\",\"Customers.sales_rep\",\"Customers.rewards\",\"Customers.profile_id\",\"Customers.customer_type\"], axis=1)\n"
   ]
  },
  {
   "cell_type": "code",
   "execution_count": 10,
   "id": "79050759",
   "metadata": {},
   "outputs": [
    {
     "name": "stdout",
     "output_type": "stream",
     "text": [
      "<class 'pandas.core.frame.DataFrame'>\n",
      "RangeIndex: 4194 entries, 0 to 4193\n",
      "Columns: 169 entries, Customers.id to Products.freight_cost\n",
      "dtypes: float64(89), int64(10), object(70)\n",
      "memory usage: 5.4+ MB\n"
     ]
    }
   ],
   "source": [
    "df.info()"
   ]
  },
  {
   "cell_type": "code",
   "execution_count": 11,
   "id": "0c08052d",
   "metadata": {},
   "outputs": [],
   "source": [
    "#products.isnull().sum()"
   ]
  },
  {
   "cell_type": "code",
   "execution_count": 12,
   "id": "1f239aa2",
   "metadata": {},
   "outputs": [],
   "source": [
    "df=df.drop([\"Products.seo_category\",\"Products.qb_edit_sequence\",\"Products.shopzilla_cat\",\"Products.shopping_cat\",\"Products.shopping_gtin\",\"Products.last_modified\",\"Products.flags\",\"Products.cost\",\"Products.import_id\",\"Products.seo_url\",\"Products.seo_title\",\"Products.pricegrabber_cat\",\"Products.shopping_mpn\",\"Products.amazon_item_type\",\"Products.amazon_asin\",\"Products.google_shopping_type\",\"Products.google_shopping_id\",\"Products.shopping_type\",\"Products.thefind_cat\",\"Products.quickbooks_id\",\"Products.long_description\",\"Products.short_description\",\"Products.packaging\",\"Products.template\",\"Products.hcpcs\",\"Products.family_id\",\"Products.display_name\",\"Products.name\",\"Products.id\",\"Products.hygienic\",\"Products.lit_label\",\"Products.seo_keywords\",\"Products.shopping_color\",\"Products.sale_price\",\"Products.product_type\",\"Products.menu_name\",\"Products.left_flag\",\"Products.right_flag\",\"Products.shopping_gender\",\"Products.shopping_age\",\"Products.amazon_type\",\"Products.amazon_price\",\"Products.google_adwords\",\"Products.price_break_type\",\"Products.price_breaks\",\"Products.websites\",\"Products.video\",\"Products.audio\",\"Products.seo_description\",\"Products.seo_header\",\"Products.seo_footer\",\"Products.display_packaging\",\"Products.length\",\"Products.width\",\"Products.height\",\"Products.rx\",\"Products.latex\",\"Products.msds_link\",\"Products.msds_label\",\"Products.lit_link\",\"Products.markup\",\"Products.notes\",\"Products.map_price\",\"Products.features_title\",\"Products.warranty\",\"Products.default_quantity\",\"Products.user_size\",\"Products.assembly\",\"Products.installation\",\"Products.shipping_weight\",\"Products.handling_time\",\"Products.rotation_link\",\"Products.google_shopping_label\",\"Products.product_option\",\"Products.size\",\"Products.material\",\"Products.arm_style\",\"Products.leg_style\",\"Products.seat_size\",\"Products.freight_cost\"],axis=1)"
   ]
  },
  {
   "cell_type": "code",
   "execution_count": 13,
   "id": "c4c484aa",
   "metadata": {},
   "outputs": [],
   "source": [
    "df[\"Products.vendor\"].fillna(1,inplace=True)"
   ]
  },
  {
   "cell_type": "code",
   "execution_count": 14,
   "id": "e9386a6e",
   "metadata": {},
   "outputs": [],
   "source": [
    "df[\"Products.status\"].fillna(0,inplace=True)"
   ]
  },
  {
   "cell_type": "code",
   "execution_count": 15,
   "id": "859aec8d",
   "metadata": {},
   "outputs": [],
   "source": [
    "df[\"Products.list_price\"].fillna(df[\"Products.list_price\"].mean(),inplace=True)"
   ]
  },
  {
   "cell_type": "code",
   "execution_count": 16,
   "id": "25401414",
   "metadata": {},
   "outputs": [],
   "source": [
    "df[\"Products.price\"].fillna(df[\"Products.price\"].mean(),inplace=True)"
   ]
  },
  {
   "cell_type": "code",
   "execution_count": 17,
   "id": "f7365124",
   "metadata": {},
   "outputs": [],
   "source": [
    "df[\"Products.taxable\"].fillna(1,inplace=True)"
   ]
  },
  {
   "cell_type": "code",
   "execution_count": 18,
   "id": "63c33a3e",
   "metadata": {},
   "outputs": [],
   "source": [
    "#df[\"Products.shopping_brand\"].fillna(\"MEDLINE\",inplace=True)"
   ]
  },
  {
   "cell_type": "code",
   "execution_count": 19,
   "id": "39c9a0a9",
   "metadata": {},
   "outputs": [],
   "source": [
    "df[\"Products.shopping_flags\"].fillna(62,inplace=True)"
   ]
  },
  {
   "cell_type": "code",
   "execution_count": 20,
   "id": "6a3a0f1b",
   "metadata": {},
   "outputs": [],
   "source": [
    "df[\"Products.google_shopping_cat\"].fillna(\"Health & Beauty > Health Care\",inplace=True)"
   ]
  },
  {
   "cell_type": "code",
   "execution_count": 21,
   "id": "4a5c6cb9",
   "metadata": {},
   "outputs": [],
   "source": [
    "df[\"Products.unit\"].fillna(\"EA\",inplace=True)"
   ]
  },
  {
   "cell_type": "code",
   "execution_count": 22,
   "id": "ee47faf3",
   "metadata": {},
   "outputs": [],
   "source": [
    "df[\"Products.saved_status\"].fillna(0,inplace=True)"
   ]
  },
  {
   "cell_type": "code",
   "execution_count": 23,
   "id": "4ce3b455",
   "metadata": {},
   "outputs": [],
   "source": [
    "df[\"Products.shipping_height\"].fillna(df[\"Products.shipping_height\"].mean(),inplace=True)"
   ]
  },
  {
   "cell_type": "code",
   "execution_count": 24,
   "id": "de5bc085",
   "metadata": {},
   "outputs": [],
   "source": [
    "df[\"Products.shipping_width\"].fillna(df[\"Products.shipping_width\"].mean(),inplace=True)"
   ]
  },
  {
   "cell_type": "code",
   "execution_count": 25,
   "id": "60e5c554",
   "metadata": {},
   "outputs": [],
   "source": [
    "df[\"Products.shipping_length\"].fillna(df[\"Products.shipping_length\"].mean(),inplace=True)"
   ]
  },
  {
   "cell_type": "code",
   "execution_count": 26,
   "id": "f6a5ed80",
   "metadata": {},
   "outputs": [],
   "source": [
    "df[\"Products.multiple\"].fillna(\"1 CS\",inplace=True,limit=600)"
   ]
  },
  {
   "cell_type": "code",
   "execution_count": 27,
   "id": "cdb6f1bc",
   "metadata": {},
   "outputs": [],
   "source": [
    "df[\"Products.multiple\"].fillna(\"1 EA\",inplace=True,limit=630)"
   ]
  },
  {
   "cell_type": "code",
   "execution_count": 28,
   "id": "35d0d66d",
   "metadata": {},
   "outputs": [],
   "source": [
    "df[\"Products.upc\"].fillna(df[\"Products.upc\"].mean(),inplace=True)"
   ]
  },
  {
   "cell_type": "code",
   "execution_count": 29,
   "id": "614821e2",
   "metadata": {},
   "outputs": [],
   "source": [
    "df[\"Products.case_qty\"].fillna(df[\"Products.case_qty\"].mean(),inplace=True)"
   ]
  },
  {
   "cell_type": "code",
   "execution_count": 30,
   "id": "ca2ad80b",
   "metadata": {},
   "outputs": [],
   "source": [
    "df[\"Products.import_flags\"].fillna(df[\"Products.import_flags\"].mean(),inplace=True)"
   ]
  },
  {
   "cell_type": "code",
   "execution_count": 31,
   "id": "34a0533a",
   "metadata": {},
   "outputs": [],
   "source": [
    "df[\"Products.override_markup\"].fillna(1,inplace=True,limit=150)"
   ]
  },
  {
   "cell_type": "code",
   "execution_count": 32,
   "id": "a4083c3a",
   "metadata": {},
   "outputs": [],
   "source": [
    "df[\"Products.override_markup\"].fillna(0,inplace=True,limit=1124)"
   ]
  },
  {
   "cell_type": "code",
   "execution_count": 33,
   "id": "ef5d3a8e",
   "metadata": {
    "scrolled": true
   },
   "outputs": [
    {
     "data": {
      "text/plain": [
       "MEDLINE                         2672\n",
       "Drive Medical                    535\n",
       "HARTMANN-CONCO INC               122\n",
       "CanDo&reg;                       113\n",
       "Fabrication Enterprises Inc.      85\n",
       "                                ... \n",
       "PERRIGO                            1\n",
       "DeVilbiss Healthcare               1\n",
       "AcuForce&reg;                      1\n",
       "AdvanTrode&reg;                    1\n",
       "Val-u-Band                         1\n",
       "Name: Products.shopping_brand, Length: 101, dtype: int64"
      ]
     },
     "execution_count": 33,
     "metadata": {},
     "output_type": "execute_result"
    }
   ],
   "source": [
    "df[\"Products.shopping_brand\"].value_counts()"
   ]
  },
  {
   "cell_type": "code",
   "execution_count": 34,
   "id": "2d466f3d",
   "metadata": {
    "scrolled": false
   },
   "outputs": [
    {
     "data": {
      "text/plain": [
       "Customers.id                0\n",
       "Customers.create_date       0\n",
       "Customers.last_modified     0\n",
       "Orders.id                   0\n",
       "Orders.customer_id          0\n",
       "                           ..\n",
       "Products.import_flags       0\n",
       "Products.shipping_length    0\n",
       "Products.shipping_width     0\n",
       "Products.shipping_height    0\n",
       "Products.saved_status       0\n",
       "Length: 89, dtype: int64"
      ]
     },
     "execution_count": 34,
     "metadata": {},
     "output_type": "execute_result"
    }
   ],
   "source": [
    "df.isnull().sum()"
   ]
  },
  {
   "cell_type": "code",
   "execution_count": 35,
   "id": "ac14df29",
   "metadata": {},
   "outputs": [
    {
     "name": "stdout",
     "output_type": "stream",
     "text": [
      "<class 'pandas.core.frame.DataFrame'>\n",
      "RangeIndex: 4194 entries, 0 to 4193\n",
      "Data columns (total 89 columns):\n",
      " #   Column                         Non-Null Count  Dtype  \n",
      "---  ------                         --------------  -----  \n",
      " 0   Customers.id                   4194 non-null   int64  \n",
      " 1   Customers.create_date          4194 non-null   int64  \n",
      " 2   Customers.last_modified        4194 non-null   int64  \n",
      " 3   Orders.id                      4194 non-null   int64  \n",
      " 4   Orders.customer_id             4194 non-null   int64  \n",
      " 5   Orders.fname                   4194 non-null   object \n",
      " 6   Orders.lname                   4194 non-null   object \n",
      " 7   Orders.company                 728 non-null    object \n",
      " 8   Orders.order_number            4194 non-null   object \n",
      " 9   Orders.reorder_id              82 non-null     float64\n",
      " 10  Orders.external_source         365 non-null    object \n",
      " 11  Orders.external_id             5 non-null      float64\n",
      " 12  Orders.currency                4194 non-null   object \n",
      " 13  Orders.sales_rep               0 non-null      float64\n",
      " 14  Orders.subtotal                4194 non-null   float64\n",
      " 15  Orders.tax                     3737 non-null   float64\n",
      " 16  Orders.shipping                3999 non-null   float64\n",
      " 17  Orders.coupon_id               882 non-null    float64\n",
      " 18  Orders.coupon_amount           882 non-null    float64\n",
      " 19  Orders.gift_id                 0 non-null      float64\n",
      " 20  Orders.gift_amount             0 non-null      float64\n",
      " 21  Orders.fee_name                227 non-null    object \n",
      " 22  Orders.fee_amount              278 non-null    float64\n",
      " 23  Orders.discount_name           282 non-null    object \n",
      " 24  Orders.discount_amount         364 non-null    float64\n",
      " 25  Orders.total                   4194 non-null   float64\n",
      " 26  Orders.balance_due             351 non-null    float64\n",
      " 27  Orders.shipping_carrier        3577 non-null   object \n",
      " 28  Orders.shipping_method         3751 non-null   object \n",
      " 29  Orders.shipping_trans          0 non-null      float64\n",
      " 30  Orders.shipping_flags          0 non-null      float64\n",
      " 31  Orders.weight                  3 non-null      float64\n",
      " 32  Orders.tracking                3818 non-null   object \n",
      " 33  Orders.payment_status          4189 non-null   float64\n",
      " 34  Orders.payment_date            4176 non-null   float64\n",
      " 35  Orders.payment_user            1380 non-null   object \n",
      " 36  Orders.payment_type            3810 non-null   object \n",
      " 37  Orders.payment_method          722 non-null    object \n",
      " 38  Orders.payment_amount          4176 non-null   float64\n",
      " 39  Orders.purchase_order          0 non-null      float64\n",
      " 40  Orders.payment_id              3764 non-null   object \n",
      " 41  Orders.payment_code            3446 non-null   object \n",
      " 42  Orders.payment_ref             0 non-null      float64\n",
      " 43  Orders.status                  4194 non-null   int64  \n",
      " 44  Orders.placed_date             4194 non-null   int64  \n",
      " 45  Orders.updated_date            4171 non-null   float64\n",
      " 46  Orders.shipped_date            3848 non-null   float64\n",
      " 47  Orders.comments                287 non-null    object \n",
      " 48  Orders.notes                   1276 non-null   object \n",
      " 49  Orders.registry_id             0 non-null      float64\n",
      " 50  Orders.gift_message            0 non-null      float64\n",
      " 51  Orders.website                 0 non-null      float64\n",
      " 52  Orders.mailing                 0 non-null      float64\n",
      " 53  Orders.flags                   1 non-null      float64\n",
      " 54  Orders.partial_ship            96 non-null     float64\n",
      " 55  Orders.customer_type           4011 non-null   float64\n",
      " 56  Order_Items.id                 4194 non-null   int64  \n",
      " 57  Order_Items.parent             4194 non-null   int64  \n",
      " 58  Order_Items.product_id         4151 non-null   float64\n",
      " 59  Order_Items.product_name       4194 non-null   object \n",
      " 60  Order_Items.attributes         0 non-null      float64\n",
      " 61  Order_Items.attribute_names    51 non-null     object \n",
      " 62  Order_Items.attribute_prices   0 non-null      float64\n",
      " 63  Order_Items.qty                4194 non-null   int64  \n",
      " 64  Order_Items.price              4194 non-null   float64\n",
      " 65  Order_Items.cost               4191 non-null   float64\n",
      " 66  Order_Items.registry_item      0 non-null      float64\n",
      " 67  Order_Items.related_id         0 non-null      float64\n",
      " 68  Order_Items.reorder_frequency  24 non-null     float64\n",
      " 69  Order_Items.account_id         0 non-null      float64\n",
      " 70  Order_Items.flags              1008 non-null   float64\n",
      " 71  Products.status                4194 non-null   float64\n",
      " 72  Products.vendor                4194 non-null   float64\n",
      " 73  Products.list_price            4194 non-null   float64\n",
      " 74  Products.price                 4194 non-null   float64\n",
      " 75  Products.taxable               4194 non-null   float64\n",
      " 76  Products.shopping_brand        4032 non-null   object \n",
      " 77  Products.shopping_flags        4194 non-null   float64\n",
      " 78  Products.google_shopping_cat   4194 non-null   object \n",
      " 79  Products.unit                  4194 non-null   object \n",
      " 80  Products.multiple              4194 non-null   object \n",
      " 81  Products.upc                   4194 non-null   float64\n",
      " 82  Products.case_qty              4194 non-null   float64\n",
      " 83  Products.override_markup       4194 non-null   float64\n",
      " 84  Products.import_flags          4194 non-null   float64\n",
      " 85  Products.shipping_length       4194 non-null   float64\n",
      " 86  Products.shipping_width        4194 non-null   float64\n",
      " 87  Products.shipping_height       4194 non-null   float64\n",
      " 88  Products.saved_status          4194 non-null   float64\n",
      "dtypes: float64(55), int64(10), object(24)\n",
      "memory usage: 2.8+ MB\n"
     ]
    }
   ],
   "source": [
    "df.info()"
   ]
  },
  {
   "cell_type": "code",
   "execution_count": 36,
   "id": "d2add551",
   "metadata": {},
   "outputs": [],
   "source": [
    "#orders.isnull().sum()"
   ]
  },
  {
   "cell_type": "code",
   "execution_count": 37,
   "id": "69505952",
   "metadata": {},
   "outputs": [],
   "source": [
    "df=df.drop([\"Products.shopping_brand\",\"Orders.payment_status\",\"Order_Items.flags\",\"Order_Items.reorder_frequency\",\"Order_Items.registry_item\",\"Order_Items.product_name\",\"Order_Items.related_id\",\"Order_Items.account_id\",\"Order_Items.id\",\"Order_Items.attribute_prices\",\"Order_Items.attributes\",\"Order_Items.attribute_names\",\"Order_Items.product_id\",\"Orders.payment_date\",\"Orders.updated_date\",\"Orders.shipped_date\",\"Orders.payment_code\",\"Orders.payment_id\",\"Orders.tax\",\"Orders.tracking\",\"Orders.shipping_method\",\"Orders.shipping_carrier\",\"Orders.currency\",\"Orders.customer_id\",\"Orders.id\",\"Orders.placed_date\",\"Orders.payment_type\",\"Orders.fname\",\"Orders.order_number\",\"Orders.lname\",\"Orders.company\",\"Orders.company\",\"Orders.reorder_id\",\"Orders.external_source\",\"Orders.external_id\",\"Orders.sales_rep\",\"Orders.coupon_id\",\"Orders.coupon_amount\",\"Orders.gift_id\",\"Orders.gift_amount\",\"Orders.fee_name\",\"Orders.fee_amount\",\"Orders.discount_name\",\"Orders.discount_amount\",\"Orders.balance_due\",\"Orders.shipping_trans\",\"Orders.shipping_flags\",\"Orders.weight\",\"Orders.payment_method\",\"Orders.purchase_order\",\"Orders.payment_ref\",\"Orders.comments\",\"Orders.registry_id\",\"Orders.gift_message\",\"Orders.website\",\"Orders.mailing\",\"Orders.flags\",\"Orders.payment_user\",\"Orders.partial_ship\",\"Orders.notes\"],axis=1)"
   ]
  },
  {
   "cell_type": "code",
   "execution_count": 38,
   "id": "ef95aa6b",
   "metadata": {},
   "outputs": [],
   "source": [
    "df[\"Orders.payment_amount\"].fillna(df[\"Orders.payment_amount\"].mean(),inplace=True)"
   ]
  },
  {
   "cell_type": "code",
   "execution_count": 39,
   "id": "7a0b8d08",
   "metadata": {},
   "outputs": [],
   "source": [
    "df[\"Orders.shipping\"].fillna(df[\"Orders.shipping\"].mean(),inplace=True)"
   ]
  },
  {
   "cell_type": "code",
   "execution_count": 40,
   "id": "b557d505",
   "metadata": {},
   "outputs": [],
   "source": [
    "df[\"Orders.customer_type\"].fillna(\"0\",inplace=True)"
   ]
  },
  {
   "cell_type": "code",
   "execution_count": 41,
   "id": "5a729193",
   "metadata": {},
   "outputs": [],
   "source": [
    "df[\"Order_Items.cost\"].fillna(df[\"Order_Items.cost\"].mean(),inplace=True)"
   ]
  },
  {
   "cell_type": "code",
   "execution_count": 42,
   "id": "f1c158dd",
   "metadata": {},
   "outputs": [],
   "source": [
    "df = df.astype({\"Orders.customer_type\": int})"
   ]
  },
  {
   "cell_type": "code",
   "execution_count": 43,
   "id": "55b48ae5",
   "metadata": {},
   "outputs": [],
   "source": [
    "#o.isnull().sum()"
   ]
  },
  {
   "cell_type": "code",
   "execution_count": 44,
   "id": "3a1bad81",
   "metadata": {},
   "outputs": [
    {
     "data": {
      "text/plain": [
       "24.40     36\n",
       "16.23     33\n",
       "127.99    32\n",
       "116.99    28\n",
       "26.09     24\n",
       "          ..\n",
       "65.66      1\n",
       "99.78      1\n",
       "87.78      1\n",
       "9.12       1\n",
       "24.54      1\n",
       "Name: Orders.subtotal, Length: 1847, dtype: int64"
      ]
     },
     "execution_count": 44,
     "metadata": {},
     "output_type": "execute_result"
    }
   ],
   "source": [
    "df[\"Orders.subtotal\"].value_counts()"
   ]
  },
  {
   "cell_type": "code",
   "execution_count": 45,
   "id": "bc677c14",
   "metadata": {},
   "outputs": [
    {
     "name": "stdout",
     "output_type": "stream",
     "text": [
      "<class 'pandas.core.frame.DataFrame'>\n",
      "RangeIndex: 4194 entries, 0 to 4193\n",
      "Data columns (total 30 columns):\n",
      " #   Column                        Non-Null Count  Dtype  \n",
      "---  ------                        --------------  -----  \n",
      " 0   Customers.id                  4194 non-null   int64  \n",
      " 1   Customers.create_date         4194 non-null   int64  \n",
      " 2   Customers.last_modified       4194 non-null   int64  \n",
      " 3   Orders.subtotal               4194 non-null   float64\n",
      " 4   Orders.shipping               4194 non-null   float64\n",
      " 5   Orders.total                  4194 non-null   float64\n",
      " 6   Orders.payment_amount         4194 non-null   float64\n",
      " 7   Orders.status                 4194 non-null   int64  \n",
      " 8   Orders.customer_type          4194 non-null   int64  \n",
      " 9   Order_Items.parent            4194 non-null   int64  \n",
      " 10  Order_Items.qty               4194 non-null   int64  \n",
      " 11  Order_Items.price             4194 non-null   float64\n",
      " 12  Order_Items.cost              4194 non-null   float64\n",
      " 13  Products.status               4194 non-null   float64\n",
      " 14  Products.vendor               4194 non-null   float64\n",
      " 15  Products.list_price           4194 non-null   float64\n",
      " 16  Products.price                4194 non-null   float64\n",
      " 17  Products.taxable              4194 non-null   float64\n",
      " 18  Products.shopping_flags       4194 non-null   float64\n",
      " 19  Products.google_shopping_cat  4194 non-null   object \n",
      " 20  Products.unit                 4194 non-null   object \n",
      " 21  Products.multiple             4194 non-null   object \n",
      " 22  Products.upc                  4194 non-null   float64\n",
      " 23  Products.case_qty             4194 non-null   float64\n",
      " 24  Products.override_markup      4194 non-null   float64\n",
      " 25  Products.import_flags         4194 non-null   float64\n",
      " 26  Products.shipping_length      4194 non-null   float64\n",
      " 27  Products.shipping_width       4194 non-null   float64\n",
      " 28  Products.shipping_height      4194 non-null   float64\n",
      " 29  Products.saved_status         4194 non-null   float64\n",
      "dtypes: float64(20), int64(7), object(3)\n",
      "memory usage: 983.1+ KB\n"
     ]
    }
   ],
   "source": [
    "df.info()"
   ]
  },
  {
   "cell_type": "code",
   "execution_count": 46,
   "id": "266a5955",
   "metadata": {},
   "outputs": [
    {
     "data": {
      "text/plain": [
       "97.00     136\n",
       "44.94      72\n",
       "12.11      52\n",
       "103.00     52\n",
       "16.83      38\n",
       "         ... \n",
       "71.39       1\n",
       "70.38       1\n",
       "150.00      1\n",
       "59.71       1\n",
       "675.00      1\n",
       "Name: Order_Items.cost, Length: 1336, dtype: int64"
      ]
     },
     "execution_count": 46,
     "metadata": {},
     "output_type": "execute_result"
    }
   ],
   "source": [
    "df[\"Order_Items.cost\"].value_counts()"
   ]
  },
  {
   "cell_type": "code",
   "execution_count": 47,
   "id": "828070ec",
   "metadata": {},
   "outputs": [
    {
     "data": {
      "text/plain": [
       "Customers.id                    0\n",
       "Customers.create_date           0\n",
       "Customers.last_modified         0\n",
       "Orders.subtotal                 0\n",
       "Orders.shipping                 0\n",
       "Orders.total                    0\n",
       "Orders.payment_amount           0\n",
       "Orders.status                   0\n",
       "Orders.customer_type            0\n",
       "Order_Items.parent              0\n",
       "Order_Items.qty                 0\n",
       "Order_Items.price               0\n",
       "Order_Items.cost                0\n",
       "Products.status                 0\n",
       "Products.vendor                 0\n",
       "Products.list_price             0\n",
       "Products.price                  0\n",
       "Products.taxable                0\n",
       "Products.shopping_flags         0\n",
       "Products.google_shopping_cat    0\n",
       "Products.unit                   0\n",
       "Products.multiple               0\n",
       "Products.upc                    0\n",
       "Products.case_qty               0\n",
       "Products.override_markup        0\n",
       "Products.import_flags           0\n",
       "Products.shipping_length        0\n",
       "Products.shipping_width         0\n",
       "Products.shipping_height        0\n",
       "Products.saved_status           0\n",
       "dtype: int64"
      ]
     },
     "execution_count": 47,
     "metadata": {},
     "output_type": "execute_result"
    }
   ],
   "source": [
    "df.isnull().sum()"
   ]
  },
  {
   "cell_type": "code",
   "execution_count": 48,
   "id": "beb2f0bc",
   "metadata": {},
   "outputs": [],
   "source": [
    "df[\"Products.google_shopping_cat\"]=df[\"Products.google_shopping_cat\"].str.replace(\"[^\\w\\s]\",\"\")"
   ]
  },
  {
   "cell_type": "code",
   "execution_count": 49,
   "id": "9839ed47",
   "metadata": {},
   "outputs": [],
   "source": [
    "df[\"Products.google_shopping_cat\"]=df[\"Products.google_shopping_cat\"].str.replace(\"\\d+\",\"\")"
   ]
  },
  {
   "cell_type": "code",
   "execution_count": 50,
   "id": "26add411",
   "metadata": {},
   "outputs": [],
   "source": [
    "df[\"Products.google_shopping_cat\"]=df[\"Products.google_shopping_cat\"].str.replace(\"\\n\",\"\").replace(\"\\r\",\"\")"
   ]
  },
  {
   "cell_type": "code",
   "execution_count": 51,
   "id": "fcc3ca74",
   "metadata": {},
   "outputs": [],
   "source": [
    "df[\"Products.google_shopping_cat\"]=df[\"Products.google_shopping_cat\"].str.replace(\" \",\"\")"
   ]
  },
  {
   "cell_type": "code",
   "execution_count": 52,
   "id": "eae1e4c1",
   "metadata": {},
   "outputs": [],
   "source": [
    "df[\"Products.unit\"]=df[\"Products.unit\"].str.replace(\"[^\\w\\s]\",\"\")"
   ]
  },
  {
   "cell_type": "code",
   "execution_count": 53,
   "id": "9de026bd",
   "metadata": {},
   "outputs": [],
   "source": [
    "df[\"Products.unit\"]=df[\"Products.unit\"].str.replace(\"\\d+\",\"\")"
   ]
  },
  {
   "cell_type": "code",
   "execution_count": 54,
   "id": "95bfa539",
   "metadata": {},
   "outputs": [],
   "source": [
    "df[\"Products.unit\"]=df[\"Products.unit\"].str.replace(\"\\n\",\"\").replace(\"\\r\",\"\")"
   ]
  },
  {
   "cell_type": "code",
   "execution_count": 55,
   "id": "887439b6",
   "metadata": {},
   "outputs": [],
   "source": [
    "df[\"Products.unit\"]=df[\"Products.unit\"].str.replace(\" \",\"\")"
   ]
  },
  {
   "cell_type": "code",
   "execution_count": 56,
   "id": "12462856",
   "metadata": {},
   "outputs": [],
   "source": [
    "df[\"Products.multiple\"]=df[\"Products.multiple\"].str.replace(\"[^\\w\\s]\",\"\")"
   ]
  },
  {
   "cell_type": "code",
   "execution_count": 57,
   "id": "8d2de0d9",
   "metadata": {},
   "outputs": [],
   "source": [
    "df[\"Products.multiple\"]=df[\"Products.multiple\"].str.replace(\"\\d+\",\"\")"
   ]
  },
  {
   "cell_type": "code",
   "execution_count": 58,
   "id": "6e6f31ab",
   "metadata": {},
   "outputs": [],
   "source": [
    "df[\"Products.multiple\"]=df[\"Products.multiple\"].str.replace(\"\\n\",\"\").replace(\"\\r\",\"\")"
   ]
  },
  {
   "cell_type": "code",
   "execution_count": 59,
   "id": "4d962f16",
   "metadata": {},
   "outputs": [],
   "source": [
    "df[\"Products.multiple\"]=df[\"Products.multiple\"].str.replace(\" \",\"\")"
   ]
  },
  {
   "cell_type": "code",
   "execution_count": 60,
   "id": "ec39ef1d",
   "metadata": {},
   "outputs": [
    {
     "name": "stdout",
     "output_type": "stream",
     "text": [
      "<class 'pandas.core.frame.DataFrame'>\n",
      "RangeIndex: 4194 entries, 0 to 4193\n",
      "Data columns (total 30 columns):\n",
      " #   Column                        Non-Null Count  Dtype  \n",
      "---  ------                        --------------  -----  \n",
      " 0   Customers.id                  4194 non-null   int64  \n",
      " 1   Customers.create_date         4194 non-null   int64  \n",
      " 2   Customers.last_modified       4194 non-null   int64  \n",
      " 3   Orders.subtotal               4194 non-null   float64\n",
      " 4   Orders.shipping               4194 non-null   float64\n",
      " 5   Orders.total                  4194 non-null   float64\n",
      " 6   Orders.payment_amount         4194 non-null   float64\n",
      " 7   Orders.status                 4194 non-null   int64  \n",
      " 8   Orders.customer_type          4194 non-null   int64  \n",
      " 9   Order_Items.parent            4194 non-null   int64  \n",
      " 10  Order_Items.qty               4194 non-null   int64  \n",
      " 11  Order_Items.price             4194 non-null   float64\n",
      " 12  Order_Items.cost              4194 non-null   float64\n",
      " 13  Products.status               4194 non-null   float64\n",
      " 14  Products.vendor               4194 non-null   float64\n",
      " 15  Products.list_price           4194 non-null   float64\n",
      " 16  Products.price                4194 non-null   float64\n",
      " 17  Products.taxable              4194 non-null   float64\n",
      " 18  Products.shopping_flags       4194 non-null   float64\n",
      " 19  Products.google_shopping_cat  4194 non-null   object \n",
      " 20  Products.unit                 4194 non-null   object \n",
      " 21  Products.multiple             4194 non-null   object \n",
      " 22  Products.upc                  4194 non-null   float64\n",
      " 23  Products.case_qty             4194 non-null   float64\n",
      " 24  Products.override_markup      4194 non-null   float64\n",
      " 25  Products.import_flags         4194 non-null   float64\n",
      " 26  Products.shipping_length      4194 non-null   float64\n",
      " 27  Products.shipping_width       4194 non-null   float64\n",
      " 28  Products.shipping_height      4194 non-null   float64\n",
      " 29  Products.saved_status         4194 non-null   float64\n",
      "dtypes: float64(20), int64(7), object(3)\n",
      "memory usage: 983.1+ KB\n"
     ]
    }
   ],
   "source": [
    "df.info()"
   ]
  },
  {
   "cell_type": "code",
   "execution_count": 61,
   "id": "729e7d65",
   "metadata": {},
   "outputs": [
    {
     "data": {
      "text/html": [
       "<div>\n",
       "<style scoped>\n",
       "    .dataframe tbody tr th:only-of-type {\n",
       "        vertical-align: middle;\n",
       "    }\n",
       "\n",
       "    .dataframe tbody tr th {\n",
       "        vertical-align: top;\n",
       "    }\n",
       "\n",
       "    .dataframe thead th {\n",
       "        text-align: right;\n",
       "    }\n",
       "</style>\n",
       "<table border=\"1\" class=\"dataframe\">\n",
       "  <thead>\n",
       "    <tr style=\"text-align: right;\">\n",
       "      <th></th>\n",
       "      <th>Customers.id</th>\n",
       "      <th>Customers.create_date</th>\n",
       "      <th>Customers.last_modified</th>\n",
       "      <th>Orders.subtotal</th>\n",
       "      <th>Orders.shipping</th>\n",
       "      <th>Orders.total</th>\n",
       "      <th>Orders.payment_amount</th>\n",
       "      <th>Orders.status</th>\n",
       "      <th>Orders.customer_type</th>\n",
       "      <th>Order_Items.parent</th>\n",
       "      <th>...</th>\n",
       "      <th>Products.unit</th>\n",
       "      <th>Products.multiple</th>\n",
       "      <th>Products.upc</th>\n",
       "      <th>Products.case_qty</th>\n",
       "      <th>Products.override_markup</th>\n",
       "      <th>Products.import_flags</th>\n",
       "      <th>Products.shipping_length</th>\n",
       "      <th>Products.shipping_width</th>\n",
       "      <th>Products.shipping_height</th>\n",
       "      <th>Products.saved_status</th>\n",
       "    </tr>\n",
       "  </thead>\n",
       "  <tbody>\n",
       "    <tr>\n",
       "      <th>0</th>\n",
       "      <td>797</td>\n",
       "      <td>1426018724</td>\n",
       "      <td>1437764306</td>\n",
       "      <td>57.20</td>\n",
       "      <td>9.95</td>\n",
       "      <td>64.29</td>\n",
       "      <td>64.29</td>\n",
       "      <td>1</td>\n",
       "      <td>0</td>\n",
       "      <td>3758</td>\n",
       "      <td>...</td>\n",
       "      <td>EA</td>\n",
       "      <td>EA</td>\n",
       "      <td>5.504591e+11</td>\n",
       "      <td>1.0</td>\n",
       "      <td>0.0</td>\n",
       "      <td>136.000000</td>\n",
       "      <td>24.80</td>\n",
       "      <td>7.50</td>\n",
       "      <td>30.40</td>\n",
       "      <td>0.0</td>\n",
       "    </tr>\n",
       "    <tr>\n",
       "      <th>1</th>\n",
       "      <td>3</td>\n",
       "      <td>1386089139</td>\n",
       "      <td>1437764354</td>\n",
       "      <td>20.00</td>\n",
       "      <td>9.99</td>\n",
       "      <td>29.99</td>\n",
       "      <td>29.99</td>\n",
       "      <td>1</td>\n",
       "      <td>0</td>\n",
       "      <td>23</td>\n",
       "      <td>...</td>\n",
       "      <td>EA</td>\n",
       "      <td>EA</td>\n",
       "      <td>5.504591e+11</td>\n",
       "      <td>1.0</td>\n",
       "      <td>0.0</td>\n",
       "      <td>0.000000</td>\n",
       "      <td>8.00</td>\n",
       "      <td>7.00</td>\n",
       "      <td>1.50</td>\n",
       "      <td>0.0</td>\n",
       "    </tr>\n",
       "    <tr>\n",
       "      <th>2</th>\n",
       "      <td>3</td>\n",
       "      <td>1386089139</td>\n",
       "      <td>1437764354</td>\n",
       "      <td>68.78</td>\n",
       "      <td>9.95</td>\n",
       "      <td>78.73</td>\n",
       "      <td>78.73</td>\n",
       "      <td>3</td>\n",
       "      <td>0</td>\n",
       "      <td>9531</td>\n",
       "      <td>...</td>\n",
       "      <td>CS</td>\n",
       "      <td>CS</td>\n",
       "      <td>5.504591e+11</td>\n",
       "      <td>800.0</td>\n",
       "      <td>0.0</td>\n",
       "      <td>65.059943</td>\n",
       "      <td>13.23</td>\n",
       "      <td>10.04</td>\n",
       "      <td>10.24</td>\n",
       "      <td>0.0</td>\n",
       "    </tr>\n",
       "    <tr>\n",
       "      <th>3</th>\n",
       "      <td>4</td>\n",
       "      <td>1386780263</td>\n",
       "      <td>1437762646</td>\n",
       "      <td>19.56</td>\n",
       "      <td>9.95</td>\n",
       "      <td>29.55</td>\n",
       "      <td>29.55</td>\n",
       "      <td>1</td>\n",
       "      <td>0</td>\n",
       "      <td>29</td>\n",
       "      <td>...</td>\n",
       "      <td>EA</td>\n",
       "      <td>EA</td>\n",
       "      <td>8.019675e+10</td>\n",
       "      <td>1.0</td>\n",
       "      <td>0.0</td>\n",
       "      <td>65.059943</td>\n",
       "      <td>10.60</td>\n",
       "      <td>7.80</td>\n",
       "      <td>18.50</td>\n",
       "      <td>0.0</td>\n",
       "    </tr>\n",
       "    <tr>\n",
       "      <th>4</th>\n",
       "      <td>5</td>\n",
       "      <td>1386861599</td>\n",
       "      <td>1437764316</td>\n",
       "      <td>36.05</td>\n",
       "      <td>9.95</td>\n",
       "      <td>46.00</td>\n",
       "      <td>46.00</td>\n",
       "      <td>1</td>\n",
       "      <td>0</td>\n",
       "      <td>30</td>\n",
       "      <td>...</td>\n",
       "      <td>EA</td>\n",
       "      <td>EA</td>\n",
       "      <td>5.504591e+11</td>\n",
       "      <td>1.0</td>\n",
       "      <td>0.0</td>\n",
       "      <td>65.059943</td>\n",
       "      <td>8.50</td>\n",
       "      <td>2.75</td>\n",
       "      <td>12.00</td>\n",
       "      <td>0.0</td>\n",
       "    </tr>\n",
       "  </tbody>\n",
       "</table>\n",
       "<p>5 rows × 30 columns</p>\n",
       "</div>"
      ],
      "text/plain": [
       "   Customers.id  Customers.create_date  Customers.last_modified  \\\n",
       "0           797             1426018724               1437764306   \n",
       "1             3             1386089139               1437764354   \n",
       "2             3             1386089139               1437764354   \n",
       "3             4             1386780263               1437762646   \n",
       "4             5             1386861599               1437764316   \n",
       "\n",
       "   Orders.subtotal  Orders.shipping  Orders.total  Orders.payment_amount  \\\n",
       "0            57.20             9.95         64.29                  64.29   \n",
       "1            20.00             9.99         29.99                  29.99   \n",
       "2            68.78             9.95         78.73                  78.73   \n",
       "3            19.56             9.95         29.55                  29.55   \n",
       "4            36.05             9.95         46.00                  46.00   \n",
       "\n",
       "   Orders.status  Orders.customer_type  Order_Items.parent  ...  \\\n",
       "0              1                     0                3758  ...   \n",
       "1              1                     0                  23  ...   \n",
       "2              3                     0                9531  ...   \n",
       "3              1                     0                  29  ...   \n",
       "4              1                     0                  30  ...   \n",
       "\n",
       "   Products.unit  Products.multiple  Products.upc  Products.case_qty  \\\n",
       "0             EA                 EA  5.504591e+11                1.0   \n",
       "1             EA                 EA  5.504591e+11                1.0   \n",
       "2             CS                 CS  5.504591e+11              800.0   \n",
       "3             EA                 EA  8.019675e+10                1.0   \n",
       "4             EA                 EA  5.504591e+11                1.0   \n",
       "\n",
       "   Products.override_markup  Products.import_flags  Products.shipping_length  \\\n",
       "0                       0.0             136.000000                     24.80   \n",
       "1                       0.0               0.000000                      8.00   \n",
       "2                       0.0              65.059943                     13.23   \n",
       "3                       0.0              65.059943                     10.60   \n",
       "4                       0.0              65.059943                      8.50   \n",
       "\n",
       "   Products.shipping_width  Products.shipping_height Products.saved_status  \n",
       "0                     7.50                     30.40                   0.0  \n",
       "1                     7.00                      1.50                   0.0  \n",
       "2                    10.04                     10.24                   0.0  \n",
       "3                     7.80                     18.50                   0.0  \n",
       "4                     2.75                     12.00                   0.0  \n",
       "\n",
       "[5 rows x 30 columns]"
      ]
     },
     "execution_count": 61,
     "metadata": {},
     "output_type": "execute_result"
    }
   ],
   "source": [
    "df.head()"
   ]
  },
  {
   "cell_type": "code",
   "execution_count": 78,
   "id": "80e2bdeb",
   "metadata": {},
   "outputs": [],
   "source": [
    "df.to_csv('ready_data.csv',index=False)"
   ]
  },
  {
   "cell_type": "markdown",
   "id": "8be540bb",
   "metadata": {},
   "source": [
    "# Dummies"
   ]
  },
  {
   "cell_type": "code",
   "execution_count": 63,
   "id": "6a4785be",
   "metadata": {},
   "outputs": [],
   "source": [
    "df_dummies=pd.get_dummies(df,drop_first=True)"
   ]
  },
  {
   "cell_type": "code",
   "execution_count": 64,
   "id": "f9b6b6cc",
   "metadata": {},
   "outputs": [
    {
     "data": {
      "text/plain": [
       "Customers.id               0\n",
       "Customers.create_date      0\n",
       "Customers.last_modified    0\n",
       "Orders.subtotal            0\n",
       "Orders.shipping            0\n",
       "                          ..\n",
       "Products.multiple_PK       0\n",
       "Products.multiple_PR       0\n",
       "Products.multiple_RL       0\n",
       "Products.multiple_ST       0\n",
       "Products.multiple_TB       0\n",
       "Length: 63, dtype: int64"
      ]
     },
     "execution_count": 64,
     "metadata": {},
     "output_type": "execute_result"
    }
   ],
   "source": [
    "df_dummies.isnull().sum()"
   ]
  },
  {
   "cell_type": "code",
   "execution_count": 65,
   "id": "973a8484",
   "metadata": {},
   "outputs": [
    {
     "name": "stdout",
     "output_type": "stream",
     "text": [
      "<class 'pandas.core.frame.DataFrame'>\n",
      "RangeIndex: 4194 entries, 0 to 4193\n",
      "Data columns (total 63 columns):\n",
      " #   Column                                                                                                                                  Non-Null Count  Dtype  \n",
      "---  ------                                                                                                                                  --------------  -----  \n",
      " 0   Customers.id                                                                                                                            4194 non-null   int64  \n",
      " 1   Customers.create_date                                                                                                                   4194 non-null   int64  \n",
      " 2   Customers.last_modified                                                                                                                 4194 non-null   int64  \n",
      " 3   Orders.subtotal                                                                                                                         4194 non-null   float64\n",
      " 4   Orders.shipping                                                                                                                         4194 non-null   float64\n",
      " 5   Orders.total                                                                                                                            4194 non-null   float64\n",
      " 6   Orders.payment_amount                                                                                                                   4194 non-null   float64\n",
      " 7   Orders.status                                                                                                                           4194 non-null   int64  \n",
      " 8   Orders.customer_type                                                                                                                    4194 non-null   int64  \n",
      " 9   Order_Items.parent                                                                                                                      4194 non-null   int64  \n",
      " 10  Order_Items.qty                                                                                                                         4194 non-null   int64  \n",
      " 11  Order_Items.price                                                                                                                       4194 non-null   float64\n",
      " 12  Order_Items.cost                                                                                                                        4194 non-null   float64\n",
      " 13  Products.status                                                                                                                         4194 non-null   float64\n",
      " 14  Products.vendor                                                                                                                         4194 non-null   float64\n",
      " 15  Products.list_price                                                                                                                     4194 non-null   float64\n",
      " 16  Products.price                                                                                                                          4194 non-null   float64\n",
      " 17  Products.taxable                                                                                                                        4194 non-null   float64\n",
      " 18  Products.shopping_flags                                                                                                                 4194 non-null   float64\n",
      " 19  Products.upc                                                                                                                            4194 non-null   float64\n",
      " 20  Products.case_qty                                                                                                                       4194 non-null   float64\n",
      " 21  Products.override_markup                                                                                                                4194 non-null   float64\n",
      " 22  Products.import_flags                                                                                                                   4194 non-null   float64\n",
      " 23  Products.shipping_length                                                                                                                4194 non-null   float64\n",
      " 24  Products.shipping_width                                                                                                                 4194 non-null   float64\n",
      " 25  Products.shipping_height                                                                                                                4194 non-null   float64\n",
      " 26  Products.saved_status                                                                                                                   4194 non-null   float64\n",
      " 27  Products.google_shopping_cat_HealthBeautyHealthCareBiometricMonitorAccessoriesBloodPressureMonitorAccessoriesBloodPressureMonitorCuffs  4194 non-null   uint8  \n",
      " 28  Products.google_shopping_cat_HealthBeautyHealthCareMobilityAccessibilityAccessibilityEquipmentWheelchairs                               4194 non-null   uint8  \n",
      " 29  Products.google_shopping_cat_HealthBeautyHealthCareMobilityAccessibilityAccessibilityEquipmentWheelchairsManualWheelchairs              4194 non-null   uint8  \n",
      " 30  Products.google_shopping_cat_HealthBeautyHealthCareMobilityAccessibilityWalkingAidsWalkers                                              4194 non-null   uint8  \n",
      " 31  Products.unit_BOX                                                                                                                       4194 non-null   uint8  \n",
      " 32  Products.unit_BT                                                                                                                        4194 non-null   uint8  \n",
      " 33  Products.unit_BX                                                                                                                        4194 non-null   uint8  \n",
      " 34  Products.unit_CASE                                                                                                                      4194 non-null   uint8  \n",
      " 35  Products.unit_CN                                                                                                                        4194 non-null   uint8  \n",
      " 36  Products.unit_CS                                                                                                                        4194 non-null   uint8  \n",
      " 37  Products.unit_CV                                                                                                                        4194 non-null   uint8  \n",
      " 38  Products.unit_DZ                                                                                                                        4194 non-null   uint8  \n",
      " 39  Products.unit_EA                                                                                                                        4194 non-null   uint8  \n",
      " 40  Products.unit_GR                                                                                                                        4194 non-null   uint8  \n",
      " 41  Products.unit_KT                                                                                                                        4194 non-null   uint8  \n",
      " 42  Products.unit_PAIR                                                                                                                      4194 non-null   uint8  \n",
      " 43  Products.unit_PK                                                                                                                        4194 non-null   uint8  \n",
      " 44  Products.unit_PKG                                                                                                                       4194 non-null   uint8  \n",
      " 45  Products.unit_PR                                                                                                                        4194 non-null   uint8  \n",
      " 46  Products.unit_RL                                                                                                                        4194 non-null   uint8  \n",
      " 47  Products.unit_SET                                                                                                                       4194 non-null   uint8  \n",
      " 48  Products.unit_ST                                                                                                                        4194 non-null   uint8  \n",
      " 49  Products.unit_TB                                                                                                                        4194 non-null   uint8  \n",
      " 50  Products.multiple_BT                                                                                                                    4194 non-null   uint8  \n",
      " 51  Products.multiple_BX                                                                                                                    4194 non-null   uint8  \n",
      " 52  Products.multiple_CN                                                                                                                    4194 non-null   uint8  \n",
      " 53  Products.multiple_CS                                                                                                                    4194 non-null   uint8  \n",
      " 54  Products.multiple_DZ                                                                                                                    4194 non-null   uint8  \n",
      " 55  Products.multiple_EA                                                                                                                    4194 non-null   uint8  \n",
      " 56  Products.multiple_GR                                                                                                                    4194 non-null   uint8  \n",
      " 57  Products.multiple_KT                                                                                                                    4194 non-null   uint8  \n",
      " 58  Products.multiple_PK                                                                                                                    4194 non-null   uint8  \n",
      " 59  Products.multiple_PR                                                                                                                    4194 non-null   uint8  \n",
      " 60  Products.multiple_RL                                                                                                                    4194 non-null   uint8  \n",
      " 61  Products.multiple_ST                                                                                                                    4194 non-null   uint8  \n",
      " 62  Products.multiple_TB                                                                                                                    4194 non-null   uint8  \n",
      "dtypes: float64(20), int64(7), uint8(36)\n",
      "memory usage: 1.0 MB\n"
     ]
    }
   ],
   "source": [
    "df_dummies.info()"
   ]
  },
  {
   "cell_type": "code",
   "execution_count": 66,
   "id": "12bc018b",
   "metadata": {},
   "outputs": [],
   "source": [
    "from sklearn.metrics import accuracy_score,precision_score,recall_score,f1_score\n",
    "from sklearn.metrics import confusion_matrix,classification_report\n",
    "from sklearn.ensemble import GradientBoostingClassifier\n",
    "gbc = GradientBoostingClassifier()\n",
    "from sklearn.ensemble import RandomForestClassifier\n",
    "r = RandomForestClassifier()\n",
    "from sklearn.tree import DecisionTreeClassifier\n",
    "d= DecisionTreeClassifier()\n",
    "from sklearn.linear_model import LogisticRegression\n",
    "log = LogisticRegression()\n",
    "from sklearn.neighbors import KNeighborsClassifier\n",
    "k = KNeighborsClassifier()\n",
    "from sklearn.naive_bayes import GaussianNB\n",
    "from sklearn.naive_bayes import BernoulliNB\n",
    "g = GaussianNB()\n",
    "b = BernoulliNB()\n",
    "from xgboost import XGBClassifier\n",
    "xgbc = XGBClassifier()"
   ]
  },
  {
   "cell_type": "code",
   "execution_count": 67,
   "id": "7ead678b",
   "metadata": {},
   "outputs": [],
   "source": [
    "algorithms=[g,b,k,log,gbc,r,d,xgbc]\n",
    "names=[\"GaussianNB\",\"BernoulliNB\",\"K Nearest\",\"Logistic\",\"GradientBoosting\",\"RandomForest\",\"Decision Tree\",\"XGBC\"]"
   ]
  },
  {
   "cell_type": "code",
   "execution_count": 68,
   "id": "ce51a031",
   "metadata": {},
   "outputs": [],
   "source": [
    "def algo_test(X,y,algorithms= algorithms,names=names):\n",
    "        # fit the data\n",
    "    for i in range(len(algorithms)):\n",
    "        algorithms[i]=algorithms[i].fit(X,y)\n",
    "    # print metrics\n",
    "    accuracy = []\n",
    "    precision = []\n",
    "    recall = []\n",
    "    f1 = []\n",
    "    for i in range(len(algorithms)):\n",
    "        accuracy.append(accuracy_score(y,algorithms[i].predict(X)))\n",
    "        precision.append(precision_score(y,algorithms[i].predict(X)))\n",
    "        recall.append(recall_score(y,algorithms[i].predict(X)))\n",
    "        f1.append(f1_score(y,algorithms[i].predict(X)))\n",
    "    metrics = pd.DataFrame(columns=[\"accuracy\",\"precision\",\"recall\",\"f1\"],index=names)\n",
    "    metrics[\"accuracy\"]=accuracy\n",
    "    metrics[\"precision\"]=precision\n",
    "    metrics[\"recall\"]=recall\n",
    "    metrics[\"f1\"]=f1\n",
    "    return metrics.sort_values(\"f1\",ascending=False)"
   ]
  },
  {
   "cell_type": "code",
   "execution_count": 69,
   "id": "223a3ce6",
   "metadata": {},
   "outputs": [],
   "source": [
    "import pandas as pd\n",
    "from sklearn.cluster import KMeans\n",
    "from sklearn.metrics import silhouette_score\n",
    "import matplotlib.pyplot as plt\n",
    "import numpy as np\n",
    "%matplotlib inline\n",
    "import warnings\n",
    "warnings.filterwarnings(\"ignore\")"
   ]
  },
  {
   "cell_type": "code",
   "execution_count": 70,
   "id": "69b8daa4",
   "metadata": {},
   "outputs": [],
   "source": [
    "model = KMeans(n_clusters=4)"
   ]
  },
  {
   "cell_type": "code",
   "execution_count": 71,
   "id": "69b6dfb0",
   "metadata": {},
   "outputs": [],
   "source": [
    "model = model.fit(df_dummies)"
   ]
  },
  {
   "cell_type": "code",
   "execution_count": 72,
   "id": "415383f6",
   "metadata": {},
   "outputs": [],
   "source": [
    "pred = model.predict(df_dummies)"
   ]
  },
  {
   "cell_type": "code",
   "execution_count": 73,
   "id": "1b20fd75",
   "metadata": {},
   "outputs": [],
   "source": [
    "pred_df = pd.DataFrame(pred)\n"
   ]
  },
  {
   "cell_type": "code",
   "execution_count": 74,
   "id": "541cdf4d",
   "metadata": {},
   "outputs": [
    {
     "data": {
      "text/plain": [
       "pandas.core.frame.DataFrame"
      ]
     },
     "execution_count": 74,
     "metadata": {},
     "output_type": "execute_result"
    }
   ],
   "source": [
    "type(pred_df)"
   ]
  },
  {
   "cell_type": "code",
   "execution_count": null,
   "id": "16b3e2bd",
   "metadata": {},
   "outputs": [],
   "source": []
  },
  {
   "cell_type": "code",
   "execution_count": 75,
   "id": "45ad52af",
   "metadata": {},
   "outputs": [
    {
     "name": "stdout",
     "output_type": "stream",
     "text": [
      "Number of cluster 2, silhouette 0.8063591095439339\n",
      "Number of cluster 3, silhouette 0.9085376406326462\n",
      "Number of cluster 4, silhouette 0.9238423454544252\n",
      "Number of cluster 5, silhouette 0.9666090067230069\n",
      "Number of cluster 6, silhouette 0.9722128643828218\n",
      "Number of cluster 7, silhouette 0.9729239842613279\n",
      "Number of cluster 8, silhouette 0.9782200753951185\n",
      "Number of cluster 9, silhouette 0.9786199158501947\n"
     ]
    }
   ],
   "source": [
    "allscore=[]\n",
    "allclusters=[]\n",
    "sum_of_squared_distances=[]\n",
    "def clust(clusters):\n",
    "    for no_of_cluster in np.arange(1,clusters):\n",
    "        no_of_cluster+=1\n",
    "        model = KMeans(n_clusters = no_of_cluster)\n",
    "        pred = model.fit_predict(df_dummies)\n",
    "        sum_of_squared_distances.append(model.inertia_)\n",
    "        score = silhouette_score(df_dummies,pred)\n",
    "        print(\"Number of cluster {}, silhouette {}\".format(no_of_cluster,score))\n",
    "        allscore.append(score)\n",
    "        allclusters.append(no_of_cluster)\n",
    "clust(9)"
   ]
  },
  {
   "cell_type": "code",
   "execution_count": 76,
   "id": "e9de9520",
   "metadata": {},
   "outputs": [
    {
     "data": {
      "image/png": "[encoded data removed]",
      "text/plain": [
       "<Figure size 432x288 with 1 Axes>"
      ]
     },
     "metadata": {
      "needs_background": "light"
     },
     "output_type": "display_data"
    }
   ],
   "source": [
    "plt.plot(allclusters,sum_of_squared_distances,marker=\"x\")\n",
    "plt.xlabel(\"k\")\n",
    "plt.ylabel(\"Distortion\")\n",
    "plt.title(\"The Elbow Method Showing Optimal K\")\n",
    "plt.show()"
   ]
  }
 ],
 "metadata": {
  "kernelspec": {
   "display_name": "Python 3 (ipykernel)",
   "language": "python",
   "name": "python3"
  },
  "language_info": {
   "codemirror_mode": {
    "name": "ipython",
    "version": 3
   },
   "file_extension": ".py",
   "mimetype": "text/x-python",
   "name": "python",
   "nbconvert_exporter": "python",
   "pygments_lexer": "ipython3",
   "version": "3.9.7"
  }
 },
 "nbformat": 4,
 "nbformat_minor": 5
}
