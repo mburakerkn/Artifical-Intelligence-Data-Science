{
 "cells": [
  {
   "cell_type": "code",
   "execution_count": 11,
   "id": "f43c2ae3",
   "metadata": {},
   "outputs": [],
   "source": [
    "import pandas as pd\n",
    "from sklearn.cluster import KMeans\n",
    "from sklearn.metrics import silhouette_score\n",
    "import matplotlib.pyplot as plt\n",
    "import numpy as np\n",
    "import seaborn as sns\n",
    "%matplotlib inline\n",
    "import warnings\n",
    "warnings.filterwarnings(\"ignore\")\n"
   ]
  },
  {
   "cell_type": "code",
   "execution_count": 2,
   "id": "9ea5a26c",
   "metadata": {},
   "outputs": [],
   "source": [
    "df = pd.read_excel(\"World military power.xlsx\",header=None)"
   ]
  },
  {
   "cell_type": "code",
   "execution_count": 3,
   "id": "61216abe",
   "metadata": {},
   "outputs": [
    {
     "data": {
      "text/html": [
       "<div>\n",
       "<style scoped>\n",
       "    .dataframe tbody tr th:only-of-type {\n",
       "        vertical-align: middle;\n",
       "    }\n",
       "\n",
       "    .dataframe tbody tr th {\n",
       "        vertical-align: top;\n",
       "    }\n",
       "\n",
       "    .dataframe thead th {\n",
       "        text-align: right;\n",
       "    }\n",
       "</style>\n",
       "<table border=\"1\" class=\"dataframe\">\n",
       "  <thead>\n",
       "    <tr style=\"text-align: right;\">\n",
       "      <th></th>\n",
       "      <th>0</th>\n",
       "      <th>1</th>\n",
       "      <th>2</th>\n",
       "      <th>3</th>\n",
       "      <th>4</th>\n",
       "      <th>5</th>\n",
       "      <th>6</th>\n",
       "      <th>7</th>\n",
       "      <th>8</th>\n",
       "      <th>9</th>\n",
       "      <th>...</th>\n",
       "      <th>50</th>\n",
       "      <th>51</th>\n",
       "      <th>52</th>\n",
       "      <th>53</th>\n",
       "      <th>54</th>\n",
       "      <th>55</th>\n",
       "      <th>56</th>\n",
       "      <th>57</th>\n",
       "      <th>58</th>\n",
       "      <th>59</th>\n",
       "    </tr>\n",
       "  </thead>\n",
       "  <tbody>\n",
       "    <tr>\n",
       "      <th>0</th>\n",
       "      <td>2020 ranking</td>\n",
       "      <td>NaN</td>\n",
       "      <td>Airforce Strength</td>\n",
       "      <td>NaN</td>\n",
       "      <td>NaN</td>\n",
       "      <td>NaN</td>\n",
       "      <td>NaN</td>\n",
       "      <td>NaN</td>\n",
       "      <td>NaN</td>\n",
       "      <td>NaN</td>\n",
       "      <td>...</td>\n",
       "      <td>NaN</td>\n",
       "      <td>NaN</td>\n",
       "      <td>Geography</td>\n",
       "      <td>NaN</td>\n",
       "      <td>NaN</td>\n",
       "      <td>NaN</td>\n",
       "      <td>NaN</td>\n",
       "      <td>NaN</td>\n",
       "      <td>NaN</td>\n",
       "      <td>NaN</td>\n",
       "    </tr>\n",
       "    <tr>\n",
       "      <th>1</th>\n",
       "      <td>Military Strength</td>\n",
       "      <td>Military Strength Power Index</td>\n",
       "      <td>Aircraft Strength</td>\n",
       "      <td>Aircraft Strength value</td>\n",
       "      <td>Fighter/Interceptor Strength</td>\n",
       "      <td>Fighter/Interceptor Strength value</td>\n",
       "      <td>Attack Aircraft Strength</td>\n",
       "      <td>Attack Aircraft Strength value</td>\n",
       "      <td>Transport Aircraft Fleet Strength</td>\n",
       "      <td>Transport Aircraft Fleet Strength value</td>\n",
       "      <td>...</td>\n",
       "      <td>Total Population</td>\n",
       "      <td>Total Population value</td>\n",
       "      <td>Total Square Land Area</td>\n",
       "      <td>Total Square Land Area value</td>\n",
       "      <td>Total Coastline Coverage</td>\n",
       "      <td>Total Coastline Coverage value</td>\n",
       "      <td>Total Waterway Coverage</td>\n",
       "      <td>Total Waterway Coverage value</td>\n",
       "      <td>Total Border Coverage</td>\n",
       "      <td>Total Border Coverage value</td>\n",
       "    </tr>\n",
       "    <tr>\n",
       "      <th>2</th>\n",
       "      <td>Afghanistan</td>\n",
       "      <td>1.3444</td>\n",
       "      <td>Afghanistan</td>\n",
       "      <td>260</td>\n",
       "      <td>Afghanistan</td>\n",
       "      <td>0</td>\n",
       "      <td>Afghanistan</td>\n",
       "      <td>25</td>\n",
       "      <td>Afghanistan</td>\n",
       "      <td>30</td>\n",
       "      <td>...</td>\n",
       "      <td>Afghanistan</td>\n",
       "      <td>3,49,40,837</td>\n",
       "      <td>Afghanistan</td>\n",
       "      <td>6,52,230</td>\n",
       "      <td>Afghanistan</td>\n",
       "      <td>0</td>\n",
       "      <td>Afghanistan</td>\n",
       "      <td>1200</td>\n",
       "      <td>Afghanistan</td>\n",
       "      <td>5987</td>\n",
       "    </tr>\n",
       "    <tr>\n",
       "      <th>3</th>\n",
       "      <td>Albania</td>\n",
       "      <td>2.3137</td>\n",
       "      <td>Albania</td>\n",
       "      <td>19</td>\n",
       "      <td>Albania</td>\n",
       "      <td>0</td>\n",
       "      <td>Albania</td>\n",
       "      <td>0</td>\n",
       "      <td>Albania</td>\n",
       "      <td>0</td>\n",
       "      <td>...</td>\n",
       "      <td>Albania</td>\n",
       "      <td>30,57,220</td>\n",
       "      <td>Albania</td>\n",
       "      <td>28748</td>\n",
       "      <td>Albania</td>\n",
       "      <td>362</td>\n",
       "      <td>Albania</td>\n",
       "      <td>41</td>\n",
       "      <td>Albania</td>\n",
       "      <td>691</td>\n",
       "    </tr>\n",
       "    <tr>\n",
       "      <th>4</th>\n",
       "      <td>Algeria</td>\n",
       "      <td>0.4659</td>\n",
       "      <td>Algeria</td>\n",
       "      <td>551</td>\n",
       "      <td>Algeria</td>\n",
       "      <td>103</td>\n",
       "      <td>Algeria</td>\n",
       "      <td>22</td>\n",
       "      <td>Algeria</td>\n",
       "      <td>59</td>\n",
       "      <td>...</td>\n",
       "      <td>Algeria</td>\n",
       "      <td>4,16,57,488</td>\n",
       "      <td>Algeria</td>\n",
       "      <td>23,81,741</td>\n",
       "      <td>Algeria</td>\n",
       "      <td>998</td>\n",
       "      <td>Algeria</td>\n",
       "      <td>0</td>\n",
       "      <td>Algeria</td>\n",
       "      <td>6734</td>\n",
       "    </tr>\n",
       "  </tbody>\n",
       "</table>\n",
       "<p>5 rows × 60 columns</p>\n",
       "</div>"
      ],
      "text/plain": [
       "                  0                              1                  2   \\\n",
       "0       2020 ranking                            NaN  Airforce Strength   \n",
       "1  Military Strength  Military Strength Power Index  Aircraft Strength   \n",
       "2        Afghanistan                         1.3444        Afghanistan   \n",
       "3            Albania                         2.3137            Albania   \n",
       "4            Algeria                         0.4659            Algeria   \n",
       "\n",
       "                        3                             4   \\\n",
       "0                      NaN                           NaN   \n",
       "1  Aircraft Strength value  Fighter/Interceptor Strength   \n",
       "2                      260                   Afghanistan   \n",
       "3                       19                       Albania   \n",
       "4                      551                       Algeria   \n",
       "\n",
       "                                   5                         6   \\\n",
       "0                                 NaN                       NaN   \n",
       "1  Fighter/Interceptor Strength value  Attack Aircraft Strength   \n",
       "2                                   0               Afghanistan   \n",
       "3                                   0                   Albania   \n",
       "4                                 103                   Algeria   \n",
       "\n",
       "                               7                                  8   \\\n",
       "0                             NaN                                NaN   \n",
       "1  Attack Aircraft Strength value  Transport Aircraft Fleet Strength   \n",
       "2                              25                        Afghanistan   \n",
       "3                               0                            Albania   \n",
       "4                              22                            Algeria   \n",
       "\n",
       "                                        9   ...                50  \\\n",
       "0                                      NaN  ...               NaN   \n",
       "1  Transport Aircraft Fleet Strength value  ...  Total Population   \n",
       "2                                       30  ...       Afghanistan   \n",
       "3                                        0  ...           Albania   \n",
       "4                                       59  ...           Algeria   \n",
       "\n",
       "                       51                      52  \\\n",
       "0                     NaN               Geography   \n",
       "1  Total Population value  Total Square Land Area   \n",
       "2             3,49,40,837             Afghanistan   \n",
       "3               30,57,220                 Albania   \n",
       "4             4,16,57,488                 Algeria   \n",
       "\n",
       "                             53                        54  \\\n",
       "0                           NaN                       NaN   \n",
       "1  Total Square Land Area value  Total Coastline Coverage   \n",
       "2                      6,52,230               Afghanistan   \n",
       "3                         28748                   Albania   \n",
       "4                     23,81,741                   Algeria   \n",
       "\n",
       "                               55                       56  \\\n",
       "0                             NaN                      NaN   \n",
       "1  Total Coastline Coverage value  Total Waterway Coverage   \n",
       "2                               0              Afghanistan   \n",
       "3                             362                  Albania   \n",
       "4                             998                  Algeria   \n",
       "\n",
       "                              57                     58  \\\n",
       "0                            NaN                    NaN   \n",
       "1  Total Waterway Coverage value  Total Border Coverage   \n",
       "2                           1200            Afghanistan   \n",
       "3                             41                Albania   \n",
       "4                              0                Algeria   \n",
       "\n",
       "                            59  \n",
       "0                          NaN  \n",
       "1  Total Border Coverage value  \n",
       "2                         5987  \n",
       "3                          691  \n",
       "4                         6734  \n",
       "\n",
       "[5 rows x 60 columns]"
      ]
     },
     "execution_count": 3,
     "metadata": {},
     "output_type": "execute_result"
    }
   ],
   "source": [
    "df.head()"
   ]
  },
  {
   "cell_type": "code",
   "execution_count": 4,
   "id": "af0656d4",
   "metadata": {},
   "outputs": [],
   "source": [
    "df.drop([0], axis=0, inplace=True)"
   ]
  },
  {
   "cell_type": "code",
   "execution_count": 5,
   "id": "32c0681a",
   "metadata": {},
   "outputs": [],
   "source": [
    "df.columns = df.iloc[0]"
   ]
  },
  {
   "cell_type": "code",
   "execution_count": 6,
   "id": "9e75a553",
   "metadata": {},
   "outputs": [],
   "source": [
    "df.drop([1], axis=0, inplace=True)"
   ]
  },
  {
   "cell_type": "code",
   "execution_count": 7,
   "id": "d404035f",
   "metadata": {},
   "outputs": [
    {
     "data": {
      "text/html": [
       "<div>\n",
       "<style scoped>\n",
       "    .dataframe tbody tr th:only-of-type {\n",
       "        vertical-align: middle;\n",
       "    }\n",
       "\n",
       "    .dataframe tbody tr th {\n",
       "        vertical-align: top;\n",
       "    }\n",
       "\n",
       "    .dataframe thead th {\n",
       "        text-align: right;\n",
       "    }\n",
       "</style>\n",
       "<table border=\"1\" class=\"dataframe\">\n",
       "  <thead>\n",
       "    <tr style=\"text-align: right;\">\n",
       "      <th>1</th>\n",
       "      <th>Military Strength</th>\n",
       "      <th>Military Strength Power Index</th>\n",
       "      <th>Aircraft Strength</th>\n",
       "      <th>Aircraft Strength value</th>\n",
       "      <th>Fighter/Interceptor Strength</th>\n",
       "      <th>Fighter/Interceptor Strength value</th>\n",
       "      <th>Attack Aircraft Strength</th>\n",
       "      <th>Attack Aircraft Strength value</th>\n",
       "      <th>Transport Aircraft Fleet Strength</th>\n",
       "      <th>Transport Aircraft Fleet Strength value</th>\n",
       "      <th>...</th>\n",
       "      <th>Total Population</th>\n",
       "      <th>Total Population value</th>\n",
       "      <th>Total Square Land Area</th>\n",
       "      <th>Total Square Land Area value</th>\n",
       "      <th>Total Coastline Coverage</th>\n",
       "      <th>Total Coastline Coverage value</th>\n",
       "      <th>Total Waterway Coverage</th>\n",
       "      <th>Total Waterway Coverage value</th>\n",
       "      <th>Total Border Coverage</th>\n",
       "      <th>Total Border Coverage value</th>\n",
       "    </tr>\n",
       "  </thead>\n",
       "  <tbody>\n",
       "    <tr>\n",
       "      <th>2</th>\n",
       "      <td>Afghanistan</td>\n",
       "      <td>1.3444</td>\n",
       "      <td>Afghanistan</td>\n",
       "      <td>260</td>\n",
       "      <td>Afghanistan</td>\n",
       "      <td>0</td>\n",
       "      <td>Afghanistan</td>\n",
       "      <td>25</td>\n",
       "      <td>Afghanistan</td>\n",
       "      <td>30</td>\n",
       "      <td>...</td>\n",
       "      <td>Afghanistan</td>\n",
       "      <td>3,49,40,837</td>\n",
       "      <td>Afghanistan</td>\n",
       "      <td>6,52,230</td>\n",
       "      <td>Afghanistan</td>\n",
       "      <td>0</td>\n",
       "      <td>Afghanistan</td>\n",
       "      <td>1200</td>\n",
       "      <td>Afghanistan</td>\n",
       "      <td>5987</td>\n",
       "    </tr>\n",
       "    <tr>\n",
       "      <th>3</th>\n",
       "      <td>Albania</td>\n",
       "      <td>2.3137</td>\n",
       "      <td>Albania</td>\n",
       "      <td>19</td>\n",
       "      <td>Albania</td>\n",
       "      <td>0</td>\n",
       "      <td>Albania</td>\n",
       "      <td>0</td>\n",
       "      <td>Albania</td>\n",
       "      <td>0</td>\n",
       "      <td>...</td>\n",
       "      <td>Albania</td>\n",
       "      <td>30,57,220</td>\n",
       "      <td>Albania</td>\n",
       "      <td>28748</td>\n",
       "      <td>Albania</td>\n",
       "      <td>362</td>\n",
       "      <td>Albania</td>\n",
       "      <td>41</td>\n",
       "      <td>Albania</td>\n",
       "      <td>691</td>\n",
       "    </tr>\n",
       "    <tr>\n",
       "      <th>4</th>\n",
       "      <td>Algeria</td>\n",
       "      <td>0.4659</td>\n",
       "      <td>Algeria</td>\n",
       "      <td>551</td>\n",
       "      <td>Algeria</td>\n",
       "      <td>103</td>\n",
       "      <td>Algeria</td>\n",
       "      <td>22</td>\n",
       "      <td>Algeria</td>\n",
       "      <td>59</td>\n",
       "      <td>...</td>\n",
       "      <td>Algeria</td>\n",
       "      <td>4,16,57,488</td>\n",
       "      <td>Algeria</td>\n",
       "      <td>23,81,741</td>\n",
       "      <td>Algeria</td>\n",
       "      <td>998</td>\n",
       "      <td>Algeria</td>\n",
       "      <td>0</td>\n",
       "      <td>Algeria</td>\n",
       "      <td>6734</td>\n",
       "    </tr>\n",
       "    <tr>\n",
       "      <th>5</th>\n",
       "      <td>Angola</td>\n",
       "      <td>0.8379</td>\n",
       "      <td>Angola</td>\n",
       "      <td>295</td>\n",
       "      <td>Angola</td>\n",
       "      <td>72</td>\n",
       "      <td>Angola</td>\n",
       "      <td>18</td>\n",
       "      <td>Angola</td>\n",
       "      <td>30</td>\n",
       "      <td>...</td>\n",
       "      <td>Angola</td>\n",
       "      <td>3,03,55,880</td>\n",
       "      <td>Angola</td>\n",
       "      <td>12,46,700</td>\n",
       "      <td>Angola</td>\n",
       "      <td>1600</td>\n",
       "      <td>Angola</td>\n",
       "      <td>1300</td>\n",
       "      <td>Angola</td>\n",
       "      <td>5369</td>\n",
       "    </tr>\n",
       "    <tr>\n",
       "      <th>6</th>\n",
       "      <td>Argentina</td>\n",
       "      <td>0.6521</td>\n",
       "      <td>Argentina</td>\n",
       "      <td>227</td>\n",
       "      <td>Argentina</td>\n",
       "      <td>24</td>\n",
       "      <td>Argentina</td>\n",
       "      <td>7</td>\n",
       "      <td>Argentina</td>\n",
       "      <td>9</td>\n",
       "      <td>...</td>\n",
       "      <td>Argentina</td>\n",
       "      <td>4,46,94,198</td>\n",
       "      <td>Argentina</td>\n",
       "      <td>27,80,400</td>\n",
       "      <td>Argentina</td>\n",
       "      <td>4989</td>\n",
       "      <td>Argentina</td>\n",
       "      <td>11000</td>\n",
       "      <td>Argentina</td>\n",
       "      <td>11968</td>\n",
       "    </tr>\n",
       "  </tbody>\n",
       "</table>\n",
       "<p>5 rows × 60 columns</p>\n",
       "</div>"
      ],
      "text/plain": [
       "1 Military Strength Military Strength Power Index Aircraft Strength  \\\n",
       "2       Afghanistan                        1.3444       Afghanistan   \n",
       "3           Albania                        2.3137           Albania   \n",
       "4           Algeria                        0.4659           Algeria   \n",
       "5            Angola                        0.8379            Angola   \n",
       "6         Argentina                        0.6521         Argentina   \n",
       "\n",
       "1 Aircraft Strength value Fighter/Interceptor Strength  \\\n",
       "2                     260                  Afghanistan   \n",
       "3                      19                      Albania   \n",
       "4                     551                      Algeria   \n",
       "5                     295                       Angola   \n",
       "6                     227                    Argentina   \n",
       "\n",
       "1 Fighter/Interceptor Strength value Attack Aircraft Strength  \\\n",
       "2                                  0              Afghanistan   \n",
       "3                                  0                  Albania   \n",
       "4                                103                  Algeria   \n",
       "5                                 72                   Angola   \n",
       "6                                 24                Argentina   \n",
       "\n",
       "1 Attack Aircraft Strength value Transport Aircraft Fleet Strength  \\\n",
       "2                             25                       Afghanistan   \n",
       "3                              0                           Albania   \n",
       "4                             22                           Algeria   \n",
       "5                             18                            Angola   \n",
       "6                              7                         Argentina   \n",
       "\n",
       "1 Transport Aircraft Fleet Strength value  ... Total Population  \\\n",
       "2                                      30  ...      Afghanistan   \n",
       "3                                       0  ...          Albania   \n",
       "4                                      59  ...          Algeria   \n",
       "5                                      30  ...           Angola   \n",
       "6                                       9  ...        Argentina   \n",
       "\n",
       "1 Total Population value Total Square Land Area Total Square Land Area value  \\\n",
       "2            3,49,40,837            Afghanistan                     6,52,230   \n",
       "3              30,57,220                Albania                        28748   \n",
       "4            4,16,57,488                Algeria                    23,81,741   \n",
       "5            3,03,55,880                 Angola                    12,46,700   \n",
       "6            4,46,94,198              Argentina                    27,80,400   \n",
       "\n",
       "1 Total Coastline Coverage Total Coastline Coverage value  \\\n",
       "2              Afghanistan                              0   \n",
       "3                  Albania                            362   \n",
       "4                  Algeria                            998   \n",
       "5                   Angola                           1600   \n",
       "6                Argentina                           4989   \n",
       "\n",
       "1 Total Waterway Coverage Total Waterway Coverage value Total Border Coverage  \\\n",
       "2             Afghanistan                          1200           Afghanistan   \n",
       "3                 Albania                            41               Albania   \n",
       "4                 Algeria                             0               Algeria   \n",
       "5                  Angola                          1300                Angola   \n",
       "6               Argentina                         11000             Argentina   \n",
       "\n",
       "1 Total Border Coverage value  \n",
       "2                        5987  \n",
       "3                         691  \n",
       "4                        6734  \n",
       "5                        5369  \n",
       "6                       11968  \n",
       "\n",
       "[5 rows x 60 columns]"
      ]
     },
     "execution_count": 7,
     "metadata": {},
     "output_type": "execute_result"
    }
   ],
   "source": [
    "df.head()"
   ]
  },
  {
   "cell_type": "code",
   "execution_count": 8,
   "id": "c8f5cec7",
   "metadata": {},
   "outputs": [
    {
     "data": {
      "text/plain": [
       "(138, 60)"
      ]
     },
     "execution_count": 8,
     "metadata": {},
     "output_type": "execute_result"
    }
   ],
   "source": [
    "df.shape"
   ]
  },
  {
   "cell_type": "code",
   "execution_count": 14,
   "id": "5eb4994c",
   "metadata": {},
   "outputs": [
    {
     "data": {
      "text/plain": [
       "Afghanistan     1\n",
       "Panama          1\n",
       "Singapore       1\n",
       "Sierra Leone    1\n",
       "Serbia          1\n",
       "               ..\n",
       "Georgia         1\n",
       "Gabon           1\n",
       "France          1\n",
       "Finland         1\n",
       "Zimbabwe        1\n",
       "Name: Navy Fleet Strengths, Length: 124, dtype: int64"
      ]
     },
     "execution_count": 14,
     "metadata": {},
     "output_type": "execute_result"
    }
   ],
   "source": [
    "df[\"Navy Fleet Strengths\"].value_counts()"
   ]
  },
  {
   "cell_type": "code",
   "execution_count": 22,
   "id": "53f0949c",
   "metadata": {},
   "outputs": [
    {
     "data": {
      "text/plain": [
       "109"
      ]
     },
     "execution_count": 22,
     "metadata": {},
     "output_type": "execute_result"
    }
   ],
   "source": [
    "df[\"Total Coastline Coverage\"].nunique()"
   ]
  },
  {
   "cell_type": "code",
   "execution_count": 17,
   "id": "66ca19c4",
   "metadata": {},
   "outputs": [],
   "source": [
    "df2=df.dropna()"
   ]
  },
  {
   "cell_type": "code",
   "execution_count": 19,
   "id": "35072ebc",
   "metadata": {},
   "outputs": [
    {
     "data": {
      "text/plain": [
       "(98, 60)"
      ]
     },
     "execution_count": 19,
     "metadata": {},
     "output_type": "execute_result"
    }
   ],
   "source": [
    "df2.shape"
   ]
  },
  {
   "cell_type": "code",
   "execution_count": 18,
   "id": "231c9989",
   "metadata": {
    "collapsed": true
   },
   "outputs": [
    {
     "data": {
      "text/plain": [
       "1\n",
       "Military Strength                          0\n",
       "Military Strength Power Index              0\n",
       "Aircraft Strength                          0\n",
       "Aircraft Strength value                    0\n",
       "Fighter/Interceptor Strength               0\n",
       "Fighter/Interceptor Strength value         0\n",
       "Attack Aircraft Strength                   0\n",
       "Attack Aircraft Strength value             0\n",
       "Transport Aircraft Fleet Strength          0\n",
       "Transport Aircraft Fleet Strength value    0\n",
       "Trainer Aircraft Fleet                     0\n",
       "Trainer Aircraft Fleet value               0\n",
       "Helicopter Fleet Strength                  0\n",
       "Helicopter Fleet Strength value            0\n",
       "Attack Helicopter Fleet Strength           0\n",
       "Attack Helicopter Fleet Strength value     0\n",
       "Tank Strength                              0\n",
       "Tank Strength value                        0\n",
       "AFV/APC Strength                           0\n",
       "AFV/APC Strength value                     0\n",
       "Self-Propelled Artillery Strength          0\n",
       "Self-Propelled Artillery Strength value    0\n",
       "Towed Artillery Strength                   0\n",
       "Towed Artillery Strength value             0\n",
       "Rocket Projector Strength                  0\n",
       "Rocket Projector Strength value            0\n",
       "Navy Fleet Strengths                       0\n",
       "Navy Fleet Strengths value                 0\n",
       "Aircraft Carrier Fleet Strength            0\n",
       "Aircraft Carrier Fleet Strength value      0\n",
       "Submarine Fleet Strength                   0\n",
       "Submarine Fleet Strength value             0\n",
       "Destroyer Fleet Strength                   0\n",
       "Destroyer Fleet Strength value             0\n",
       "Frigate Fleet Strength                     0\n",
       "Frigate Fleet Strength value               0\n",
       "defense spending budget                    0\n",
       "defense spending budget value              0\n",
       "External Debt                              0\n",
       "External Debt value                        0\n",
       "Airport Totals                             0\n",
       "Airport Totals value                       0\n",
       "Oil Production                             0\n",
       "Oil Production value                       0\n",
       "Oil Consumption                            0\n",
       "Oil Consumption value                      0\n",
       "Proven Oil Reserves                        0\n",
       "Proven Oil Reserves value                  0\n",
       "Available Manpower                         0\n",
       "Available Manpower value                   0\n",
       "Total Population                           0\n",
       "Total Population value                     0\n",
       "Total Square Land Area                     0\n",
       "Total Square Land Area value               0\n",
       "Total Coastline Coverage                   0\n",
       "Total Coastline Coverage value             0\n",
       "Total Waterway Coverage                    0\n",
       "Total Waterway Coverage value              0\n",
       "Total Border Coverage                      0\n",
       "Total Border Coverage value                0\n",
       "dtype: int64"
      ]
     },
     "execution_count": 18,
     "metadata": {},
     "output_type": "execute_result"
    }
   ],
   "source": [
    "df2.isnull().sum()"
   ]
  },
  {
   "cell_type": "code",
   "execution_count": 12,
   "id": "1f51ceb9",
   "metadata": {},
   "outputs": [
    {
     "data": {
      "text/plain": [
       "1\n",
       "Military Strength                           0\n",
       "Military Strength Power Index               0\n",
       "Aircraft Strength                           0\n",
       "Aircraft Strength value                     0\n",
       "Fighter/Interceptor Strength                0\n",
       "Fighter/Interceptor Strength value          0\n",
       "Attack Aircraft Strength                    0\n",
       "Attack Aircraft Strength value              0\n",
       "Transport Aircraft Fleet Strength           0\n",
       "Transport Aircraft Fleet Strength value     0\n",
       "Trainer Aircraft Fleet                      0\n",
       "Trainer Aircraft Fleet value                0\n",
       "Helicopter Fleet Strength                   0\n",
       "Helicopter Fleet Strength value             0\n",
       "Attack Helicopter Fleet Strength            0\n",
       "Attack Helicopter Fleet Strength value      0\n",
       "Tank Strength                               0\n",
       "Tank Strength value                         0\n",
       "AFV/APC Strength                            0\n",
       "AFV/APC Strength value                      0\n",
       "Self-Propelled Artillery Strength           0\n",
       "Self-Propelled Artillery Strength value     0\n",
       "Towed Artillery Strength                    0\n",
       "Towed Artillery Strength value              0\n",
       "Rocket Projector Strength                   0\n",
       "Rocket Projector Strength value             0\n",
       "Navy Fleet Strengths                       14\n",
       "Navy Fleet Strengths value                 14\n",
       "Aircraft Carrier Fleet Strength            23\n",
       "Aircraft Carrier Fleet Strength value      23\n",
       "Submarine Fleet Strength                   23\n",
       "Submarine Fleet Strength value             23\n",
       "Destroyer Fleet Strength                   23\n",
       "Destroyer Fleet Strength value             23\n",
       "Frigate Fleet Strength                     23\n",
       "Frigate Fleet Strength value               23\n",
       "defense spending budget                     0\n",
       "defense spending budget value               0\n",
       "External Debt                               0\n",
       "External Debt value                         0\n",
       "Airport Totals                              0\n",
       "Airport Totals value                        0\n",
       "Oil Production                              0\n",
       "Oil Production value                        0\n",
       "Oil Consumption                             0\n",
       "Oil Consumption value                       0\n",
       "Proven Oil Reserves                         0\n",
       "Proven Oil Reserves value                   0\n",
       "Available Manpower                          0\n",
       "Available Manpower value                    0\n",
       "Total Population                            0\n",
       "Total Population value                      0\n",
       "Total Square Land Area                      0\n",
       "Total Square Land Area value                0\n",
       "Total Coastline Coverage                   29\n",
       "Total Coastline Coverage value             29\n",
       "Total Waterway Coverage                     0\n",
       "Total Waterway Coverage value               0\n",
       "Total Border Coverage                       9\n",
       "Total Border Coverage value                 9\n",
       "dtype: int64"
      ]
     },
     "execution_count": 12,
     "metadata": {},
     "output_type": "execute_result"
    }
   ],
   "source": [
    "df.isnull().sum()"
   ]
  },
  {
   "cell_type": "code",
   "execution_count": 13,
   "id": "8fabf7e6",
   "metadata": {
    "collapsed": true
   },
   "outputs": [
    {
     "data": {
      "text/plain": [
       "Index(['Military Strength', 'Military Strength Power Index',\n",
       "       'Aircraft Strength', 'Aircraft Strength value',\n",
       "       'Fighter/Interceptor Strength', 'Fighter/Interceptor Strength value',\n",
       "       'Attack Aircraft Strength', 'Attack Aircraft Strength value',\n",
       "       'Transport Aircraft Fleet Strength',\n",
       "       'Transport Aircraft Fleet Strength value', 'Trainer Aircraft Fleet',\n",
       "       'Trainer Aircraft Fleet value', 'Helicopter Fleet Strength',\n",
       "       'Helicopter Fleet Strength value', 'Attack Helicopter Fleet Strength',\n",
       "       'Attack Helicopter Fleet Strength value', 'Tank Strength',\n",
       "       'Tank Strength value', 'AFV/APC Strength', 'AFV/APC Strength value',\n",
       "       'Self-Propelled Artillery Strength',\n",
       "       'Self-Propelled Artillery Strength value', 'Towed Artillery Strength',\n",
       "       'Towed Artillery Strength value', 'Rocket Projector Strength',\n",
       "       'Rocket Projector Strength value', 'Navy Fleet Strengths',\n",
       "       'Navy Fleet Strengths value', 'Aircraft Carrier Fleet Strength',\n",
       "       'Aircraft Carrier Fleet Strength value', 'Submarine Fleet Strength',\n",
       "       'Submarine Fleet Strength value', 'Destroyer Fleet Strength',\n",
       "       'Destroyer Fleet Strength value', 'Frigate Fleet Strength',\n",
       "       'Frigate Fleet Strength value', 'defense spending budget',\n",
       "       'defense spending budget value', 'External Debt', 'External Debt value',\n",
       "       'Airport Totals', 'Airport Totals value', 'Oil Production',\n",
       "       'Oil Production value', 'Oil Consumption', 'Oil Consumption value',\n",
       "       'Proven Oil Reserves', 'Proven Oil Reserves value',\n",
       "       'Available Manpower', 'Available Manpower value', 'Total Population',\n",
       "       'Total Population value', 'Total Square Land Area',\n",
       "       'Total Square Land Area value', 'Total Coastline Coverage',\n",
       "       'Total Coastline Coverage value', 'Total Waterway Coverage',\n",
       "       'Total Waterway Coverage value', 'Total Border Coverage',\n",
       "       'Total Border Coverage value'],\n",
       "      dtype='object', name=1)"
      ]
     },
     "execution_count": 13,
     "metadata": {},
     "output_type": "execute_result"
    }
   ],
   "source": [
    "df.columns"
   ]
  },
  {
   "cell_type": "code",
   "execution_count": 23,
   "id": "ee77171a",
   "metadata": {},
   "outputs": [],
   "source": []
  },
  {
   "cell_type": "code",
   "execution_count": 26,
   "id": "ee47ee3a",
   "metadata": {},
   "outputs": [],
   "source": [
    "df_dummies = pd.get_dummies(df2,drop_first=True)"
   ]
  },
  {
   "cell_type": "code",
   "execution_count": 118,
   "id": "eecf7f6a",
   "metadata": {},
   "outputs": [],
   "source": [
    "model = KMeans(n_clusters=3)"
   ]
  },
  {
   "cell_type": "code",
   "execution_count": 119,
   "id": "2a7cbc9c",
   "metadata": {},
   "outputs": [],
   "source": [
    "model = model.fit(df_dummies)"
   ]
  },
  {
   "cell_type": "code",
   "execution_count": 120,
   "id": "1bf96da9",
   "metadata": {},
   "outputs": [],
   "source": [
    "pred = model.predict(df_dummies)"
   ]
  },
  {
   "cell_type": "code",
   "execution_count": 121,
   "id": "d50f3822",
   "metadata": {},
   "outputs": [],
   "source": [
    "sonuc = pd.DataFrame(pred)"
   ]
  },
  {
   "cell_type": "code",
   "execution_count": 122,
   "id": "45280ec1",
   "metadata": {},
   "outputs": [
    {
     "data": {
      "text/plain": [
       "0.030566528848158143"
      ]
     },
     "execution_count": 122,
     "metadata": {},
     "output_type": "execute_result"
    }
   ],
   "source": [
    "silhouette_score(df_dummies,sonuc)"
   ]
  },
  {
   "cell_type": "code",
   "execution_count": 123,
   "id": "20bcd825",
   "metadata": {},
   "outputs": [],
   "source": [
    "def clust(clusters):\n",
    "    for no_of_cluster in np.arange(1,clusters):\n",
    "        no_of_cluster+=1\n",
    "        model = KMeans(n_clusters=no_of_cluster)\n",
    "        model = model.fit(x)\n",
    "        pred = model.predict(x)\n",
    "        score = silhouette_score(x,pred)\n",
    "        print(\"Number of cluster {}, silhouette {}\".format(no_of_cluster,score))"
   ]
  },
  {
   "cell_type": "code",
   "execution_count": 124,
   "id": "20127dee",
   "metadata": {},
   "outputs": [
    {
     "data": {
      "text/plain": [
       "array([0, 0, 0, 0, 0, 0, 0, 0, 0, 0, 0, 0, 0, 0, 0, 0, 0, 0, 0, 0, 0, 0,\n",
       "       0, 0, 0, 0, 0, 0, 0, 0, 0, 0, 0, 0, 0, 2, 0, 0, 0, 0, 0, 0, 0, 0,\n",
       "       0, 0, 0, 0, 0, 0, 0, 0, 0, 0, 0, 0, 0, 0, 0, 0, 0, 0, 0, 0, 0, 0,\n",
       "       0, 0, 0, 0, 0, 0, 0, 0, 0, 0, 0, 0, 0, 0, 0, 0, 0, 0, 0, 0, 0, 0,\n",
       "       0, 0, 0, 0, 1, 0, 0, 0, 0, 0], dtype=int32)"
      ]
     },
     "execution_count": 124,
     "metadata": {},
     "output_type": "execute_result"
    }
   ],
   "source": [
    "clust = df_dummies.assign(Cluster = model.labels_)\n",
    "model.cluster_centers_.astype(\"int\")\n",
    "model.labels_"
   ]
  },
  {
   "cell_type": "code",
   "execution_count": 125,
   "id": "3b80d241",
   "metadata": {},
   "outputs": [
    {
     "name": "stdout",
     "output_type": "stream",
     "text": [
      "Number of cluster 2, silhouette 0.03107680667496657\n",
      "Number of cluster 3, silhouette 0.017923455350395186\n"
     ]
    }
   ],
   "source": [
    "allscore=[]\n",
    "allclusters=[]\n",
    "sum_of_squared_distances=[]\n",
    "def clust(clusters):\n",
    "    for no_of_cluster in np.arange(1,clusters):\n",
    "        no_of_cluster+=1\n",
    "        model = KMeans(n_clusters = no_of_cluster)\n",
    "        pred = model.fit_predict(df_dummies)\n",
    "        sum_of_squared_distances.append(model.inertia_)\n",
    "        score = silhouette_score(df_dummies,pred)\n",
    "        print(\"Number of cluster {}, silhouette {}\".format(no_of_cluster,score))\n",
    "        allscore.append(score)\n",
    "        allclusters.append(no_of_cluster)\n",
    "clust(3)"
   ]
  },
  {
   "cell_type": "code",
   "execution_count": 126,
   "id": "80642aee",
   "metadata": {},
   "outputs": [
    {
     "data": {
      "image/png": "[encoded data removed]",
      "text/plain": [
       "<Figure size 432x288 with 1 Axes>"
      ]
     },
     "metadata": {
      "needs_background": "light"
     },
     "output_type": "display_data"
    }
   ],
   "source": [
    "plt.plot(allclusters,sum_of_squared_distances,marker=\"o\")\n",
    "plt.xlabel(\"k\")\n",
    "plt.ylabel(\"Distortion\")\n",
    "plt.title(\"The Elbow Method Showing Optimal K\")\n",
    "plt.show()"
   ]
  },
  {
   "cell_type": "code",
   "execution_count": null,
   "id": "183e7460",
   "metadata": {},
   "outputs": [],
   "source": []
  },
  {
   "cell_type": "code",
   "execution_count": null,
   "id": "e7433305",
   "metadata": {},
   "outputs": [],
   "source": []
  }
 ],
 "metadata": {
  "kernelspec": {
   "display_name": "Python 3 (ipykernel)",
   "language": "python",
   "name": "python3"
  },
  "language_info": {
   "codemirror_mode": {
    "name": "ipython",
    "version": 3
   },
   "file_extension": ".py",
   "mimetype": "text/x-python",
   "name": "python",
   "nbconvert_exporter": "python",
   "pygments_lexer": "ipython3",
   "version": "3.9.7"
  }
 },
 "nbformat": 4,
 "nbformat_minor": 5
}
