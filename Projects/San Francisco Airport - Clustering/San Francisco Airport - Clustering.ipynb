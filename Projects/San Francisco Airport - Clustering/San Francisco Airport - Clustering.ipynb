{
 "cells": [
  {
   "cell_type": "code",
   "execution_count": 1,
   "id": "681189de",
   "metadata": {},
   "outputs": [],
   "source": [
    "import pandas as pd\n",
    "from sklearn.cluster import KMeans\n",
    "from sklearn.metrics import silhouette_score\n",
    "import matplotlib.pyplot as plt\n",
    "import numpy as np\n",
    "import seaborn as sns\n",
    "%matplotlib inline\n",
    "import warnings\n",
    "warnings.filterwarnings(\"ignore\")\n"
   ]
  },
  {
   "cell_type": "code",
   "execution_count": 2,
   "id": "a7892573",
   "metadata": {},
   "outputs": [],
   "source": [
    "df = pd.read_csv(\"air-traffic-passenger-statistics.csv\")"
   ]
  },
  {
   "cell_type": "code",
   "execution_count": 3,
   "id": "a67d60fa",
   "metadata": {},
   "outputs": [
    {
     "data": {
      "text/html": [
       "<div>\n",
       "<style scoped>\n",
       "    .dataframe tbody tr th:only-of-type {\n",
       "        vertical-align: middle;\n",
       "    }\n",
       "\n",
       "    .dataframe tbody tr th {\n",
       "        vertical-align: top;\n",
       "    }\n",
       "\n",
       "    .dataframe thead th {\n",
       "        text-align: right;\n",
       "    }\n",
       "</style>\n",
       "<table border=\"1\" class=\"dataframe\">\n",
       "  <thead>\n",
       "    <tr style=\"text-align: right;\">\n",
       "      <th></th>\n",
       "      <th>Activity Period</th>\n",
       "      <th>Operating Airline</th>\n",
       "      <th>Operating Airline IATA Code</th>\n",
       "      <th>Published Airline</th>\n",
       "      <th>Published Airline IATA Code</th>\n",
       "      <th>GEO Summary</th>\n",
       "      <th>GEO Region</th>\n",
       "      <th>Activity Type Code</th>\n",
       "      <th>Price Category Code</th>\n",
       "      <th>Terminal</th>\n",
       "      <th>Boarding Area</th>\n",
       "      <th>Passenger Count</th>\n",
       "    </tr>\n",
       "  </thead>\n",
       "  <tbody>\n",
       "    <tr>\n",
       "      <th>13496</th>\n",
       "      <td>201503</td>\n",
       "      <td>Sun Country Airlines</td>\n",
       "      <td>SY</td>\n",
       "      <td>Sun Country Airlines</td>\n",
       "      <td>SY</td>\n",
       "      <td>International</td>\n",
       "      <td>Mexico</td>\n",
       "      <td>Deplaned</td>\n",
       "      <td>Low Fare</td>\n",
       "      <td>International</td>\n",
       "      <td>A</td>\n",
       "      <td>315</td>\n",
       "    </tr>\n",
       "    <tr>\n",
       "      <th>5809</th>\n",
       "      <td>200908</td>\n",
       "      <td>US Airways</td>\n",
       "      <td>US</td>\n",
       "      <td>US Airways</td>\n",
       "      <td>US</td>\n",
       "      <td>Domestic</td>\n",
       "      <td>US</td>\n",
       "      <td>Enplaned</td>\n",
       "      <td>Other</td>\n",
       "      <td>Terminal 1</td>\n",
       "      <td>B</td>\n",
       "      <td>78332</td>\n",
       "    </tr>\n",
       "    <tr>\n",
       "      <th>12014</th>\n",
       "      <td>201402</td>\n",
       "      <td>United Airlines</td>\n",
       "      <td>UA</td>\n",
       "      <td>United Airlines</td>\n",
       "      <td>UA</td>\n",
       "      <td>Domestic</td>\n",
       "      <td>US</td>\n",
       "      <td>Enplaned</td>\n",
       "      <td>Other</td>\n",
       "      <td>International</td>\n",
       "      <td>G</td>\n",
       "      <td>19822</td>\n",
       "    </tr>\n",
       "    <tr>\n",
       "      <th>2497</th>\n",
       "      <td>200704</td>\n",
       "      <td>United Airlines - Pre 07/01/2013</td>\n",
       "      <td>UA</td>\n",
       "      <td>United Airlines - Pre 07/01/2013</td>\n",
       "      <td>UA</td>\n",
       "      <td>Domestic</td>\n",
       "      <td>US</td>\n",
       "      <td>Deplaned</td>\n",
       "      <td>Other</td>\n",
       "      <td>Terminal 3</td>\n",
       "      <td>F</td>\n",
       "      <td>369304</td>\n",
       "    </tr>\n",
       "    <tr>\n",
       "      <th>6351</th>\n",
       "      <td>201001</td>\n",
       "      <td>Mesaba Airlines</td>\n",
       "      <td>XJ</td>\n",
       "      <td>Delta Air Lines</td>\n",
       "      <td>DL</td>\n",
       "      <td>Domestic</td>\n",
       "      <td>US</td>\n",
       "      <td>Deplaned</td>\n",
       "      <td>Other</td>\n",
       "      <td>Terminal 1</td>\n",
       "      <td>C</td>\n",
       "      <td>1513</td>\n",
       "    </tr>\n",
       "    <tr>\n",
       "      <th>16025</th>\n",
       "      <td>201611</td>\n",
       "      <td>Lufthansa German Airlines</td>\n",
       "      <td>LH</td>\n",
       "      <td>Lufthansa German Airlines</td>\n",
       "      <td>LH</td>\n",
       "      <td>International</td>\n",
       "      <td>Europe</td>\n",
       "      <td>Deplaned</td>\n",
       "      <td>Other</td>\n",
       "      <td>International</td>\n",
       "      <td>G</td>\n",
       "      <td>17784</td>\n",
       "    </tr>\n",
       "    <tr>\n",
       "      <th>2979</th>\n",
       "      <td>200708</td>\n",
       "      <td>United Airlines - Pre 07/01/2013</td>\n",
       "      <td>UA</td>\n",
       "      <td>United Airlines - Pre 07/01/2013</td>\n",
       "      <td>UA</td>\n",
       "      <td>International</td>\n",
       "      <td>Canada</td>\n",
       "      <td>Deplaned</td>\n",
       "      <td>Other</td>\n",
       "      <td>Terminal 3</td>\n",
       "      <td>F</td>\n",
       "      <td>18769</td>\n",
       "    </tr>\n",
       "    <tr>\n",
       "      <th>8721</th>\n",
       "      <td>201109</td>\n",
       "      <td>United Airlines - Pre 07/01/2013</td>\n",
       "      <td>UA</td>\n",
       "      <td>United Airlines - Pre 07/01/2013</td>\n",
       "      <td>UA</td>\n",
       "      <td>International</td>\n",
       "      <td>Mexico</td>\n",
       "      <td>Enplaned</td>\n",
       "      <td>Other</td>\n",
       "      <td>International</td>\n",
       "      <td>G</td>\n",
       "      <td>5440</td>\n",
       "    </tr>\n",
       "    <tr>\n",
       "      <th>14644</th>\n",
       "      <td>201601</td>\n",
       "      <td>Air France</td>\n",
       "      <td>AF</td>\n",
       "      <td>Air France</td>\n",
       "      <td>AF</td>\n",
       "      <td>International</td>\n",
       "      <td>Europe</td>\n",
       "      <td>Deplaned</td>\n",
       "      <td>Other</td>\n",
       "      <td>International</td>\n",
       "      <td>A</td>\n",
       "      <td>9447</td>\n",
       "    </tr>\n",
       "    <tr>\n",
       "      <th>0</th>\n",
       "      <td>200507</td>\n",
       "      <td>ATA Airlines</td>\n",
       "      <td>TZ</td>\n",
       "      <td>ATA Airlines</td>\n",
       "      <td>TZ</td>\n",
       "      <td>Domestic</td>\n",
       "      <td>US</td>\n",
       "      <td>Deplaned</td>\n",
       "      <td>Low Fare</td>\n",
       "      <td>Terminal 1</td>\n",
       "      <td>B</td>\n",
       "      <td>27271</td>\n",
       "    </tr>\n",
       "  </tbody>\n",
       "</table>\n",
       "</div>"
      ],
      "text/plain": [
       "       Activity Period                 Operating Airline  \\\n",
       "13496           201503              Sun Country Airlines   \n",
       "5809            200908                        US Airways   \n",
       "12014           201402                   United Airlines   \n",
       "2497            200704  United Airlines - Pre 07/01/2013   \n",
       "6351            201001                   Mesaba Airlines   \n",
       "16025           201611         Lufthansa German Airlines   \n",
       "2979            200708  United Airlines - Pre 07/01/2013   \n",
       "8721            201109  United Airlines - Pre 07/01/2013   \n",
       "14644           201601                        Air France   \n",
       "0               200507                      ATA Airlines   \n",
       "\n",
       "      Operating Airline IATA Code                 Published Airline  \\\n",
       "13496                          SY              Sun Country Airlines   \n",
       "5809                           US                        US Airways   \n",
       "12014                          UA                   United Airlines   \n",
       "2497                           UA  United Airlines - Pre 07/01/2013   \n",
       "6351                           XJ                   Delta Air Lines   \n",
       "16025                          LH         Lufthansa German Airlines   \n",
       "2979                           UA  United Airlines - Pre 07/01/2013   \n",
       "8721                           UA  United Airlines - Pre 07/01/2013   \n",
       "14644                          AF                        Air France   \n",
       "0                              TZ                      ATA Airlines   \n",
       "\n",
       "      Published Airline IATA Code    GEO Summary GEO Region  \\\n",
       "13496                          SY  International     Mexico   \n",
       "5809                           US       Domestic         US   \n",
       "12014                          UA       Domestic         US   \n",
       "2497                           UA       Domestic         US   \n",
       "6351                           DL       Domestic         US   \n",
       "16025                          LH  International     Europe   \n",
       "2979                           UA  International     Canada   \n",
       "8721                           UA  International     Mexico   \n",
       "14644                          AF  International     Europe   \n",
       "0                              TZ       Domestic         US   \n",
       "\n",
       "      Activity Type Code Price Category Code       Terminal Boarding Area  \\\n",
       "13496           Deplaned            Low Fare  International             A   \n",
       "5809            Enplaned               Other     Terminal 1             B   \n",
       "12014           Enplaned               Other  International             G   \n",
       "2497            Deplaned               Other     Terminal 3             F   \n",
       "6351            Deplaned               Other     Terminal 1             C   \n",
       "16025           Deplaned               Other  International             G   \n",
       "2979            Deplaned               Other     Terminal 3             F   \n",
       "8721            Enplaned               Other  International             G   \n",
       "14644           Deplaned               Other  International             A   \n",
       "0               Deplaned            Low Fare     Terminal 1             B   \n",
       "\n",
       "       Passenger Count  \n",
       "13496              315  \n",
       "5809             78332  \n",
       "12014            19822  \n",
       "2497            369304  \n",
       "6351              1513  \n",
       "16025            17784  \n",
       "2979             18769  \n",
       "8721              5440  \n",
       "14644             9447  \n",
       "0                27271  "
      ]
     },
     "execution_count": 3,
     "metadata": {},
     "output_type": "execute_result"
    }
   ],
   "source": [
    "df.sample(10)"
   ]
  },
  {
   "cell_type": "code",
   "execution_count": 69,
   "id": "262447b9",
   "metadata": {},
   "outputs": [
    {
     "data": {
      "image/png": "[encoded data removed]",
      "text/plain": [
       "<Figure size 1080x1080 with 1 Axes>"
      ]
     },
     "metadata": {
      "needs_background": "light"
     },
     "output_type": "display_data"
    }
   ],
   "source": [
    "plt.figure(figsize=(15,15))\n",
    "sns.countplot(x=\"Operating Airline\",palette=\"Set1\",data=df)\n",
    "plt.xticks(rotation=90)\n",
    "plt.ylabel(\"deneme\")\n",
    "plt.show()"
   ]
  },
  {
   "cell_type": "code",
   "execution_count": 70,
   "id": "0a0f70d0",
   "metadata": {},
   "outputs": [
    {
     "data": {
      "image/png": "[encoded data removed]",
      "text/plain": [
       "<Figure size 1080x1080 with 1 Axes>"
      ]
     },
     "metadata": {
      "needs_background": "light"
     },
     "output_type": "display_data"
    }
   ],
   "source": [
    "plt.figure(figsize=(15,15))\n",
    "sns.countplot(x=\"GEO Region\",data=df)\n",
    "plt.xticks(rotation=90)\n",
    "plt.show()"
   ]
  },
  {
   "cell_type": "code",
   "execution_count": 76,
   "id": "43153be4",
   "metadata": {},
   "outputs": [],
   "source": [
    "airline_count = df[\"Operating Airline\"].value_counts().sort_index()"
   ]
  },
  {
   "cell_type": "code",
   "execution_count": 75,
   "id": "4a38ecaa",
   "metadata": {},
   "outputs": [],
   "source": [
    "passenger_count = df.groupby(\"Operating Airline\").sum()[\"Passenger Count\"]"
   ]
  },
  {
   "cell_type": "code",
   "execution_count": 15,
   "id": "a42d2a93",
   "metadata": {},
   "outputs": [
    {
     "data": {
      "text/plain": [
       "Activity Period                 0\n",
       "Operating Airline               0\n",
       "Operating Airline IATA Code    63\n",
       "Published Airline               0\n",
       "Published Airline IATA Code    63\n",
       "GEO Summary                     0\n",
       "GEO Region                      0\n",
       "Activity Type Code              0\n",
       "Price Category Code             0\n",
       "Terminal                        0\n",
       "Boarding Area                   0\n",
       "Passenger Count                 0\n",
       "dtype: int64"
      ]
     },
     "execution_count": 15,
     "metadata": {},
     "output_type": "execute_result"
    }
   ],
   "source": [
    "df.isnull().sum()"
   ]
  },
  {
   "cell_type": "code",
   "execution_count": 16,
   "id": "ec88ef81",
   "metadata": {},
   "outputs": [
    {
     "data": {
      "text/plain": [
       "UA    3807\n",
       "OO    1212\n",
       "AS     891\n",
       "VX     462\n",
       "DL     445\n",
       "      ... \n",
       "IB       6\n",
       "WO       3\n",
       "XP       2\n",
       "5Y       2\n",
       "EZ       2\n",
       "Name: Operating Airline IATA Code, Length: 82, dtype: int64"
      ]
     },
     "execution_count": 16,
     "metadata": {},
     "output_type": "execute_result"
    }
   ],
   "source": [
    "df[\"Operating Airline IATA Code\"].value_counts()"
   ]
  },
  {
   "cell_type": "code",
   "execution_count": 17,
   "id": "5c4f83aa",
   "metadata": {},
   "outputs": [],
   "source": [
    "df[\"Operating Airline IATA Code\"].fillna(\"UA\",inplace=True)"
   ]
  },
  {
   "cell_type": "code",
   "execution_count": 18,
   "id": "baa00f0c",
   "metadata": {},
   "outputs": [
    {
     "data": {
      "text/plain": [
       "UA     4649\n",
       "AS     1203\n",
       "DL      975\n",
       "AA      588\n",
       "AC      484\n",
       "       ... \n",
       "BBB       6\n",
       "WO        3\n",
       "EZ        2\n",
       "XP        2\n",
       "5Y        2\n",
       "Name: Published Airline IATA Code, Length: 73, dtype: int64"
      ]
     },
     "execution_count": 18,
     "metadata": {},
     "output_type": "execute_result"
    }
   ],
   "source": [
    "df[\"Published Airline IATA Code\"].value_counts()"
   ]
  },
  {
   "cell_type": "code",
   "execution_count": 21,
   "id": "7bfe1024",
   "metadata": {},
   "outputs": [],
   "source": [
    "df[\"Published Airline IATA Code\"].fillna(\"UA\",inplace=True)"
   ]
  },
  {
   "cell_type": "code",
   "execution_count": 22,
   "id": "fab73ba9",
   "metadata": {},
   "outputs": [
    {
     "data": {
      "text/plain": [
       "Activity Period                0\n",
       "Operating Airline              0\n",
       "Operating Airline IATA Code    0\n",
       "Published Airline              0\n",
       "Published Airline IATA Code    0\n",
       "GEO Summary                    0\n",
       "GEO Region                     0\n",
       "Activity Type Code             0\n",
       "Price Category Code            0\n",
       "Terminal                       0\n",
       "Boarding Area                  0\n",
       "Passenger Count                0\n",
       "dtype: int64"
      ]
     },
     "execution_count": 22,
     "metadata": {},
     "output_type": "execute_result"
    }
   ],
   "source": [
    "df.isnull().sum()"
   ]
  },
  {
   "cell_type": "code",
   "execution_count": 10,
   "id": "d63bc6c2",
   "metadata": {
    "scrolled": true
   },
   "outputs": [
    {
     "name": "stdout",
     "output_type": "stream",
     "text": [
      "<class 'pandas.core.frame.DataFrame'>\n",
      "RangeIndex: 18885 entries, 0 to 18884\n",
      "Data columns (total 12 columns):\n",
      " #   Column                       Non-Null Count  Dtype \n",
      "---  ------                       --------------  ----- \n",
      " 0   Activity Period              18885 non-null  int64 \n",
      " 1   Operating Airline            18885 non-null  object\n",
      " 2   Operating Airline IATA Code  18885 non-null  object\n",
      " 3   Published Airline            18885 non-null  object\n",
      " 4   Published Airline IATA Code  18885 non-null  object\n",
      " 5   GEO Summary                  18885 non-null  object\n",
      " 6   GEO Region                   18885 non-null  object\n",
      " 7   Activity Type Code           18885 non-null  object\n",
      " 8   Price Category Code          18885 non-null  object\n",
      " 9   Terminal                     18885 non-null  object\n",
      " 10  Boarding Area                18885 non-null  object\n",
      " 11  Passenger Count              18885 non-null  int64 \n",
      "dtypes: int64(2), object(10)\n",
      "memory usage: 1.7+ MB\n"
     ]
    }
   ],
   "source": [
    "df.info()"
   ]
  },
  {
   "cell_type": "code",
   "execution_count": 30,
   "id": "44b2b960",
   "metadata": {},
   "outputs": [
    {
     "data": {
      "text/plain": [
       "Enplaned          8930\n",
       "Deplaned          8909\n",
       "Thru / Transit    1046\n",
       "Name: Activity Type Code, dtype: int64"
      ]
     },
     "execution_count": 30,
     "metadata": {},
     "output_type": "execute_result"
    }
   ],
   "source": [
    "df[\"Activity Type Code\"].value_counts()"
   ]
  },
  {
   "cell_type": "code",
   "execution_count": 27,
   "id": "ebace3a6",
   "metadata": {},
   "outputs": [
    {
     "data": {
      "text/plain": [
       "79"
      ]
     },
     "execution_count": 27,
     "metadata": {},
     "output_type": "execute_result"
    }
   ],
   "source": [
    "df[\"Published Airline\"].nunique()"
   ]
  },
  {
   "cell_type": "code",
   "execution_count": 31,
   "id": "5e509c4a",
   "metadata": {},
   "outputs": [],
   "source": [
    "df_dummies = pd.get_dummies(df,drop_first=True)"
   ]
  },
  {
   "cell_type": "code",
   "execution_count": 32,
   "id": "89a25c57",
   "metadata": {},
   "outputs": [],
   "source": [
    "model = KMeans(n_clusters=4)"
   ]
  },
  {
   "cell_type": "code",
   "execution_count": 33,
   "id": "e465ba44",
   "metadata": {},
   "outputs": [],
   "source": [
    "model = model.fit(df_dummies)"
   ]
  },
  {
   "cell_type": "code",
   "execution_count": 34,
   "id": "d61ed4ae",
   "metadata": {},
   "outputs": [],
   "source": [
    "pred = model.predict(df_dummies)"
   ]
  },
  {
   "cell_type": "code",
   "execution_count": 38,
   "id": "d0f2b4de",
   "metadata": {},
   "outputs": [
    {
     "data": {
      "text/plain": [
       "array([0, 0, 0, ..., 0, 0, 0], dtype=int32)"
      ]
     },
     "execution_count": 38,
     "metadata": {},
     "output_type": "execute_result"
    }
   ],
   "source": [
    "pred"
   ]
  },
  {
   "cell_type": "code",
   "execution_count": 39,
   "id": "c537628c",
   "metadata": {},
   "outputs": [],
   "source": [
    "sonuc = pd.DataFrame(pred)"
   ]
  },
  {
   "cell_type": "code",
   "execution_count": 41,
   "id": "3c391ce7",
   "metadata": {},
   "outputs": [
    {
     "data": {
      "text/plain": [
       "0    15349\n",
       "3     2007\n",
       "2     1138\n",
       "1      391\n",
       "dtype: int64"
      ]
     },
     "execution_count": 41,
     "metadata": {},
     "output_type": "execute_result"
    }
   ],
   "source": [
    "sonuc.value_counts()"
   ]
  },
  {
   "cell_type": "code",
   "execution_count": 42,
   "id": "baa4ee1f",
   "metadata": {},
   "outputs": [
    {
     "data": {
      "text/plain": [
       "0.7852585144912243"
      ]
     },
     "execution_count": 42,
     "metadata": {},
     "output_type": "execute_result"
    }
   ],
   "source": [
    "silhouette_score(df_dummies,sonuc)"
   ]
  },
  {
   "cell_type": "code",
   "execution_count": 43,
   "id": "ea821c27",
   "metadata": {},
   "outputs": [],
   "source": [
    "def clust(clusters):\n",
    "    for no_of_cluster in np.arange(1,clusters):\n",
    "        no_of_cluster+=1\n",
    "        model = KMeans(n_clusters=no_of_cluster)\n",
    "        model = model.fit(x)\n",
    "        pred = model.predict(x)\n",
    "        score = silhouette_score(x,pred)\n",
    "        print(\"Number of cluster {}, silhouette {}\".format(no_of_cluster,score))"
   ]
  },
  {
   "cell_type": "code",
   "execution_count": 44,
   "id": "dada14ff",
   "metadata": {},
   "outputs": [
    {
     "data": {
      "text/plain": [
       "array([0, 0, 0, ..., 0, 0, 0], dtype=int32)"
      ]
     },
     "execution_count": 44,
     "metadata": {},
     "output_type": "execute_result"
    }
   ],
   "source": [
    "clust = df_dummies.assign(Cluster = model.labels_)\n",
    "model.cluster_centers_.astype(\"int\")\n",
    "model.labels_"
   ]
  },
  {
   "cell_type": "code",
   "execution_count": 78,
   "id": "61917e24",
   "metadata": {},
   "outputs": [
    {
     "name": "stderr",
     "output_type": "stream",
     "text": [
      "No handles with labels found to put in legend.\n"
     ]
    },
    {
     "data": {
      "image/png": "[encoded data removed]",
      "text/plain": [
       "<Figure size 720x432 with 2 Axes>"
      ]
     },
     "metadata": {
      "needs_background": "light"
     },
     "output_type": "display_data"
    }
   ],
   "source": [
    "plt.figure(figsize=(10,6))\n",
    "plt.scatter(df[\"Passenger Count\"],df[\"Activity Period\"],c=sonuc)\n",
    "plt.legend()\n",
    "plt.colorbar()\n",
    "plt.show()"
   ]
  },
  {
   "cell_type": "code",
   "execution_count": 49,
   "id": "6972bd6f",
   "metadata": {},
   "outputs": [
    {
     "name": "stdout",
     "output_type": "stream",
     "text": [
      "Number of cluster 2, silhouette 0.8594457249743398\n",
      "Number of cluster 3, silhouette 0.8281862100920712\n",
      "Number of cluster 4, silhouette 0.7852585144912243\n",
      "Number of cluster 5, silhouette 0.7837146504151541\n",
      "Number of cluster 6, silhouette 0.6584181547982849\n",
      "Number of cluster 7, silhouette 0.6589522242051296\n",
      "Number of cluster 8, silhouette 0.6428578351061881\n",
      "Number of cluster 9, silhouette 0.6362975230567085\n"
     ]
    }
   ],
   "source": [
    "allscore=[]\n",
    "allclusters=[]\n",
    "sum_of_squared_distances=[]\n",
    "def clust(clusters):\n",
    "    for no_of_cluster in np.arange(1,clusters):\n",
    "        no_of_cluster+=1\n",
    "        model = KMeans(n_clusters = no_of_cluster)\n",
    "        pred = model.fit_predict(df_dummies)\n",
    "        sum_of_squared_distances.append(model.inertia_)\n",
    "        score = silhouette_score(df_dummies,pred)\n",
    "        print(\"Number of cluster {}, silhouette {}\".format(no_of_cluster,score))\n",
    "        allscore.append(score)\n",
    "        allclusters.append(no_of_cluster)\n",
    "clust(9)"
   ]
  },
  {
   "cell_type": "code",
   "execution_count": 58,
   "id": "fd294a01",
   "metadata": {},
   "outputs": [
    {
     "data": {
      "image/png": "[encoded data removed]",
      "text/plain": [
       "<Figure size 432x288 with 1 Axes>"
      ]
     },
     "metadata": {
      "needs_background": "light"
     },
     "output_type": "display_data"
    }
   ],
   "source": [
    "plt.plot(allclusters,sum_of_squared_distances,marker=\"o\")\n",
    "plt.xlabel(\"k\")\n",
    "plt.ylabel(\"Distortion\")\n",
    "plt.title(\"The Elbow Method Showing Optimal K\")\n",
    "plt.show()"
   ]
  },
  {
   "cell_type": "markdown",
   "id": "5c392c0a",
   "metadata": {},
   "source": []
  }
 ],
 "metadata": {
  "kernelspec": {
   "display_name": "Python 3 (ipykernel)",
   "language": "python",
   "name": "python3"
  },
  "language_info": {
   "codemirror_mode": {
    "name": "ipython",
    "version": 3
   },
   "file_extension": ".py",
   "mimetype": "text/x-python",
   "name": "python",
   "nbconvert_exporter": "python",
   "pygments_lexer": "ipython3",
   "version": "3.9.7"
  }
 },
 "nbformat": 4,
 "nbformat_minor": 5
}
