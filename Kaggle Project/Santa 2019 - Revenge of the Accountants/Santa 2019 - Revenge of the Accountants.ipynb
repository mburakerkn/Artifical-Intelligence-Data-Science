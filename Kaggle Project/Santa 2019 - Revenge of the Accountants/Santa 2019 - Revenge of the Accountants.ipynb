{
 "cells": [
  {
   "cell_type": "markdown",
   "id": "fa5ec98c",
   "metadata": {},
   "source": [
    "# Santa 2019 - Revenge of the Accountants"
   ]
  },
  {
   "cell_type": "code",
   "execution_count": 5,
   "id": "06fd3947",
   "metadata": {},
   "outputs": [
    {
     "name": "stderr",
     "output_type": "stream",
     "text": [
      "/opt/anaconda3/lib/python3.9/site-packages/xgboost/compat.py:36: FutureWarning: pandas.Int64Index is deprecated and will be removed from pandas in a future version. Use pandas.Index with the appropriate dtype instead.\n",
      "  from pandas import MultiIndex, Int64Index\n"
     ]
    }
   ],
   "source": [
    "import pandas as pd\n",
    "import numpy as np\n",
    "from sklearn.model_selection import train_test_split\n",
    "from xgboost import XGBRegressor\n",
    "from sklearn import metrics\n",
    "from sklearn.metrics import mean_squared_error\n",
    "from math import sqrt"
   ]
  },
  {
   "cell_type": "code",
   "execution_count": 1,
   "id": "ca0aea2a",
   "metadata": {},
   "outputs": [],
   "source": [
    "family = pd.read_csv(\"family_data.csv\",encoding='ISO-8859-1')\n",
    "\n",
    "sample = pd.read_csv(\"sample_submission.csv\",encoding='ISO-8859-1')\n",
    "\n",
    "data = pd.merge(family,sample,on='family_id',how='inner')\n",
    "\n",
    "x = data.iloc[:,5:11]\n",
    "y = data.loc[:,['assigned_day']]"
   ]
  },
  {
   "cell_type": "code",
   "execution_count": 2,
   "id": "69e1252a",
   "metadata": {},
   "outputs": [],
   "source": [
    "data = pd.merge(family,sample,on='family_id',how='inner')\n",
    "a = data.n_people.min()\n",
    "ag = data.groupby('n_people')['family_id'].count().sort_values(ascending=True)"
   ]
  },
  {
   "cell_type": "code",
   "execution_count": 4,
   "id": "d008955e",
   "metadata": {},
   "outputs": [],
   "source": [
    "x_train,x_test,y_train,y_test = train_test_split(x,y,test_size=.2,random_state=42)"
   ]
  },
  {
   "cell_type": "code",
   "execution_count": 7,
   "id": "e05e9b24",
   "metadata": {},
   "outputs": [
    {
     "name": "stdout",
     "output_type": "stream",
     "text": [
      "RMSE is:-\n",
      "Root Mean Squared Error(RMSE): 29.518330199176987\n"
     ]
    }
   ],
   "source": [
    "model = XGBRegressor(n_estimators=10, random_state=50, max_depth=5)\n",
    "\n",
    "model.fit(x_train, y_train)\n",
    "pred=model.predict(x_test)\n",
    "pred\n",
    "\n",
    "\n",
    "print(\"RMSE is:-\")\n",
    "\n",
    "\n",
    "print('Root Mean Squared Error(RMSE):', np.sqrt(metrics.mean_squared_error(y_test, pred)))"
   ]
  },
  {
   "cell_type": "code",
   "execution_count": null,
   "id": "13c69917",
   "metadata": {},
   "outputs": [],
   "source": []
  }
 ],
 "metadata": {
  "kernelspec": {
   "display_name": "Python 3 (ipykernel)",
   "language": "python",
   "name": "python3"
  },
  "language_info": {
   "codemirror_mode": {
    "name": "ipython",
    "version": 3
   },
   "file_extension": ".py",
   "mimetype": "text/x-python",
   "name": "python",
   "nbconvert_exporter": "python",
   "pygments_lexer": "ipython3",
   "version": "3.9.7"
  }
 },
 "nbformat": 4,
 "nbformat_minor": 5
}
