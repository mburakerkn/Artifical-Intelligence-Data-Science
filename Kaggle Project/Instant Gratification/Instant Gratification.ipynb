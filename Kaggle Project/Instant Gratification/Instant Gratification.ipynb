{
 "cells": [
  {
   "cell_type": "markdown",
   "id": "dddbc950",
   "metadata": {},
   "source": [
    "# Instant Gratification\n"
   ]
  },
  {
   "cell_type": "code",
   "execution_count": 1,
   "id": "04aaaaef",
   "metadata": {},
   "outputs": [],
   "source": [
    "import numpy as np # linear algebra\n",
    "import pandas as pd # data processing, CSV file I/O (e.g. pd.read_csv)\n",
    "import os\n",
    "import matplotlib.pyplot as plt\n",
    "import warnings\n",
    "\n",
    "from keras.models import Sequential\n",
    "from keras.layers import Dense, Dropout\n",
    "from keras.optimizers import RMSprop, Adam\n",
    "\n",
    "from keras.utils import to_categorical\n",
    "\n",
    "from sklearn.metrics import roc_curve, auc\n",
    "\n",
    "%matplotlib inline\n",
    "warnings.filterwarnings('ignore')\n",
    "plt.style.use('seaborn')\n",
    "\n"
   ]
  },
  {
   "cell_type": "code",
   "execution_count": 3,
   "id": "3745d471",
   "metadata": {},
   "outputs": [],
   "source": [
    "df = pd.read_csv('train.csv')"
   ]
  },
  {
   "cell_type": "code",
   "execution_count": 5,
   "id": "d2fd6893",
   "metadata": {},
   "outputs": [],
   "source": [
    "features = df.iloc[:,1:257]\n",
    "labels = df.iloc[:,257]"
   ]
  },
  {
   "cell_type": "code",
   "execution_count": 6,
   "id": "d2aebb15",
   "metadata": {},
   "outputs": [],
   "source": [
    "\n",
    "size = 262144\n",
    "\n",
    "x = np.array(features.iloc[:size,:])\n",
    "y = np.array(labels.iloc[:size])\n",
    "\n",
    "x = x.astype('float')\n",
    "\n",
    "x -= x.mean(axis=0)\n",
    "x /= x.std(axis=0)\n",
    "\n",
    "y = to_categorical(y)"
   ]
  },
  {
   "cell_type": "code",
   "execution_count": 8,
   "id": "e6454f6c",
   "metadata": {},
   "outputs": [],
   "source": [
    "from sklearn.model_selection import train_test_split\n",
    "\n",
    "x_train,x_test,y_train,y_test = train_test_split(x,y,test_size = .2, random_state = 42)\n"
   ]
  },
  {
   "cell_type": "code",
   "execution_count": 9,
   "id": "a8fe4de2",
   "metadata": {},
   "outputs": [],
   "source": [
    "num_classes = 2\n",
    "epocas = 20\n",
    "lote = 32\n",
    "taxa_aprendizado = 0.001"
   ]
  },
  {
   "cell_type": "code",
   "execution_count": 13,
   "id": "9b2c0ef2",
   "metadata": {},
   "outputs": [],
   "source": [
    "\n",
    "model = Sequential()\n",
    "model.add(Dense(16, activation='relu'))\n",
    "model.add(Dropout(0.2))\n",
    "model.add(Dense(16, activation='relu'))\n",
    "model.add(Dropout(0.2))\n",
    "model.add(Dense(num_classes, activation='sigmoid'))\n",
    "\n",
    "model.compile(optimizer='adam',\n",
    "                  loss='binary_crossentropy',\n",
    "                  metrics=['accuracy'])"
   ]
  },
  {
   "cell_type": "code",
   "execution_count": 14,
   "id": "8e5245b9",
   "metadata": {},
   "outputs": [
    {
     "name": "stdout",
     "output_type": "stream",
     "text": [
      "1639/1639 [==============================] - 2s 1ms/step\n"
     ]
    },
    {
     "data": {
      "text/plain": [
       "array([[0.36183974, 0.3515319 ],\n",
       "       [0.6591359 , 0.18965268],\n",
       "       [0.54535145, 0.13188261],\n",
       "       ...,\n",
       "       [0.38321993, 0.39284354],\n",
       "       [0.27261746, 0.12277586],\n",
       "       [0.59501934, 0.48450395]], dtype=float32)"
      ]
     },
     "execution_count": 14,
     "metadata": {},
     "output_type": "execute_result"
    }
   ],
   "source": [
    "model.predict(x_test)"
   ]
  },
  {
   "cell_type": "code",
   "execution_count": null,
   "id": "899de787",
   "metadata": {},
   "outputs": [],
   "source": []
  }
 ],
 "metadata": {
  "kernelspec": {
   "display_name": "Python 3 (ipykernel)",
   "language": "python",
   "name": "python3"
  },
  "language_info": {
   "codemirror_mode": {
    "name": "ipython",
    "version": 3
   },
   "file_extension": ".py",
   "mimetype": "text/x-python",
   "name": "python",
   "nbconvert_exporter": "python",
   "pygments_lexer": "ipython3",
   "version": "3.9.7"
  }
 },
 "nbformat": 4,
 "nbformat_minor": 5
}
