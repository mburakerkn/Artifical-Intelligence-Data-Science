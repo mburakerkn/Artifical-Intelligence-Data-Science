{
 "cells": [
  {
   "cell_type": "code",
   "execution_count": 1,
   "id": "bae6a32a",
   "metadata": {},
   "outputs": [],
   "source": [
    "import pandas as pd\n",
    "import numpy as np\n",
    "import matplotlib.pyplot as plt"
   ]
  },
  {
   "cell_type": "code",
   "execution_count": null,
   "id": "b78cbbc3",
   "metadata": {},
   "outputs": [],
   "source": [
    "df = pd.read_csv('train.csv')\n",
    "df.head()"
   ]
  },
  {
   "cell_type": "code",
   "execution_count": null,
   "id": "a6ace9ab",
   "metadata": {},
   "outputs": [],
   "source": [
    "df.columns[df.isnull().sum() > 0]"
   ]
  },
  {
   "cell_type": "code",
   "execution_count": null,
   "id": "29c11ea0",
   "metadata": {},
   "outputs": [],
   "source": [
    "df.fillna(method='bfill', inplace=True)\n",
    "df.fillna(method='ffill', inplace=True)"
   ]
  },
  {
   "cell_type": "code",
   "execution_count": null,
   "id": "717b4389",
   "metadata": {},
   "outputs": [],
   "source": [
    "Numeric_columns = df.select_dtypes(include=np.number).columns.tolist()\n",
    "Categorical_columns = set(df.columns).difference(set(Numeric_columns))\n",
    "print(Categorical_columns)"
   ]
  },
  {
   "cell_type": "code",
   "execution_count": null,
   "id": "2054e9a9",
   "metadata": {},
   "outputs": [],
   "source": [
    "see = df[Categorical_columns]\n",
    "see.head()"
   ]
  },
  {
   "cell_type": "code",
   "execution_count": null,
   "id": "72f71463",
   "metadata": {},
   "outputs": [],
   "source": [
    "df['edjefe'] = df['edjefe'].replace({'no': 0, 'yes': 1}).astype(float)\n",
    "df['edjefa'] = df['edjefa'].replace({'no': 0, 'yes': 1}).astype(float)"
   ]
  },
  {
   "cell_type": "code",
   "execution_count": null,
   "id": "4e385eae",
   "metadata": {},
   "outputs": [],
   "source": [
    "df['dependency'] = np.sqrt(df['SQBdependency'])\n"
   ]
  },
  {
   "cell_type": "code",
   "execution_count": null,
   "id": "e67c75f4",
   "metadata": {},
   "outputs": [],
   "source": [
    "col_drops =  ['Id', 'idhogar']\n",
    "df.drop(col_drops, axis= 1, inplace= True)"
   ]
  },
  {
   "cell_type": "code",
   "execution_count": null,
   "id": "f1b462b8",
   "metadata": {},
   "outputs": [],
   "source": [
    "Numeric_columns = df.select_dtypes(include=np.number).columns.tolist()\n",
    "Categorical_columns = set(df.columns).difference(set(Numeric_columns))"
   ]
  },
  {
   "cell_type": "code",
   "execution_count": null,
   "id": "87035dca",
   "metadata": {},
   "outputs": [],
   "source": [
    "train_set = df"
   ]
  },
  {
   "cell_type": "code",
   "execution_count": null,
   "id": "15cc49de",
   "metadata": {},
   "outputs": [],
   "source": [
    "df['rent_per_adult'] = df['v2a1']/df['hogar_adul']\n",
    "df['rent_per_person'] = df['v2a1']/df['hhsize']\n",
    "\n",
    "df['overcrowding_room_and_bedroom'] = (df['hacdor'] + df['hacapo'])/2\n",
    "\n",
    "df['no_appliances'] = df['refrig'] + df['computer'] + df['television']\n",
    "\n",
    "df['r4h1_percent_in_male'] = df['r4h1'] / df['r4h3']\n",
    "df['r4m1_percent_in_female'] = df['r4m1'] / df['r4m3']\n",
    "df['r4h1_percent_in_total'] = df['r4h1'] / df['hhsize']\n",
    "df['r4m1_percent_in_total'] = df['r4m1'] / df['hhsize']\n",
    "df['r4t1_percent_in_total'] = df['r4t1'] / df['hhsize']\n",
    "\n",
    "df['adult'] = df['hogar_adul'] - df['hogar_mayor']\n",
    "df['dependency_count'] = train_set['hogar_nin'] + df['hogar_mayor']\n",
    "df['dependency'] = df['dependency_count'] / df['adult']\n",
    "df['child_percent'] = df['hogar_nin']/df['hogar_total']\n",
    "df['elder_percent'] = df['hogar_mayor']/df['hogar_total']\n",
    "df['adult_percent'] = df['hogar_adul']/df['hogar_total']\n",
    "\n",
    "df['rent_per_bedroom'] = df['v2a1']/df['bedrooms']\n",
    "df['adults_per_bedroom'] = df['adult']/df['bedrooms']\n",
    "df['child_per_bedroom'] = df['hogar_nin']/df['bedrooms']\n",
    "df['male_per_bedroom'] = df['r4h3']/df['bedrooms']\n",
    "\n",
    "df['female_per_bedroom'] = df['r4m3']/df['bedrooms']\n",
    "df['bedrooms_per_person_household'] = df['hhsize']/df['bedrooms']\n",
    "\n",
    "df['tablet_per_person_household'] = df['v18q1']/df['hhsize']\n",
    "df['phone_per_person_household'] = df['qmobilephone']/df['hhsize']\n",
    "\n",
    "df['age_12_19'] = df['hogar_nin'] - df['r4t1']\n",
    "\n",
    "df['rent_per_room'] = df['v2a1']/df['rooms']\n",
    "df['bedroom_per_room'] = df['bedrooms']/df['rooms']\n",
    "df['elder_per_room'] = df['hogar_mayor']/df['rooms']\n",
    "df['adults_per_room'] = df['adult']/df['rooms']\n",
    "df['child_per_room'] = df['hogar_nin']/df['rooms']\n",
    "df['male_per_room'] = df['r4h3']/df['rooms']\n",
    "df['female_per_room'] = df['r4m3']/df['rooms']\n",
    "df['room_per_person_household'] = df['hhsize']/df['rooms']\n",
    "df['escolari_age'] = df['escolari']/df['age']\n",
    "\n",
    "df['rez_esc_escolari'] = df['rez_esc']/df['escolari']\n",
    "df['rez_esc_r4t1'] = df['rez_esc']/df['r4t1']\n",
    "df['rez_esc_r4t2'] = df['rez_esc']/df['r4t2']\n",
    "df['rez_esc_r4t3'] = df['rez_esc']/df['r4t3']\n",
    "df['rez_esc_age'] = df['rez_esc']/df['age']"
   ]
  },
  {
   "cell_type": "code",
   "execution_count": null,
   "id": "1af2aa4e",
   "metadata": {},
   "outputs": [],
   "source": [
    "list_drop = list(df.columns[df.isna().any()].tolist())\n",
    "print(list_drop)\n",
    "df.drop(list_drop, axis= 1, inplace= True)"
   ]
  },
  {
   "cell_type": "code",
   "execution_count": null,
   "id": "ba98b660",
   "metadata": {},
   "outputs": [],
   "source": [
    "for i in list(df.columns.to_series()[np.isinf(df).any()]):\n",
    "    df[i].replace([np.inf, -np.inf], 0, inplace=True)\n",
    "print(list(df.columns.to_series()[np.isinf(df).any()]))"
   ]
  },
  {
   "cell_type": "code",
   "execution_count": null,
   "id": "c1724815",
   "metadata": {},
   "outputs": [],
   "source": [
    "from lightgbm import LGBMClassifier\n",
    "from xgboost import XGBClassifier\n",
    "from catboost import CatBoostClassifier\n",
    "\n",
    "from sklearn.linear_model import LogisticRegression\n",
    "from sklearn.model_selection import RepeatedKFold\n",
    "from sklearn.ensemble import StackingClassifier\n",
    "from sklearn.model_selection import cross_validate, cross_val_score\n",
    "from sklearn.model_selection import train_test_split"
   ]
  },
  {
   "cell_type": "code",
   "execution_count": null,
   "id": "345e96f1",
   "metadata": {},
   "outputs": [],
   "source": [
    "x_1 = df.drop('Target', axis=1)\n",
    "y = df['Target']"
   ]
  },
  {
   "cell_type": "code",
   "execution_count": null,
   "id": "dfb69d25",
   "metadata": {},
   "outputs": [],
   "source": [
    "x_train,x_test, y_train,y_test = train_test_split(x_1,y, random_state=42)"
   ]
  },
  {
   "cell_type": "code",
   "execution_count": null,
   "id": "02b949af",
   "metadata": {},
   "outputs": [],
   "source": [
    "Xg=XGBClassifier()\n",
    "Lgbm=LGBMClassifier(n_estimators=100,learning_rate=0.1,random_state=42,num_leaves=200)\n",
    "    \n",
    "Cataboost=CatBoostClassifier(depth=int(9.253),n_estimators=int(514.1))\n",
    "estimators = [('Cataboost', Cataboost), ('Xg', Xg), ('Lgbm', Lgbm)]\n",
    "\n",
    "clf = StackingClassifier(estimators=estimators)"
   ]
  },
  {
   "cell_type": "code",
   "execution_count": null,
   "id": "384e90b3",
   "metadata": {},
   "outputs": [],
   "source": [
    "clf.fit(x_train, y_train)"
   ]
  }
 ],
 "metadata": {
  "kernelspec": {
   "display_name": "Python 3 (ipykernel)",
   "language": "python",
   "name": "python3"
  },
  "language_info": {
   "codemirror_mode": {
    "name": "ipython",
    "version": 3
   },
   "file_extension": ".py",
   "mimetype": "text/x-python",
   "name": "python",
   "nbconvert_exporter": "python",
   "pygments_lexer": "ipython3",
   "version": "3.9.7"
  }
 },
 "nbformat": 4,
 "nbformat_minor": 5
}
